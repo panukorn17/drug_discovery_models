{
 "cells": [
  {
   "cell_type": "code",
   "execution_count": 1,
   "id": "fd92af09",
   "metadata": {},
   "outputs": [],
   "source": [
    "import os\n",
    "import sys\n",
    "nb_dir = os.path.split(os.getcwd())[0]\n",
    "if nb_dir not in sys.path:\n",
    "    sys.path.append(nb_dir)"
   ]
  },
  {
   "cell_type": "code",
   "execution_count": 2,
   "id": "f56a508a",
   "metadata": {},
   "outputs": [
    {
     "name": "stderr",
     "output_type": "stream",
     "text": [
      "/home/teddy_t/miniconda3/lib/python3.9/site-packages/tqdm/auto.py:22: TqdmWarning: IProgress not found. Please update jupyter and ipywidgets. See https://ipywidgets.readthedocs.io/en/stable/user_install.html\n",
      "  from .autonotebook import tqdm as notebook_tqdm\n"
     ]
    }
   ],
   "source": [
    "import pandas as pd\n",
    "import numpy as np\n",
    "import torch\n",
    "import pickle\n",
    "import matplotlib.pyplot as plt\n",
    "import torch.nn as nn\n",
    "import time\n",
    "import itertools\n",
    "from datetime import datetime\n",
    "from rdkit import Chem\n",
    "import csv\n",
    "import copy\n",
    "\n",
    "from tqdm import tqdm\n",
    "from torch.utils.data import Dataset, DataLoader\n",
    "from torch.autograd import Variable\n",
    "from torch.optim import Adam\n",
    "from torch.nn import functional as F\n",
    "from sklearn.decomposition import PCA\n",
    "from sklearn.preprocessing import StandardScaler\n",
    "from collections import OrderedDict\n",
    "from rdkit.Chem import Crippen, QED\n",
    "from joblib import Parallel, delayed\n",
    "\n",
    "from utils.config import Config\n",
    "from utils.config import set_random_seed\n",
    "from learner.dataset import FragmentDataset\n",
    "from learner.model import Loss, Frag2Mol\n",
    "from learner.trainer import Trainer\n",
    "from molecules.conversion import (\n",
    "    mols_from_smiles, mols_to_smiles, mol_to_smiles, canonicalize)\n",
    "from molecules.fragmentation import fragment_iterative, reconstruct\n",
    "from molecules.properties import add_property\n",
    "from molecules.structure import (\n",
    "    add_atom_counts, add_bond_counts, add_ring_counts)\n",
    "from molecules.sascorer.sascorer import calculateScore\n",
    "from learner.skipgram import Vocab"
   ]
  },
  {
   "cell_type": "markdown",
   "id": "bfc45b15",
   "metadata": {},
   "source": [
    "# Plot Latent Space"
   ]
  },
  {
   "cell_type": "code",
   "execution_count": 3,
   "id": "2b4955ed",
   "metadata": {},
   "outputs": [
    {
     "name": "stdout",
     "output_type": "stream",
     "text": [
      "Vocab created/loaded. Size: 90175. Effective size: 90175. Time elapsed: 00:00:00.\n"
     ]
    }
   ],
   "source": [
    "config = pickle.load(open('RUNS/2022-08-08@20:20:02-LAPTOP-E1483HNR-CHEMBL/config/config.pkl', \"rb\"))\n",
    "vocab = pickle.load(open('RUNS/2022-08-08@20:20:02-LAPTOP-E1483HNR-CHEMBL/config/vocab.pkl', \"rb\"))\n",
    "dataset = FragmentDataset(config)\n",
    "vocab = dataset.get_vocab()\n",
    "model = Frag2Mol(config, vocab)\n",
    "#device = torch.device('cuda')\n",
    "#model = model.to(device)"
   ]
  },
  {
   "cell_type": "code",
   "execution_count": 4,
   "id": "0dd547aa",
   "metadata": {},
   "outputs": [
    {
     "name": "stdout",
     "output_type": "stream",
     "text": [
      "loading best_loss.pt at epoch 20...\n"
     ]
    }
   ],
   "source": [
    "load_last = config.get('load_last')\n",
    "trainer, epoch = Trainer.load(config, vocab, last=load_last)\n",
    "model = trainer.model"
   ]
  },
  {
   "cell_type": "code",
   "execution_count": 5,
   "id": "b97223cc",
   "metadata": {},
   "outputs": [
    {
     "data": {
      "text/plain": [
       "Frag2Mol(\n",
       "  (embedder): Embedding(90175, 64)\n",
       "  (latent2rnn): Linear(in_features=100, out_features=64, bias=True)\n",
       "  (encoder): Encoder(\n",
       "    (rnn): GRU(64, 64, num_layers=2, batch_first=True, dropout=0.3)\n",
       "    (rnn2mean): Linear(in_features=128, out_features=100, bias=True)\n",
       "    (rnn2logv): Linear(in_features=128, out_features=100, bias=True)\n",
       "  )\n",
       "  (decoder): Decoder(\n",
       "    (rnn): GRU(64, 64, num_layers=2, batch_first=True, dropout=0.3)\n",
       "    (rnn2out): Linear(in_features=64, out_features=90175, bias=True)\n",
       "  )\n",
       "  (mlp): MLP(\n",
       "    (layers): Sequential(\n",
       "      (0): Linear(in_features=100, out_features=64, bias=True)\n",
       "      (1): ReLU()\n",
       "      (2): Linear(in_features=64, out_features=32, bias=True)\n",
       "      (3): ReLU()\n",
       "      (4): Linear(in_features=32, out_features=1, bias=True)\n",
       "    )\n",
       "  )\n",
       ")"
      ]
     },
     "execution_count": 5,
     "metadata": {},
     "output_type": "execute_result"
    }
   ],
   "source": [
    "model"
   ]
  },
  {
   "cell_type": "code",
   "execution_count": 6,
   "id": "b043a93f",
   "metadata": {},
   "outputs": [
    {
     "name": "stdout",
     "output_type": "stream",
     "text": [
      "Data loaded. Size: 103491. Time elapsed: 00:00:00.\n"
     ]
    },
    {
     "name": "stderr",
     "output_type": "stream",
     "text": [
      "/home/teddy_t/miniconda3/lib/python3.9/site-packages/torch/utils/data/dataloader.py:487: UserWarning: This DataLoader will create 24 worker processes in total. Our suggested max number of worker in current system is 8, which is smaller than what this DataLoader is going to create. Please be aware that excessive worker creation might get DataLoader running slow or even freeze, lower the worker number to avoid potential slowness/freeze if necessary.\n",
      "  warnings.warn(_create_warning_msg(\n"
     ]
    }
   ],
   "source": [
    "loader = dataset.get_loader()\n",
    "#mu_stack = torch.empty((32,100))\n",
    "#latent_output = torch.empty((32,100))\n",
    "data_sample = []\n",
    "rnn2mean_weight = model.encoder.rnn2mean.weight"
   ]
  },
  {
   "cell_type": "code",
   "execution_count": 7,
   "id": "e9b5e9d7",
   "metadata": {},
   "outputs": [
    {
     "data": {
      "text/plain": [
       "Parameter containing:\n",
       "tensor([[ 0.0621, -0.0392,  0.0294,  ..., -0.0526,  0.0293, -0.0486],\n",
       "        [ 0.0308, -0.0068,  0.0622,  ..., -0.0364, -0.0348,  0.0736],\n",
       "        [ 0.0303, -0.0484, -0.0360,  ..., -0.0290, -0.0037,  0.0666],\n",
       "        ...,\n",
       "        [-0.0392, -0.0008, -0.0449,  ...,  0.0891,  0.0552, -0.0401],\n",
       "        [ 0.0887, -0.0270,  0.0727,  ..., -0.0788, -0.0383, -0.0655],\n",
       "        [-0.0337, -0.0394,  0.0813,  ...,  0.0655, -0.0147,  0.0148]],\n",
       "       device='cuda:0', requires_grad=True)"
      ]
     },
     "execution_count": 7,
     "metadata": {},
     "output_type": "execute_result"
    }
   ],
   "source": [
    "rnn2mean_weight"
   ]
  },
  {
   "cell_type": "code",
   "execution_count": 8,
   "id": "5aec5c1d",
   "metadata": {},
   "outputs": [
    {
     "name": "stdout",
     "output_type": "stream",
     "text": [
      "32\n"
     ]
    }
   ],
   "source": [
    "for idx, (src, tgt, lengths, data) in enumerate(loader):\n",
    "    ###\n",
    "    src, tgt = Variable(src), Variable(tgt)\n",
    "    if config.get('use_gpu'):\n",
    "        src = src.cuda()\n",
    "        tgt = tgt.cuda()\n",
    "\n",
    "    output, mu, sigma, z, pred = model.forward(src, lengths)\n",
    "    \n",
    "    model.encoder.rnn2mean.weight.size() == model.encoder.rnn2mean.weight.size()\n",
    "    \n",
    "    ###Teddy Code\n",
    "    data_sample.append(list(data))\n",
    "    if idx == 0:\n",
    "        mu_stack = mu\n",
    "        pred_stack = pred\n",
    "    else:\n",
    "        mu_stack = torch.cat((mu_stack, mu), 0)\n",
    "        pred_stack = torch.cat((pred_stack, pred), 0)\n",
    "    if idx == 0 or idx % 10000 == 0:\n",
    "        print(len(mu_stack))\n",
    "    if len(mu_stack) > 100000:\n",
    "        break"
   ]
  },
  {
   "cell_type": "code",
   "execution_count": 9,
   "id": "7ad1ae18",
   "metadata": {},
   "outputs": [],
   "source": [
    "data_sample_index = [item for sublist in data_sample for item in sublist]"
   ]
  },
  {
   "cell_type": "code",
   "execution_count": 11,
   "id": "42fb15ba",
   "metadata": {},
   "outputs": [
    {
     "data": {
      "text/plain": [
       "array([3.577537 , 3.576546 , 3.575504 , ..., 3.6368408, 3.6368454,\n",
       "       3.6378698], dtype=float32)"
      ]
     },
     "execution_count": 11,
     "metadata": {},
     "output_type": "execute_result"
    }
   ],
   "source": [
    "pred_stack.cpu().detach().numpy()"
   ]
  },
  {
   "cell_type": "code",
   "execution_count": 12,
   "id": "5fe8c248",
   "metadata": {},
   "outputs": [
    {
     "data": {
      "image/png": "[encoded data removed]",
      "text/plain": [
       "<Figure size 864x720 with 2 Axes>"
      ]
     },
     "metadata": {
      "needs_background": "light"
     },
     "output_type": "display_data"
    }
   ],
   "source": [
    "plt.figure(figsize=(12, 10))\n",
    "plt.scatter(mu_stack[:, 1].cpu().detach().numpy(), mu_stack[:, 2].cpu().detach().numpy(), c=pred_stack.cpu().detach().numpy(), alpha=0.7)\n",
    "plt.xlabel(\"z[0]\")\n",
    "plt.ylabel(\"z[1]\")\n",
    "plt.colorbar()\n",
    "#plt.xlim(-0.0025, 0.003)\n",
    "#plt.ylim(-0.0025, 0.0025)\n",
    "plt.show()"
   ]
  },
  {
   "cell_type": "code",
   "execution_count": 13,
   "id": "704a3e85",
   "metadata": {},
   "outputs": [],
   "source": [
    "x = mu_stack.cpu().detach().numpy()\n",
    "x = StandardScaler().fit_transform(x)\n",
    "pca = PCA(n_components=2)\n",
    "principalComponents = pca.fit_transform(x)\n",
    "principalDf = pd.DataFrame(data = principalComponents, columns = ['pc1', 'pc2'])"
   ]
  },
  {
   "cell_type": "code",
   "execution_count": 14,
   "id": "08567f7b",
   "metadata": {},
   "outputs": [
    {
     "data": {
      "text/html": [
       "<div>\n",
       "<style scoped>\n",
       "    .dataframe tbody tr th:only-of-type {\n",
       "        vertical-align: middle;\n",
       "    }\n",
       "\n",
       "    .dataframe tbody tr th {\n",
       "        vertical-align: top;\n",
       "    }\n",
       "\n",
       "    .dataframe thead th {\n",
       "        text-align: right;\n",
       "    }\n",
       "</style>\n",
       "<table border=\"1\" class=\"dataframe\">\n",
       "  <thead>\n",
       "    <tr style=\"text-align: right;\">\n",
       "      <th></th>\n",
       "      <th>pc1</th>\n",
       "      <th>pc2</th>\n",
       "    </tr>\n",
       "  </thead>\n",
       "  <tbody>\n",
       "    <tr>\n",
       "      <th>0</th>\n",
       "      <td>21.128153</td>\n",
       "      <td>-2.429533</td>\n",
       "    </tr>\n",
       "    <tr>\n",
       "      <th>1</th>\n",
       "      <td>21.213844</td>\n",
       "      <td>-1.826611</td>\n",
       "    </tr>\n",
       "    <tr>\n",
       "      <th>2</th>\n",
       "      <td>20.680397</td>\n",
       "      <td>-2.314160</td>\n",
       "    </tr>\n",
       "    <tr>\n",
       "      <th>3</th>\n",
       "      <td>20.543255</td>\n",
       "      <td>-2.310689</td>\n",
       "    </tr>\n",
       "    <tr>\n",
       "      <th>4</th>\n",
       "      <td>20.735634</td>\n",
       "      <td>-2.443031</td>\n",
       "    </tr>\n",
       "    <tr>\n",
       "      <th>...</th>\n",
       "      <td>...</td>\n",
       "      <td>...</td>\n",
       "    </tr>\n",
       "    <tr>\n",
       "      <th>100027</th>\n",
       "      <td>-8.645601</td>\n",
       "      <td>-0.501651</td>\n",
       "    </tr>\n",
       "    <tr>\n",
       "      <th>100028</th>\n",
       "      <td>-8.620724</td>\n",
       "      <td>-0.633658</td>\n",
       "    </tr>\n",
       "    <tr>\n",
       "      <th>100029</th>\n",
       "      <td>-8.559887</td>\n",
       "      <td>-0.187798</td>\n",
       "    </tr>\n",
       "    <tr>\n",
       "      <th>100030</th>\n",
       "      <td>-8.537151</td>\n",
       "      <td>-0.569871</td>\n",
       "    </tr>\n",
       "    <tr>\n",
       "      <th>100031</th>\n",
       "      <td>-8.616324</td>\n",
       "      <td>-0.272634</td>\n",
       "    </tr>\n",
       "  </tbody>\n",
       "</table>\n",
       "<p>100032 rows × 2 columns</p>\n",
       "</div>"
      ],
      "text/plain": [
       "              pc1       pc2\n",
       "0       21.128153 -2.429533\n",
       "1       21.213844 -1.826611\n",
       "2       20.680397 -2.314160\n",
       "3       20.543255 -2.310689\n",
       "4       20.735634 -2.443031\n",
       "...           ...       ...\n",
       "100027  -8.645601 -0.501651\n",
       "100028  -8.620724 -0.633658\n",
       "100029  -8.559887 -0.187798\n",
       "100030  -8.537151 -0.569871\n",
       "100031  -8.616324 -0.272634\n",
       "\n",
       "[100032 rows x 2 columns]"
      ]
     },
     "execution_count": 14,
     "metadata": {},
     "output_type": "execute_result"
    }
   ],
   "source": [
    "principalDf"
   ]
  },
  {
   "cell_type": "code",
   "execution_count": 15,
   "id": "742fed1c",
   "metadata": {},
   "outputs": [
    {
     "data": {
      "image/png": "[encoded data removed]",
      "text/plain": [
       "<Figure size 864x720 with 2 Axes>"
      ]
     },
     "metadata": {
      "needs_background": "light"
     },
     "output_type": "display_data"
    }
   ],
   "source": [
    "plt.figure(figsize=(12, 10))\n",
    "plt.scatter(principalDf['pc1'].to_numpy(), \n",
    "            principalDf['pc2'].to_numpy(), \n",
    "            c=pred_stack.cpu().detach().numpy())\n",
    "plt.xlabel(\"PC1\")\n",
    "plt.ylabel(\"PC2\")\n",
    "plt.colorbar()\n",
    "#plt.xlim(-0.08, -0.075)\n",
    "#plt.ylim(-0.055, -0.05)\n",
    "plt.show()"
   ]
  },
  {
   "cell_type": "markdown",
   "id": "591649bf",
   "metadata": {},
   "source": [
    "# Sampling from Latent Space"
   ]
  },
  {
   "cell_type": "code",
   "execution_count": 16,
   "id": "6489ca3f",
   "metadata": {},
   "outputs": [
    {
     "data": {
      "text/plain": [
       "100"
      ]
     },
     "execution_count": 16,
     "metadata": {},
     "output_type": "execute_result"
    }
   ],
   "source": [
    "model.latent_size"
   ]
  },
  {
   "cell_type": "code",
   "execution_count": 18,
   "id": "6511a925",
   "metadata": {},
   "outputs": [
    {
     "data": {
      "text/plain": [
       "2"
      ]
     },
     "execution_count": 18,
     "metadata": {},
     "output_type": "execute_result"
    }
   ],
   "source": [
    "model.hidden_layers"
   ]
  },
  {
   "cell_type": "code",
   "execution_count": 46,
   "id": "d146c955",
   "metadata": {},
   "outputs": [
    {
     "data": {
      "text/plain": [
       "torch.Size([2, 100, 100])"
      ]
     },
     "execution_count": 46,
     "metadata": {},
     "output_type": "execute_result"
    }
   ],
   "source": [
    "torch.randn((model.hidden_layers, 100, model.latent_size)).shape"
   ]
  },
  {
   "cell_type": "code",
   "execution_count": 5,
   "id": "fd764ebf",
   "metadata": {},
   "outputs": [
    {
     "name": "stdout",
     "output_type": "stream",
     "text": [
      "Sampling seed: 3843559103\n"
     ]
    }
   ],
   "source": [
    "model = model.cpu()\n",
    "model.eval()\n",
    "\n",
    "hidden_layers = model.hidden_layers\n",
    "hidden_size = model.hidden_size\n",
    "\n",
    "def row_filter(row):\n",
    "    return (row == vocab.EOS).any()\n",
    "\n",
    "count = 0\n",
    "total_time = 0\n",
    "batch_size = 100\n",
    "samples, sampled = [], 0\n",
    "\n",
    "max_length = config.get('max_length')\n",
    "temperature = config.get('temperature')\n",
    "\n",
    "seed = set_random_seed()\n",
    "config.set('sampling_seed', seed)\n",
    "print(\"Sampling seed:\", config.get('sampling_seed'))\n",
    "#z = model.encoder.sample_normal(batch_size)"
   ]
  },
  {
   "cell_type": "code",
   "execution_count": 6,
   "id": "1d8ea283",
   "metadata": {},
   "outputs": [
    {
     "ename": "NameError",
     "evalue": "name 'z' is not defined",
     "output_type": "error",
     "traceback": [
      "\u001b[0;31m---------------------------------------------------------------------------\u001b[0m",
      "\u001b[0;31mNameError\u001b[0m                                 Traceback (most recent call last)",
      "Input \u001b[0;32mIn [6]\u001b[0m, in \u001b[0;36m<cell line: 2>\u001b[0;34m()\u001b[0m\n\u001b[1;32m      1\u001b[0m \u001b[38;5;66;03m# get the initial state\u001b[39;00m\n\u001b[0;32m----> 2\u001b[0m state \u001b[38;5;241m=\u001b[39m model\u001b[38;5;241m.\u001b[39mlatent2rnn(\u001b[43mz\u001b[49m\u001b[38;5;241m.\u001b[39mcpu())\n\u001b[1;32m      3\u001b[0m state \u001b[38;5;241m=\u001b[39m state\u001b[38;5;241m.\u001b[39mview(hidden_layers, batch_size, hidden_size)\n",
      "\u001b[0;31mNameError\u001b[0m: name 'z' is not defined"
     ]
    }
   ],
   "source": [
    "# get the initial state\n",
    "state = model.latent2rnn(z.cpu())\n",
    "state = state.view(hidden_layers, batch_size, hidden_size)"
   ]
  },
  {
   "cell_type": "code",
   "execution_count": null,
   "id": "6522222b",
   "metadata": {},
   "outputs": [],
   "source": [
    "state.shape"
   ]
  },
  {
   "cell_type": "code",
   "execution_count": 7,
   "id": "c43aaee8",
   "metadata": {},
   "outputs": [],
   "source": [
    "def update(save_to, sample, running_seqs, step):\n",
    "    # select only still running\n",
    "    running_latest = save_to[running_seqs]\n",
    "    # update token at step position\n",
    "    running_latest[:, step] = sample.data\n",
    "    # save back\n",
    "    save_to[running_seqs] = running_latest\n",
    "\n",
    "    return save_to"
   ]
  },
  {
   "cell_type": "code",
   "execution_count": 8,
   "id": "6d4d5fec",
   "metadata": {},
   "outputs": [],
   "source": [
    "def dump_samples(config, samples):\n",
    "    columns = [\"smiles\", \"fragments\", \"n_fragments\"]\n",
    "    df = pd.DataFrame(samples, columns=columns)\n",
    "    date = datetime.now().strftime('%Y-%m-%d@%X')\n",
    "    filename = config.path('samples') / f\"{date}_{len(samples)}.csv\"\n",
    "    df.to_csv(filename)"
   ]
  },
  {
   "cell_type": "code",
   "execution_count": 9,
   "id": "ecedaf01",
   "metadata": {},
   "outputs": [],
   "source": [
    "def generate_molecules(samples, vocab):\n",
    "    result = []\n",
    "    num_samples = samples.shape[0]\n",
    "\n",
    "    for idx in range(num_samples):\n",
    "        frag_smiles = vocab.translate(samples[idx, :])\n",
    "        frag_smiles = remove_consecutive(frag_smiles)\n",
    "        #print(frag_smiles)\n",
    "\n",
    "        if len(frag_smiles) <= 1:\n",
    "            continue\n",
    "\n",
    "        try:\n",
    "            frag_mols = mols_from_smiles(frag_smiles)\n",
    "            mol, frags = reconstruct(frag_mols)\n",
    "            #print(mol)\n",
    "            if mol is not None:\n",
    "                smiles = mol_to_smiles(mol)\n",
    "                num_frags = len(frags)\n",
    "                frags = \" \".join(mols_to_smiles(frags))\n",
    "                result.append((smiles, frags, num_frags))\n",
    "        except Exception:\n",
    "            continue\n",
    "\n",
    "    return result"
   ]
  },
  {
   "cell_type": "code",
   "execution_count": 10,
   "id": "b4b63b3a",
   "metadata": {},
   "outputs": [],
   "source": [
    "def remove_consecutive(fragments):\n",
    "    return [i for i, _ in itertools.groupby(fragments)]"
   ]
  },
  {
   "cell_type": "code",
   "execution_count": 11,
   "id": "40dc0a5c",
   "metadata": {},
   "outputs": [],
   "source": [
    "num_samples = config.get('num_samples')\n",
    "save_results=True"
   ]
  },
  {
   "cell_type": "code",
   "execution_count": 12,
   "id": "be1261f5",
   "metadata": {},
   "outputs": [
    {
     "name": "stdout",
     "output_type": "stream",
     "text": [
      "Sampling seed: 2142808436\n"
     ]
    },
    {
     "name": "stderr",
     "output_type": "stream",
     "text": [
      "[16:23:59] Explicit valence for atom # 4 C, 5, is greater than permitted\n",
      "[16:23:59] Explicit valence for atom # 4 C, 5, is greater than permitted\n",
      "[16:23:59] Explicit valence for atom # 4 O, 3, is greater than permitted\n"
     ]
    },
    {
     "name": "stdout",
     "output_type": "stream",
     "text": [
      "0 *c1ccccc1 *NCCc1cc(-c2c[nH]c3cccc(Br)c23)nc(N)n1\n",
      "0 Nc1nc(CCNc2ccccc2)cc(-c2c[nH]c3cccc(Br)c23)n1\n"
     ]
    },
    {
     "name": "stderr",
     "output_type": "stream",
     "text": [
      "[16:24:00] Explicit valence for atom # 4 C, 5, is greater than permitted\n"
     ]
    },
    {
     "name": "stdout",
     "output_type": "stream",
     "text": [
      "Sampled 2 molecules. Time elapsed: 00:00:04\n"
     ]
    },
    {
     "name": "stderr",
     "output_type": "stream",
     "text": [
      "[16:24:03] Can't kekulize mol.  Unkekulized atoms: 4 6 8 26\n",
      "[16:24:04] Explicit valence for atom # 4 C, 5, is greater than permitted\n",
      "[16:24:04] Explicit valence for atom # 4 N, 4, is greater than permitted\n"
     ]
    },
    {
     "name": "stdout",
     "output_type": "stream",
     "text": [
      "0 *C1CCC2C3CC(=O)OC(C)(CCCCC#N)C3CCC12C *NCCC(C)CCCCCCC\n",
      "0 CCCCCCCC(C)CCNC1CCC2C3CC(=O)OC(C)(CCCCC#N)C3CCC12C\n"
     ]
    },
    {
     "name": "stderr",
     "output_type": "stream",
     "text": [
      "[16:24:05] Explicit valence for atom # 4 C, 5, is greater than permitted\n",
      "[16:24:05] Explicit valence for atom # 4 C, 5, is greater than permitted\n"
     ]
    },
    {
     "name": "stdout",
     "output_type": "stream",
     "text": [
      "Sampled 3 molecules. Time elapsed: 00:00:03\n"
     ]
    },
    {
     "name": "stderr",
     "output_type": "stream",
     "text": [
      "[16:24:05] Explicit valence for atom # 4 C, 5, is greater than permitted\n",
      "[16:24:06] Explicit valence for atom # 4 C, 5, is greater than permitted\n",
      "[16:24:06] Explicit valence for atom # 4 C, 5, is greater than permitted\n"
     ]
    },
    {
     "name": "stdout",
     "output_type": "stream",
     "text": [
      "0 *N1C2=NCCN2C(=O)c2[nH]c(Br)nc21 *NCCC(C)CCCCCCC\n",
      "0 CCCCCCCC(C)CCNN1C2=NCCN2C(=O)c2[nH]c(Br)nc21\n"
     ]
    },
    {
     "name": "stderr",
     "output_type": "stream",
     "text": [
      "[16:24:07] Explicit valence for atom # 4 C, 5, is greater than permitted\n",
      "[16:24:07] Explicit valence for atom # 4 C, 5, is greater than permitted\n"
     ]
    },
    {
     "name": "stdout",
     "output_type": "stream",
     "text": [
      "0 *NC(*)=O *NCCC(C)CCCCCCC\n",
      "0 *C(=O)NNCCC(C)CCCCCCC\n",
      "1 *S(=O)(=O)c1ccc(Nc2nc(-c3ccc(-c4ccccc4)cc3)cs2)cc1 *C(=O)NNCCC(C)CCCCCCC\n",
      "1 CCCCCCCC(C)CCNNC(=O)S(=O)(=O)c1ccc(Nc2nc(-c3ccc(-c4ccccc4)cc3)cs2)cc1\n"
     ]
    },
    {
     "name": "stderr",
     "output_type": "stream",
     "text": [
      "[16:24:08] Explicit valence for atom # 4 C, 5, is greater than permitted\n"
     ]
    },
    {
     "name": "stdout",
     "output_type": "stream",
     "text": [
      "0 *c1nc(Nc2ccccc2)c2ncn(CC(=O)O)c2n1 *NCCC(C)CCCCCCC\n",
      "0 CCCCCCCC(C)CCNc1nc(Nc2ccccc2)c2ncn(CC(=O)O)c2n1\n",
      "Sampled 6 molecules. Time elapsed: 00:00:04\n"
     ]
    },
    {
     "name": "stderr",
     "output_type": "stream",
     "text": [
      "[16:24:11] Explicit valence for atom # 4 C, 5, is greater than permitted\n",
      "[16:24:11] Explicit valence for atom # 4 C, 5, is greater than permitted\n"
     ]
    },
    {
     "name": "stdout",
     "output_type": "stream",
     "text": [
      "0 *N1CCC2(CC1)CC(CC(=O)NCC1CC1)c1ccccc12 *NCCC(C)O\n",
      "0 CC(O)CCNN1CCC2(CC1)CC(CC(=O)NCC1CC1)c1ccccc12\n"
     ]
    },
    {
     "name": "stderr",
     "output_type": "stream",
     "text": [
      "[16:24:12] Explicit valence for atom # 4 C, 5, is greater than permitted\n",
      "[16:24:13] Explicit valence for atom # 4 C, 5, is greater than permitted\n",
      "[16:24:13] Explicit valence for atom # 4 C, 5, is greater than permitted\n"
     ]
    },
    {
     "name": "stdout",
     "output_type": "stream",
     "text": [
      "Sampled 7 molecules. Time elapsed: 00:00:04\n",
      "0 *N1CCC(c2ccc3[nH]ccc3c2)CC1 *NCCC(C)CCCCCCC\n",
      "0 CCCCCCCC(C)CCNN1CCC(c2ccc3[nH]ccc3c2)CC1\n"
     ]
    },
    {
     "name": "stderr",
     "output_type": "stream",
     "text": [
      "[16:24:15] Explicit valence for atom # 4 C, 5, is greater than permitted\n",
      "[16:24:16] Explicit valence for atom # 4 C, 5, is greater than permitted\n",
      "[16:24:18] Explicit valence for atom # 4 C, 5, is greater than permitted\n",
      "[16:24:18] Explicit valence for atom # 4 C, 5, is greater than permitted\n",
      "[16:24:20] Explicit valence for atom # 4 C, 5, is greater than permitted\n"
     ]
    },
    {
     "name": "stdout",
     "output_type": "stream",
     "text": [
      "Sampled 8 molecules. Time elapsed: 00:00:07\n",
      "0 *NC(*)=O *NCCC(C)CCCCCCC\n",
      "0 *C(=O)NNCCC(C)CCCCCCC\n",
      "1 *C(O)CN1CCC(NCc2cnc3snnc3c2)C(F)C1 *C(=O)NNCCC(C)CCCCCCC\n",
      "1 CCCCCCCC(C)CCNNC(=O)C(O)CN1CCC(NCc2cnc3snnc3c2)C(F)C1\n"
     ]
    },
    {
     "name": "stderr",
     "output_type": "stream",
     "text": [
      "[16:24:22] Explicit valence for atom # 4 C, 5, is greater than permitted\n",
      "[16:24:24] Explicit valence for atom # 4 O, 3, is greater than permitted\n",
      "[16:24:24] Explicit valence for atom # 4 C, 5, is greater than permitted\n",
      "[16:24:25] Explicit valence for atom # 4 C, 5, is greater than permitted\n",
      "[16:24:26] Explicit valence for atom # 4 C, 5, is greater than permitted\n",
      "[16:24:26] Explicit valence for atom # 4 C, 5, is greater than permitted\n"
     ]
    },
    {
     "name": "stdout",
     "output_type": "stream",
     "text": [
      "Sampled 9 molecules. Time elapsed: 00:00:06\n"
     ]
    },
    {
     "name": "stderr",
     "output_type": "stream",
     "text": [
      "[16:24:28] Explicit valence for atom # 4 C, 5, is greater than permitted\n",
      "[16:24:29] Explicit valence for atom # 4 O, 3, is greater than permitted\n",
      "[16:24:29] Explicit valence for atom # 4 O, 3, is greater than permitted\n",
      "[16:24:31] Explicit valence for atom # 4 C, 5, is greater than permitted\n",
      "[16:24:32] Explicit valence for atom # 4 C, 5, is greater than permitted\n"
     ]
    },
    {
     "name": "stdout",
     "output_type": "stream",
     "text": [
      "0 *NC(=N)c1ccc(-c2cc3ccc(C(=N)NC(C)C)cc3o2)cc1 *NCCC(C)CCCCCCC\n",
      "0 CCCCCCCC(C)CCNNC(=N)c1ccc(-c2cc3ccc(C(=N)NC(C)C)cc3o2)cc1\n"
     ]
    },
    {
     "name": "stderr",
     "output_type": "stream",
     "text": [
      "[16:24:33] Explicit valence for atom # 4 C, 5, is greater than permitted\n"
     ]
    },
    {
     "name": "stdout",
     "output_type": "stream",
     "text": [
      "Sampled 10 molecules. Time elapsed: 00:00:06\n"
     ]
    },
    {
     "name": "stderr",
     "output_type": "stream",
     "text": [
      "[16:24:34] Explicit valence for atom # 4 C, 5, is greater than permitted\n"
     ]
    },
    {
     "name": "stdout",
     "output_type": "stream",
     "text": [
      "0 *N1C(CCc2ccc(O)cc2)CCCC1CCc1ccc(O)cc1 *NCCC(C)CCCCCCC\n",
      "0 CCCCCCCC(C)CCNN1C(CCc2ccc(O)cc2)CCCC1CCc1ccc(O)cc1\n"
     ]
    },
    {
     "name": "stderr",
     "output_type": "stream",
     "text": [
      "[16:24:35] Explicit valence for atom # 4 C, 5, is greater than permitted\n",
      "[16:24:36] Explicit valence for atom # 4 C, 5, is greater than permitted\n",
      "[16:24:38] Explicit valence for atom # 4 C, 5, is greater than permitted\n",
      "[16:24:38] Explicit valence for atom # 4 O, 3, is greater than permitted\n",
      "[16:24:39] Explicit valence for atom # 4 C, 5, is greater than permitted\n",
      "[16:24:40] Explicit valence for atom # 4 C, 5, is greater than permitted\n"
     ]
    },
    {
     "name": "stdout",
     "output_type": "stream",
     "text": [
      "Sampled 11 molecules. Time elapsed: 00:00:06\n"
     ]
    },
    {
     "name": "stderr",
     "output_type": "stream",
     "text": [
      "[16:24:41] Explicit valence for atom # 4 C, 5, is greater than permitted\n",
      "[16:24:42] Can't kekulize mol.  Unkekulized atoms: 5 6 7 8 23 24 25\n",
      "[16:24:42] Explicit valence for atom # 4 C, 5, is greater than permitted\n",
      "[16:24:43] Explicit valence for atom # 4 C, 5, is greater than permitted\n"
     ]
    },
    {
     "name": "stdout",
     "output_type": "stream",
     "text": [
      "0 *c1cc(-c2nc(C)c(C)[nH]2)co1 *NCCC(C)O\n",
      "0 Cc1nc(-c2coc(NCCC(C)O)c2)[nH]c1C\n",
      "Sampled 12 molecules. Time elapsed: 00:00:03\n",
      "0 *C12CCC(C(=C)C)C1C1CCC3C4(C)CC(OC(=O)c5ccc(O)cc5)C(O)C(C)(C)C4CCC3(C)C1(C)CC2 *NCCC(C)CCCCCCC\n",
      "0 C=C(C)C1CCC2(NCCC(C)CCCCCCC)CCC3(C)C(CCC4C5(C)CC(OC(=O)c6ccc(O)cc6)C(O)C(C)(C)C5CCC43C)C12\n",
      "0 *Nc1ccc2c(c1)C1CNCC2C1 *NCCC(C)CCCCCCC\n",
      "0 CCCCCCCC(C)CCNNc1ccc2c(c1)C1CNCC2C1\n"
     ]
    },
    {
     "name": "stderr",
     "output_type": "stream",
     "text": [
      "[16:24:46] Explicit valence for atom # 4 C, 5, is greater than permitted\n",
      "[16:24:48] Explicit valence for atom # 4 C, 5, is greater than permitted\n"
     ]
    },
    {
     "name": "stdout",
     "output_type": "stream",
     "text": [
      "0 *CCC(C(=O)NCc1cc(C(F)(F)F)cc(C(F)(F)F)c1)C(C)O *NCCC(C)O\n",
      "0 CC(O)CCNCCC(C(=O)NCc1cc(C(F)(F)F)cc(C(F)(F)F)c1)C(C)O\n",
      "Sampled 15 molecules. Time elapsed: 00:00:04\n"
     ]
    },
    {
     "name": "stderr",
     "output_type": "stream",
     "text": [
      "[16:24:50] Explicit valence for atom # 4 C, 5, is greater than permitted\n",
      "[16:24:51] Explicit valence for atom # 4 C, 5, is greater than permitted\n",
      "[16:24:51] Explicit valence for atom # 4 C, 5, is greater than permitted\n"
     ]
    },
    {
     "name": "stdout",
     "output_type": "stream",
     "text": [
      "Sampled 15 molecules. Time elapsed: 00:00:04\n"
     ]
    },
    {
     "name": "stderr",
     "output_type": "stream",
     "text": [
      "[16:24:53] Explicit valence for atom # 4 C, 5, is greater than permitted\n",
      "[16:24:53] Explicit valence for atom # 4 C, 5, is greater than permitted\n",
      "[16:24:55] Can't kekulize mol.  Unkekulized atoms: 6 7 8 9 10\n",
      "[16:24:55] Explicit valence for atom # 11 C, 5, is greater than permitted\n",
      "[16:24:55] Explicit valence for atom # 4 C, 5, is greater than permitted\n",
      "[16:24:56] Explicit valence for atom # 4 C, 5, is greater than permitted\n",
      "[16:24:56] Can't kekulize mol.  Unkekulized atoms: 4 8 9 10 11 18 21 22 23 24\n",
      "[16:24:57] Can't kekulize mol.  Unkekulized atoms: 13 14 15 16 17 18 24 25 26\n",
      "[16:24:57] Explicit valence for atom # 4 C, 5, is greater than permitted\n",
      "[16:24:58] Explicit valence for atom # 4 C, 5, is greater than permitted\n"
     ]
    },
    {
     "name": "stdout",
     "output_type": "stream",
     "text": [
      "0 *CC(CC)(CC)NC(=O)C(Cc1ccc(OC)c(OC)c1)Nc1ccc(C#N)c2ccccc12 *NCCC(C)CCCCCCC\n",
      "0 CCCCCCCC(C)CCNCC(CC)(CC)NC(=O)C(Cc1ccc(OC)c(OC)c1)Nc1ccc(C#N)c2ccccc12\n",
      "Sampled 16 molecules. Time elapsed: 00:00:05\n",
      "0 *S(=O)(=O)c1cccc2c1OCC(c1nc3ccc(-c4ccnc(N)n4)cc3[nH]1)C2 *NCCC(C)O\n",
      "0 CC(O)CCNS(=O)(=O)c1cccc2c1OCC(c1nc3ccc(-c4ccnc(N)n4)cc3[nH]1)C2\n",
      "0 *Nc1cccc(NC(=O)C2C3CC4OC(=O)C2C4C3)c1 *NCCC(C)CCCCCCC\n",
      "0 CCCCCCCC(C)CCNNc1cccc(NC(=O)C2C3CC4OC(=O)C2C4C3)c1\n"
     ]
    },
    {
     "name": "stderr",
     "output_type": "stream",
     "text": [
      "[16:25:02] Explicit valence for atom # 4 C, 5, is greater than permitted\n",
      "[16:25:02] Can't kekulize mol.  Unkekulized atoms: 5 6 7 8 23 24 25\n",
      "[16:25:03] Explicit valence for atom # 4 C, 5, is greater than permitted\n"
     ]
    },
    {
     "name": "stdout",
     "output_type": "stream",
     "text": [
      "Sampled 19 molecules. Time elapsed: 00:00:05\n"
     ]
    },
    {
     "name": "stderr",
     "output_type": "stream",
     "text": [
      "[16:25:04] Explicit valence for atom # 4 C, 5, is greater than permitted\n",
      "[16:25:04] Explicit valence for atom # 4 C, 5, is greater than permitted\n"
     ]
    },
    {
     "name": "stdout",
     "output_type": "stream",
     "text": [
      "0 *NC(c1ccco1)c1cc(Cl)c2cccnc2c1OC *NCCC(C)O\n",
      "0 COc1c(C(NNCCC(C)O)c2ccco2)cc(Cl)c2cccnc12\n",
      "0 *c1ccc(N2CCN(C3CCCC3)CC2)cc1 *NCCC(C)O\n",
      "0 CC(O)CCNc1ccc(N2CCN(C3CCCC3)CC2)cc1\n"
     ]
    },
    {
     "name": "stderr",
     "output_type": "stream",
     "text": [
      "[16:25:05] Explicit valence for atom # 6 O, 3, is greater than permitted\n",
      "[16:25:05] Explicit valence for atom # 4 C, 5, is greater than permitted\n",
      "[16:25:06] Explicit valence for atom # 4 C, 5, is greater than permitted\n",
      "[16:25:07] Explicit valence for atom # 4 C, 5, is greater than permitted\n"
     ]
    },
    {
     "name": "stdout",
     "output_type": "stream",
     "text": [
      "0 *CC(NC(=O)c1ccccc1-c1ccccc1C(=O)NC(Cc1c[nH]cn1)C(=O)OC)C(=O)OC *NCCC(C)CCCCCCC\n",
      "0 CCCCCCCC(C)CCNCC(NC(=O)c1ccccc1-c1ccccc1C(=O)NC(Cc1c[nH]cn1)C(=O)OC)C(=O)OC\n",
      "Sampled 22 molecules. Time elapsed: 00:00:04\n"
     ]
    },
    {
     "name": "stderr",
     "output_type": "stream",
     "text": [
      "[16:25:09] Explicit valence for atom # 4 C, 5, is greater than permitted\n"
     ]
    },
    {
     "name": "stdout",
     "output_type": "stream",
     "text": [
      "0 *=NC(CO)c1cccc(C(F)F)c1 *NCCC(C)CCCCCCC\n",
      "0 CCCCCCCC(C)CCN=NC(CO)c1cccc(C(F)F)c1\n",
      "0 *Nc1ccc(NC(=O)c2sc3sccc3c2Cl)cc1 *NCCC(C)O\n",
      "0 CC(O)CCNNc1ccc(NC(=O)c2sc3sccc3c2Cl)cc1\n"
     ]
    },
    {
     "name": "stderr",
     "output_type": "stream",
     "text": [
      "[16:25:09] Explicit valence for atom # 4 C, 5, is greater than permitted\n",
      "[16:25:10] Can't kekulize mol.  Unkekulized atoms: 5 16 17 18 19 22 23\n",
      "[16:25:11] Explicit valence for atom # 4 C, 5, is greater than permitted\n",
      "[16:25:13] Explicit valence for atom # 4 C, 5, is greater than permitted\n",
      "[16:25:13] Explicit valence for atom # 4 C, 5, is greater than permitted\n"
     ]
    },
    {
     "name": "stdout",
     "output_type": "stream",
     "text": [
      "Sampled 24 molecules. Time elapsed: 00:00:04\n"
     ]
    },
    {
     "name": "stderr",
     "output_type": "stream",
     "text": [
      "[16:25:14] Explicit valence for atom # 4 C, 5, is greater than permitted\n"
     ]
    },
    {
     "name": "stdout",
     "output_type": "stream",
     "text": [
      "0 *NC(*)=O *NCCC(C)CCCCCCC\n",
      "0 *C(=O)NNCCC(C)CCCCCCC\n",
      "1 *n1cc(C(=O)NC23CC4CC(CC(C4)C2)C3)c(=O)n2ncnc12 *C(=O)NNCCC(C)CCCCCCC\n",
      "1 CCCCCCCC(C)CCNNC(=O)n1cc(C(=O)NC23CC4CC(CC(C4)C2)C3)c(=O)n2ncnc12\n",
      "0 *C(CC)N=C(O)CC(N)C(C)C *NCCC(C)O\n",
      "0 CCC(N=C(O)CC(N)C(C)C)NCCC(C)O\n"
     ]
    },
    {
     "name": "stderr",
     "output_type": "stream",
     "text": [
      "[16:25:17] Explicit valence for atom # 4 C, 5, is greater than permitted\n",
      "[16:25:18] Explicit valence for atom # 4 C, 5, is greater than permitted\n"
     ]
    },
    {
     "name": "stdout",
     "output_type": "stream",
     "text": [
      "Sampled 26 molecules. Time elapsed: 00:00:05\n",
      "Sampled 27 molecules. Time elapsed: 00:00:04\n"
     ]
    },
    {
     "name": "stderr",
     "output_type": "stream",
     "text": [
      "[16:25:23] Can't kekulize mol.  Unkekulized atoms: 14 42\n",
      "[16:25:23] Explicit valence for atom # 4 C, 5, is greater than permitted\n"
     ]
    },
    {
     "name": "stdout",
     "output_type": "stream",
     "text": [
      "0 *Cc1cnc(C2CCN(C(=O)c3cc(F)cc(F)c3)C2)[nH]1 *NCCC(C)CCCCCCC\n",
      "0 CCCCCCCC(C)CCNCc1cnc(C2CCN(C(=O)c3cc(F)cc(F)c3)C2)[nH]1\n"
     ]
    },
    {
     "name": "stderr",
     "output_type": "stream",
     "text": [
      "[16:25:25] Explicit valence for atom # 4 C, 5, is greater than permitted\n",
      "[16:25:25] Explicit valence for atom # 4 C, 5, is greater than permitted\n",
      "[16:25:25] Explicit valence for atom # 4 C, 5, is greater than permitted\n",
      "[16:25:26] Explicit valence for atom # 4 C, 5, is greater than permitted\n",
      "[16:25:27] Explicit valence for atom # 4 C, 5, is greater than permitted\n"
     ]
    },
    {
     "name": "stdout",
     "output_type": "stream",
     "text": [
      "Sampled 28 molecules. Time elapsed: 00:00:04\n"
     ]
    },
    {
     "name": "stderr",
     "output_type": "stream",
     "text": [
      "[16:25:29] Explicit valence for atom # 4 C, 5, is greater than permitted\n",
      "[16:25:29] Explicit valence for atom # 4 O, 3, is greater than permitted\n",
      "[16:25:30] Explicit valence for atom # 4 S, 7, is greater than permitted\n"
     ]
    },
    {
     "name": "stdout",
     "output_type": "stream",
     "text": [
      "Sampled 28 molecules. Time elapsed: 00:00:03\n",
      "0 *C(=O)c1[nH]nc2c1C(=O)N(CC)C2=O *NCCC(C)CCCCCCC\n",
      "0 CCCCCCCC(C)CCNC(=O)c1[nH]nc2c1C(=O)N(CC)C2=O\n"
     ]
    },
    {
     "name": "stderr",
     "output_type": "stream",
     "text": [
      "[16:25:32] Explicit valence for atom # 4 C, 5, is greater than permitted\n"
     ]
    },
    {
     "name": "stdout",
     "output_type": "stream",
     "text": [
      "0 *COc1cc([N+](=O)[O-])ccc1OC *NCCC(C)CCCCCCC\n",
      "0 CCCCCCCC(C)CCNCOc1cc([N+](=O)[O-])ccc1OC\n"
     ]
    },
    {
     "name": "stderr",
     "output_type": "stream",
     "text": [
      "[16:25:32] Explicit valence for atom # 4 C, 5, is greater than permitted\n",
      "[16:25:33] Explicit valence for atom # 4 C, 5, is greater than permitted\n"
     ]
    },
    {
     "name": "stdout",
     "output_type": "stream",
     "text": [
      "0 *c1cc(Cl)c(OCc2ccc(OC3CCOCC3)cc2)c(OC)c1 *NCCC(C)O\n",
      "0 COc1cc(NCCC(C)O)cc(Cl)c1OCc1ccc(OC2CCOCC2)cc1\n"
     ]
    },
    {
     "name": "stderr",
     "output_type": "stream",
     "text": [
      "[16:25:34] Can't kekulize mol.  Unkekulized atoms: 6 7 9\n",
      "[16:25:34] Explicit valence for atom # 4 C, 5, is greater than permitted\n"
     ]
    },
    {
     "name": "stdout",
     "output_type": "stream",
     "text": [
      "Sampled 31 molecules. Time elapsed: 00:00:04\n"
     ]
    },
    {
     "name": "stderr",
     "output_type": "stream",
     "text": [
      "[16:25:37] Explicit valence for atom # 4 C, 5, is greater than permitted\n",
      "[16:25:38] Explicit valence for atom # 4 C, 5, is greater than permitted\n",
      "[16:25:38] Explicit valence for atom # 4 C, 5, is greater than permitted\n",
      "[16:25:39] Explicit valence for atom # 4 C, 5, is greater than permitted\n"
     ]
    },
    {
     "name": "stdout",
     "output_type": "stream",
     "text": [
      "Sampled 31 molecules. Time elapsed: 00:00:03\n",
      "0 *c1cccc2nc(C)c(NC3(C)CCCCC3)nc12 *NCCC(C)CCCCCCC\n",
      "0 CCCCCCCC(C)CCNc1cccc2nc(C)c(NC3(C)CCCCC3)nc12\n"
     ]
    },
    {
     "name": "stderr",
     "output_type": "stream",
     "text": [
      "[16:25:42] Explicit valence for atom # 4 O, 3, is greater than permitted\n",
      "[16:25:43] Explicit valence for atom # 4 C, 5, is greater than permitted\n",
      "[16:25:44] Explicit valence for atom # 4 C, 5, is greater than permitted\n",
      "[16:25:44] Explicit valence for atom # 4 C, 5, is greater than permitted\n",
      "[16:25:44] Explicit valence for atom # 4 O, 3, is greater than permitted\n"
     ]
    },
    {
     "name": "stdout",
     "output_type": "stream",
     "text": [
      "Sampled 32 molecules. Time elapsed: 00:00:05\n"
     ]
    },
    {
     "name": "stderr",
     "output_type": "stream",
     "text": [
      "[16:25:46] Explicit valence for atom # 4 C, 5, is greater than permitted\n",
      "[16:25:48] Explicit valence for atom # 4 C, 5, is greater than permitted\n"
     ]
    },
    {
     "name": "stdout",
     "output_type": "stream",
     "text": [
      "0 *OC(O)=C1C(C)=Nc2ncnn2C1c1ccc(OC)c(OC)c1 *NCCC(C)CCCCCCC\n",
      "0 CCCCCCCC(C)CCNOC(O)=C1C(C)=Nc2ncnn2C1c1ccc(OC)c(OC)c1\n"
     ]
    },
    {
     "name": "stderr",
     "output_type": "stream",
     "text": [
      "[16:25:50] Explicit valence for atom # 4 C, 5, is greater than permitted\n",
      "[16:25:50] Explicit valence for atom # 4 O, 3, is greater than permitted\n"
     ]
    },
    {
     "name": "stdout",
     "output_type": "stream",
     "text": [
      "Sampled 34 molecules. Time elapsed: 00:00:06\n"
     ]
    },
    {
     "name": "stderr",
     "output_type": "stream",
     "text": [
      "[16:25:52] Explicit valence for atom # 4 C, 5, is greater than permitted\n",
      "[16:25:52] Explicit valence for atom # 4 C, 5, is greater than permitted\n",
      "[16:25:53] Explicit valence for atom # 4 O, 3, is greater than permitted\n",
      "[16:25:54] Explicit valence for atom # 4 C, 5, is greater than permitted\n",
      "[16:25:56] Explicit valence for atom # 4 C, 5, is greater than permitted\n"
     ]
    },
    {
     "name": "stdout",
     "output_type": "stream",
     "text": [
      "Sampled 35 molecules. Time elapsed: 00:00:04\n"
     ]
    },
    {
     "name": "stderr",
     "output_type": "stream",
     "text": [
      "[16:25:56] Explicit valence for atom # 4 C, 5, is greater than permitted\n",
      "[16:25:57] Explicit valence for atom # 4 C, 5, is greater than permitted\n"
     ]
    },
    {
     "name": "stdout",
     "output_type": "stream",
     "text": [
      "0 *OC(=O)c1cc(C=Cc2ccc(OC)nc2)on1 *NCCC(C)O\n",
      "0 COc1ccc(C=Cc2cc(C(=O)ONCCC(C)O)no2)cn1\n"
     ]
    },
    {
     "name": "stderr",
     "output_type": "stream",
     "text": [
      "[16:25:58] Explicit valence for atom # 4 C, 5, is greater than permitted\n",
      "[16:25:58] Explicit valence for atom # 4 C, 5, is greater than permitted\n"
     ]
    },
    {
     "name": "stdout",
     "output_type": "stream",
     "text": [
      "0 *C(=O)C(CC1CCCCC1)Nc1nc2ccc(Cl)cc2o1 *NCCC(C)O\n",
      "0 CC(O)CCNC(=O)C(CC1CCCCC1)Nc1nc2ccc(Cl)cc2o1\n"
     ]
    },
    {
     "name": "stderr",
     "output_type": "stream",
     "text": [
      "[16:25:59] Explicit valence for atom # 4 C, 5, is greater than permitted\n"
     ]
    },
    {
     "name": "stdout",
     "output_type": "stream",
     "text": [
      "Sampled 37 molecules. Time elapsed: 00:00:03\n",
      "0 *c1ccc2[nH]c3ncnc(NC4CCCCCC4)c3c2c1 *NCCC(C)CCCCCCC\n",
      "0 CCCCCCCC(C)CCNc1ccc2[nH]c3ncnc(NC4CCCCCC4)c3c2c1\n"
     ]
    },
    {
     "name": "stderr",
     "output_type": "stream",
     "text": [
      "[16:26:02] Explicit valence for atom # 4 C, 5, is greater than permitted\n",
      "[16:26:03] Explicit valence for atom # 4 C, 5, is greater than permitted\n"
     ]
    },
    {
     "name": "stdout",
     "output_type": "stream",
     "text": [
      "0 *c1cc(C(C)(C)C#N)no1 *NCCC(C)O\n",
      "0 CC(O)CCNc1cc(C(C)(C)C#N)no1\n"
     ]
    },
    {
     "name": "stderr",
     "output_type": "stream",
     "text": [
      "[16:26:03] Explicit valence for atom # 4 C, 5, is greater than permitted\n",
      "[16:26:04] Explicit valence for atom # 4 C, 5, is greater than permitted\n"
     ]
    },
    {
     "name": "stdout",
     "output_type": "stream",
     "text": [
      "0 *NC(*)=O *NCCC(C)CCCCCCC\n",
      "0 *C(=O)NNCCC(C)CCCCCCC\n",
      "1 *c1nnc(SCC(=O)Nc2ccccc2Cl)[nH]1 *C(=O)NNCCC(C)CCCCCCC\n",
      "1 CCCCCCCC(C)CCNNC(=O)c1nnc(SCC(=O)Nc2ccccc2Cl)[nH]1\n"
     ]
    },
    {
     "name": "stderr",
     "output_type": "stream",
     "text": [
      "[16:26:05] Explicit valence for atom # 4 O, 3, is greater than permitted\n",
      "[16:26:06] Explicit valence for atom # 4 C, 5, is greater than permitted\n"
     ]
    },
    {
     "name": "stdout",
     "output_type": "stream",
     "text": [
      "0 *CCOc1cccc(-c2cc3cc(C4=NCCN4)ccc3o2)c1 *NCCC(C)CCCCCCC\n",
      "0 CCCCCCCC(C)CCNCCOc1cccc(-c2cc3cc(C4=NCCN4)ccc3o2)c1\n",
      "Sampled 41 molecules. Time elapsed: 00:00:06\n"
     ]
    },
    {
     "name": "stderr",
     "output_type": "stream",
     "text": [
      "[16:26:06] Explicit valence for atom # 4 C, 5, is greater than permitted\n",
      "[16:26:07] Explicit valence for atom # 4 C, 5, is greater than permitted\n",
      "[16:26:07] Explicit valence for atom # 4 C, 5, is greater than permitted\n",
      "[16:26:08] Explicit valence for atom # 4 C, 5, is greater than permitted\n",
      "[16:26:08] Explicit valence for atom # 4 C, 5, is greater than permitted\n",
      "[16:26:09] Explicit valence for atom # 4 C, 5, is greater than permitted\n"
     ]
    },
    {
     "name": "stdout",
     "output_type": "stream",
     "text": [
      "0 *OC(c1ccc(F)cc1)C1CNCCO1 *NCCC(C)CCCCCCC\n",
      "0 CCCCCCCC(C)CCNOC(c1ccc(F)cc1)C1CNCCO1\n",
      "0 *c1nnc(SCc2ccc(C)cc2)n1Cc1ccc(NC(=O)c2ccccc2C(=O)O)cc1 *NCCC(C)O\n",
      "0 Cc1ccc(CSc2nnc(NCCC(C)O)n2Cc2ccc(NC(=O)c3ccccc3C(=O)O)cc2)cc1\n",
      "Sampled 43 molecules. Time elapsed: 00:00:05\n",
      "0 *c1cn2c3c(c(N4CCSCC4)c(F)cc3c1=O)SCC2 *NCCC(C)O\n",
      "0 CC(O)CCNc1cn2c3c(c(N4CCSCC4)c(F)cc3c1=O)SCC2\n"
     ]
    },
    {
     "name": "stderr",
     "output_type": "stream",
     "text": [
      "[16:26:12] Explicit valence for atom # 4 C, 5, is greater than permitted\n",
      "[16:26:13] Explicit valence for atom # 4 C, 5, is greater than permitted\n",
      "[16:26:13] Explicit valence for atom # 4 C, 5, is greater than permitted\n",
      "[16:26:14] Explicit valence for atom # 4 O, 3, is greater than permitted\n",
      "[16:26:16] Explicit valence for atom # 4 C, 5, is greater than permitted\n"
     ]
    },
    {
     "name": "stdout",
     "output_type": "stream",
     "text": [
      "Sampled 44 molecules. Time elapsed: 00:00:05\n"
     ]
    },
    {
     "name": "stderr",
     "output_type": "stream",
     "text": [
      "[16:26:17] Explicit valence for atom # 4 C, 5, is greater than permitted\n",
      "[16:26:17] Explicit valence for atom # 4 O, 3, is greater than permitted\n",
      "[16:26:18] Explicit valence for atom # 5 C, 5, is greater than permitted\n",
      "[16:26:21] Explicit valence for atom # 4 O, 3, is greater than permitted\n",
      "[16:26:21] Explicit valence for atom # 4 C, 5, is greater than permitted\n"
     ]
    },
    {
     "name": "stdout",
     "output_type": "stream",
     "text": [
      "Sampled 44 molecules. Time elapsed: 00:00:05\n"
     ]
    },
    {
     "name": "stderr",
     "output_type": "stream",
     "text": [
      "[16:26:24] Explicit valence for atom # 4 C, 5, is greater than permitted\n",
      "[16:26:25] Explicit valence for atom # 4 C, 5, is greater than permitted\n",
      "[16:26:25] Explicit valence for atom # 4 C, 5, is greater than permitted\n"
     ]
    },
    {
     "name": "stdout",
     "output_type": "stream",
     "text": [
      "Sampled 44 molecules. Time elapsed: 00:00:03\n"
     ]
    },
    {
     "name": "stderr",
     "output_type": "stream",
     "text": [
      "[16:26:27] Explicit valence for atom # 4 C, 5, is greater than permitted\n",
      "[16:26:27] Explicit valence for atom # 4 C, 5, is greater than permitted\n",
      "[16:26:29] Explicit valence for atom # 4 C, 5, is greater than permitted\n"
     ]
    },
    {
     "name": "stdout",
     "output_type": "stream",
     "text": [
      "Sampled 44 molecules. Time elapsed: 00:00:03\n",
      "0 *n1cc(-c2cccc(Cl)c2Cl)nn1 *NCCC(C)CCCCCCC\n",
      "0 CCCCCCCC(C)CCNn1cc(-c2cccc(Cl)c2Cl)nn1\n"
     ]
    },
    {
     "name": "stderr",
     "output_type": "stream",
     "text": [
      "[16:26:31] Explicit valence for atom # 4 C, 5, is greater than permitted\n",
      "[16:26:31] Explicit valence for atom # 4 C, 5, is greater than permitted\n",
      "[16:26:31] Explicit valence for atom # 4 C, 5, is greater than permitted\n"
     ]
    },
    {
     "name": "stdout",
     "output_type": "stream",
     "text": [
      "0 *C1CN(c2ccc(F)c(-c3n[nH]c4ncccc34)n2)CC(C)N1 *NCCC(C)CCCCCCC\n",
      "0 CCCCCCCC(C)CCNC1CN(c2ccc(F)c(-c3n[nH]c4ncccc34)n2)CC(C)N1\n"
     ]
    },
    {
     "name": "stderr",
     "output_type": "stream",
     "text": [
      "[16:26:33] Explicit valence for atom # 4 C, 5, is greater than permitted\n"
     ]
    },
    {
     "name": "stdout",
     "output_type": "stream",
     "text": [
      "0 *c1ccc(S(=O)(=O)c2cc(F)cc(OC)c2)cc1 *NCCC(C)O\n",
      "0 COc1cc(F)cc(S(=O)(=O)c2ccc(NCCC(C)O)cc2)c1\n",
      "0 *N[S+](=O)([O-])c1ccc(N(C)CCCN(C)C)nc1 *NCCC(C)O\n",
      "0 CC(O)CCNN[S+](=O)([O-])c1ccc(N(C)CCCN(C)C)nc1\n"
     ]
    },
    {
     "name": "stderr",
     "output_type": "stream",
     "text": [
      "[16:26:34] Can't kekulize mol.  Unkekulized atoms: 14 15 16 17 18\n",
      "[16:26:34] Explicit valence for atom # 4 C, 5, is greater than permitted\n"
     ]
    },
    {
     "name": "stdout",
     "output_type": "stream",
     "text": [
      "Sampled 48 molecules. Time elapsed: 00:00:04\n",
      "0 *C1CC(C=C)C(C(CC(C)C)NC(C)=O)N1 *NCCC(C)O\n",
      "0 C=CC1CC(NCCC(C)O)NC1C(CC(C)C)NC(C)=O\n"
     ]
    },
    {
     "name": "stderr",
     "output_type": "stream",
     "text": [
      "[16:26:37] Explicit valence for atom # 4 C, 5, is greater than permitted\n"
     ]
    },
    {
     "name": "stdout",
     "output_type": "stream",
     "text": [
      "Sampled 49 molecules. Time elapsed: 00:00:05\n"
     ]
    },
    {
     "name": "stderr",
     "output_type": "stream",
     "text": [
      "[16:26:41] Explicit valence for atom # 4 C, 5, is greater than permitted\n",
      "[16:26:41] Explicit valence for atom # 4 C, 5, is greater than permitted\n",
      "[16:26:42] Explicit valence for atom # 4 C, 5, is greater than permitted\n",
      "[16:26:42] Explicit valence for atom # 4 C, 5, is greater than permitted\n"
     ]
    },
    {
     "name": "stdout",
     "output_type": "stream",
     "text": [
      "0 *C1NCCOc2ccccc2CCCNC(=O)C(Cc2ccc(-c3ccccc3)cc2)NC(=O)C(C)N(C)C1=O *NCCC(C)CCCCCCC\n",
      "0 CCCCCCCC(C)CCNC1NCCOc2ccccc2CCCNC(=O)C(Cc2ccc(-c3ccccc3)cc2)NC(=O)C(C)N(C)C1=O\n"
     ]
    },
    {
     "name": "stderr",
     "output_type": "stream",
     "text": [
      "[16:26:46] Explicit valence for atom # 4 O, 3, is greater than permitted\n",
      "[16:26:46] Explicit valence for atom # 4 C, 5, is greater than permitted\n"
     ]
    },
    {
     "name": "stdout",
     "output_type": "stream",
     "text": [
      "0 *c1c(C)[nH]c2c(OC)cccc2c1=O *NCCC(C)CCCCCCC\n",
      "0 CCCCCCCC(C)CCNc1c(C)[nH]c2c(OC)cccc2c1=O\n"
     ]
    },
    {
     "name": "stderr",
     "output_type": "stream",
     "text": [
      "[16:26:49] Explicit valence for atom # 4 C, 5, is greater than permitted\n",
      "[16:26:49] Explicit valence for atom # 4 C, 5, is greater than permitted\n",
      "[16:26:49] Explicit valence for atom # 4 C, 5, is greater than permitted\n",
      "[16:26:49] Explicit valence for atom # 4 C, 5, is greater than permitted\n"
     ]
    },
    {
     "name": "stdout",
     "output_type": "stream",
     "text": [
      "0 *N(c1cccc(C#N)c1)S(=O)(=O)c1ccc(OC2CCN(S(C)(=O)=O)CC2)cc1 *NCCC(=C)C\n",
      "0 C=C(C)CCNN(c1cccc(C#N)c1)S(=O)(=O)c1ccc(OC2CCN(S(C)(=O)=O)CC2)cc1\n"
     ]
    },
    {
     "name": "stderr",
     "output_type": "stream",
     "text": [
      "[16:26:53] Explicit valence for atom # 4 C, 5, is greater than permitted\n",
      "[16:26:54] Explicit valence for atom # 4 C, 5, is greater than permitted\n"
     ]
    },
    {
     "name": "stdout",
     "output_type": "stream",
     "text": [
      "0 *C(C)(Cc1c[nH]c2ccccc12)NC(=O)OCc1cccc(NS(C)(=O)=O)c1 *NCCC(C)O\n",
      "0 CC(O)CCNC(C)(Cc1c[nH]c2ccccc12)NC(=O)OCc1cccc(NS(C)(=O)=O)c1\n"
     ]
    },
    {
     "name": "stderr",
     "output_type": "stream",
     "text": [
      "[16:26:55] Explicit valence for atom # 4 C, 5, is greater than permitted\n"
     ]
    },
    {
     "name": "stdout",
     "output_type": "stream",
     "text": [
      "0 *NC(=N)c1ccc2[nH]c(-c3ccc(-c4nc5cc(C(=N)NC6CCCC6)ccc5[nH]4)o3)nc2c1 *NCCC(C)CCCCCCC\n",
      "0 CCCCCCCC(C)CCNNC(=N)c1ccc2[nH]c(-c3ccc(-c4nc5cc(C(=N)NC6CCCC6)ccc5[nH]4)o3)nc2c1\n"
     ]
    },
    {
     "name": "stderr",
     "output_type": "stream",
     "text": [
      "[16:26:56] Explicit valence for atom # 4 C, 5, is greater than permitted\n",
      "[16:26:56] Explicit valence for atom # 4 C, 5, is greater than permitted\n",
      "[16:26:56] Explicit valence for atom # 4 O, 3, is greater than permitted\n",
      "[16:26:56] Explicit valence for atom # 4 C, 5, is greater than permitted\n"
     ]
    },
    {
     "name": "stdout",
     "output_type": "stream",
     "text": [
      "0 *N(C)C(=O)CNC(=O)Cc1cccc(O)c1 *NCCC(C)O\n",
      "0 CC(O)CCNN(C)C(=O)CNC(=O)Cc1cccc(O)c1\n"
     ]
    },
    {
     "name": "stderr",
     "output_type": "stream",
     "text": [
      "[16:26:58] Explicit valence for atom # 4 C, 5, is greater than permitted\n",
      "[16:26:59] Explicit valence for atom # 4 C, 5, is greater than permitted\n"
     ]
    },
    {
     "name": "stdout",
     "output_type": "stream",
     "text": [
      "0 *C(=O)c1ccc2nc3c(cc2c1)CCCN3C *NCCC(C)CCCCCCC\n",
      "0 CCCCCCCC(C)CCNC(=O)c1ccc2nc3c(cc2c1)CCCN3C\n"
     ]
    },
    {
     "name": "stderr",
     "output_type": "stream",
     "text": [
      "[16:27:01] Explicit valence for atom # 4 C, 5, is greater than permitted\n",
      "[16:27:03] Explicit valence for atom # 4 C, 5, is greater than permitted\n"
     ]
    },
    {
     "name": "stdout",
     "output_type": "stream",
     "text": [
      "0 *c1ccc(C2=C(C(=O)OC)C3CCC(C2)N3C(=O)NCc2cccc3ccccc23)cc1F *NCCC(C)CCCCCCC\n",
      "0 CCCCCCCC(C)CCNc1ccc(C2=C(C(=O)OC)C3CCC(C2)N3C(=O)NCc2cccc3ccccc23)cc1F\n"
     ]
    },
    {
     "name": "stderr",
     "output_type": "stream",
     "text": [
      "[16:27:04] Explicit valence for atom # 4 C, 5, is greater than permitted\n",
      "[16:27:04] Explicit valence for atom # 4 C, 5, is greater than permitted\n",
      "[16:27:05] Explicit valence for atom # 4 C, 5, is greater than permitted\n",
      "[16:27:05] Explicit valence for atom # 4 C, 5, is greater than permitted\n",
      "[16:27:05] Explicit valence for atom # 4 C, 5, is greater than permitted\n"
     ]
    },
    {
     "name": "stdout",
     "output_type": "stream",
     "text": [
      "0 *Nc1cc(C)nc(-c2ccc(NC(=O)NCC)c(OC)c2)n1 *NCCC(C)CCCCCCC\n",
      "0 CCCCCCCC(C)CCNNc1cc(C)nc(-c2ccc(NC(=O)NCC)c(OC)c2)n1\n",
      "0 *N(CC(=O)NCCN1CCOCC1)c1ccc(C(C)C)cc1 *NCCC(C)CCCCCCC\n",
      "0 CCCCCCCC(C)CCNN(CC(=O)NCCN1CCOCC1)c1ccc(C(C)C)cc1\n"
     ]
    },
    {
     "name": "stderr",
     "output_type": "stream",
     "text": [
      "[16:27:07] Explicit valence for atom # 4 C, 5, is greater than permitted\n",
      "[16:27:07] Explicit valence for atom # 4 C, 5, is greater than permitted\n"
     ]
    },
    {
     "name": "stdout",
     "output_type": "stream",
     "text": [
      "0 *c1cc(=O)c2c(O)c(OCCCCN3CCOCC3)c(OC)cc2o1 *NCCC(C)CCCCCCC\n",
      "0 CCCCCCCC(C)CCNc1cc(=O)c2c(O)c(OCCCCN3CCOCC3)c(OC)cc2o1\n",
      "0 *c1cc2c(cc1OC)CCN2S(=O)(=O)Cc1cccc(I)c1 *NCCC(C)CCCCCCC\n",
      "0 CCCCCCCC(C)CCNc1cc2c(cc1OC)CCN2S(=O)(=O)Cc1cccc(I)c1\n"
     ]
    },
    {
     "name": "stderr",
     "output_type": "stream",
     "text": [
      "[16:27:09] Explicit valence for atom # 4 C, 5, is greater than permitted\n"
     ]
    },
    {
     "name": "stdout",
     "output_type": "stream",
     "text": [
      "0 *N1CCCn2nnc(CNC(C)=O)c2C1 *NCCC(C)CCCCCCC\n",
      "0 CCCCCCCC(C)CCNN1CCCn2nnc(CNC(C)=O)c2C1\n"
     ]
    },
    {
     "name": "stderr",
     "output_type": "stream",
     "text": [
      "[16:27:10] Can't kekulize mol.  Unkekulized atoms: 5 6 7 8 23 24 25\n",
      "[16:27:11] Explicit valence for atom # 4 C, 5, is greater than permitted\n",
      "[16:27:11] Explicit valence for atom # 4 C, 5, is greater than permitted\n",
      "[16:27:11] Explicit valence for atom # 4 C, 5, is greater than permitted\n",
      "[16:27:12] Explicit valence for atom # 4 C, 5, is greater than permitted\n",
      "[16:27:12] Explicit valence for atom # 4 C, 5, is greater than permitted\n"
     ]
    },
    {
     "name": "stdout",
     "output_type": "stream",
     "text": [
      "0 *c1ccccc1 *NCCOCc1cn(Cc2ccc(F)cc2)c2ccccc12\n",
      "0 Fc1ccc(Cn2cc(COCCNc3ccccc3)c3ccccc32)cc1\n",
      "0 *c1nc2c(n1Cc1cccnc1)C(=O)N(C)C1=NC3CCCC3N12 *NCCC(C)O\n",
      "0 CC(O)CCNc1nc2c(n1Cc1cccnc1)C(=O)N(C)C1=NC3CCCC3N12\n",
      "0 *Nc1cc(NC(C)=O)c(NC(=N)N)cc1OCC(=O)O *NCCC(=C)C\n",
      "0 C=C(C)CCNNc1cc(NC(C)=O)c(NC(=N)N)cc1OCC(=O)O\n"
     ]
    },
    {
     "name": "stderr",
     "output_type": "stream",
     "text": [
      "[16:27:14] Explicit valence for atom # 4 C, 5, is greater than permitted\n",
      "[16:27:15] Explicit valence for atom # 4 C, 5, is greater than permitted\n",
      "[16:27:15] Explicit valence for atom # 4 C, 5, is greater than permitted\n"
     ]
    },
    {
     "name": "stdout",
     "output_type": "stream",
     "text": [
      "0 *CCNCc1ccc(C(O)=Nc2sc(-c3ccncc3)nc2C(N)=O)cc1 *NCCC(C)CCCCCCC\n",
      "0 CCCCCCCC(C)CCNCCNCc1ccc(C(O)=Nc2sc(-c3ccncc3)nc2C(N)=O)cc1\n"
     ]
    },
    {
     "name": "stderr",
     "output_type": "stream",
     "text": [
      "[16:27:16] Can't kekulize mol.  Unkekulized atoms: 3 17 18 19 20 46 47\n",
      "[16:27:17] Explicit valence for atom # 4 O, 3, is greater than permitted\n",
      "[16:27:18] Explicit valence for atom # 4 C, 5, is greater than permitted\n",
      "[16:27:20] Explicit valence for atom # 11 C, 5, is greater than permitted\n"
     ]
    },
    {
     "name": "stdout",
     "output_type": "stream",
     "text": [
      "0 *c1c(-c2cccnc2)nn(-c2ccc(Cl)c(Cl)c2)c1OCCCNC(=O)C(Cc1ccccc1)NC(C)=O *NCCC(C)O\n",
      "0 CC(=O)NC(Cc1ccccc1)C(=O)NCCCOc1c(NCCC(C)O)c(-c2cccnc2)nn1-c1ccc(Cl)c(Cl)c1\n"
     ]
    },
    {
     "name": "stderr",
     "output_type": "stream",
     "text": [
      "[16:27:21] Explicit valence for atom # 4 C, 5, is greater than permitted\n",
      "[16:27:23] Explicit valence for atom # 4 C, 5, is greater than permitted\n",
      "[16:27:26] Explicit valence for atom # 4 C, 5, is greater than permitted\n",
      "[16:27:29] Explicit valence for atom # 4 C, 5, is greater than permitted\n",
      "[16:27:29] Can't kekulize mol.  Unkekulized atoms: 2 3 18 19 25\n",
      "[16:27:30] Explicit valence for atom # 4 C, 5, is greater than permitted\n",
      "[16:27:30] Explicit valence for atom # 4 C, 5, is greater than permitted\n",
      "[16:27:30] Explicit valence for atom # 11 N, 4, is greater than permitted\n"
     ]
    },
    {
     "name": "stdout",
     "output_type": "stream",
     "text": [
      "0 *CCc1nnc2n1-c1ccc(Br)cc1C(c1ccccn1)=NC2 *NCCC(C)O\n",
      "0 CC(O)CCNCCc1nnc2n1-c1ccc(Br)cc1C(c1ccccn1)=NC2\n"
     ]
    },
    {
     "name": "stderr",
     "output_type": "stream",
     "text": [
      "[16:27:33] Explicit valence for atom # 4 C, 5, is greater than permitted\n"
     ]
    },
    {
     "name": "stdout",
     "output_type": "stream",
     "text": [
      "0 *c1ccc(N2CCN(CCC3(c4ccc(Cl)c(Cl)c4)COCN(C(=O)c4ccccc4)C3)CC2)cc1 *NCCC(C)O\n",
      "0 CC(O)CCNc1ccc(N2CCN(CCC3(c4ccc(Cl)c(Cl)c4)COCN(C(=O)c4ccccc4)C3)CC2)cc1\n"
     ]
    },
    {
     "name": "stderr",
     "output_type": "stream",
     "text": [
      "[16:27:34] Explicit valence for atom # 4 C, 5, is greater than permitted\n",
      "[16:27:34] Explicit valence for atom # 4 O, 3, is greater than permitted\n",
      "[16:27:34] Explicit valence for atom # 4 C, 5, is greater than permitted\n",
      "[16:27:37] Can't kekulize mol.  Unkekulized atoms: 6 7 8 12 13\n",
      "[16:27:37] Explicit valence for atom # 4 C, 5, is greater than permitted\n",
      "[16:27:37] Explicit valence for atom # 4 C, 5, is greater than permitted\n",
      "[16:27:39] Explicit valence for atom # 4 C, 5, is greater than permitted\n"
     ]
    },
    {
     "name": "stdout",
     "output_type": "stream",
     "text": [
      "0 *c1cccc(Cc2cc(Cl)ccc2OCc2ccc(F)cc2Cl)n1 *NCCC(C)O\n",
      "0 CC(O)CCNc1cccc(Cc2cc(Cl)ccc2OCc2ccc(F)cc2Cl)n1\n",
      "0 *CSc1ncccc1-c1nnc(SCCN2CCOCC2)o1 *NCCC(C)CCCCCCC\n",
      "0 CCCCCCCC(C)CCNCSc1ncccc1-c1nnc(SCCN2CCOCC2)o1\n"
     ]
    },
    {
     "name": "stderr",
     "output_type": "stream",
     "text": [
      "[16:27:40] Explicit valence for atom # 4 C, 5, is greater than permitted\n",
      "[16:27:40] Explicit valence for atom # 4 C, 5, is greater than permitted\n"
     ]
    },
    {
     "name": "stdout",
     "output_type": "stream",
     "text": [
      "0 *c1ccccc1 *NCCC1(O)CC2C3(C)CCC(OC(=O)CC(=O)Nc4ccccc4)C(C)(C)C3CCC2(C)C2(C)CCC(C3(C)CCC(C(C)(C)O)O3)C12\n",
      "0 CC(C)(O)C1CCC(C)(C2CCC3(C)C2C(O)(CCNc2ccccc2)CC2C4(C)CCC(OC(=O)CC(=O)Nc5ccccc5)C(C)(C)C4CCC23C)O1\n"
     ]
    },
    {
     "name": "stderr",
     "output_type": "stream",
     "text": [
      "[16:27:42] Explicit valence for atom # 4 C, 5, is greater than permitted\n",
      "[16:27:42] Explicit valence for atom # 4 C, 5, is greater than permitted\n",
      "[16:27:42] Explicit valence for atom # 11 C, 5, is greater than permitted\n",
      "[16:27:43] Explicit valence for atom # 4 C, 5, is greater than permitted\n",
      "[16:27:43] Explicit valence for atom # 4 C, 5, is greater than permitted\n"
     ]
    },
    {
     "name": "stdout",
     "output_type": "stream",
     "text": [
      "0 *c1nc(C2CC2)nc(N2CCSCC2)c1OC *NCCC(C)O\n",
      "0 COc1c(NCCC(C)O)nc(C2CC2)nc1N1CCSCC1\n"
     ]
    },
    {
     "name": "stderr",
     "output_type": "stream",
     "text": [
      "[16:27:47] Explicit valence for atom # 4 C, 5, is greater than permitted\n",
      "[16:27:47] Explicit valence for atom # 4 O, 3, is greater than permitted\n",
      "[16:27:48] Explicit valence for atom # 3 O, 3, is greater than permitted\n",
      "[16:27:50] Explicit valence for atom # 4 O, 3, is greater than permitted\n",
      "[16:27:51] Explicit valence for atom # 4 C, 5, is greater than permitted\n"
     ]
    },
    {
     "name": "stdout",
     "output_type": "stream",
     "text": [
      "0 *n1cnc2cc(Nc3ccccc3)ccc21 *NCCC(C)CCCCCCC\n",
      "0 CCCCCCCC(C)CCNn1cnc2cc(Nc3ccccc3)ccc21\n"
     ]
    },
    {
     "name": "stderr",
     "output_type": "stream",
     "text": [
      "[16:27:53] Explicit valence for atom # 4 C, 5, is greater than permitted\n"
     ]
    },
    {
     "name": "stdout",
     "output_type": "stream",
     "text": [
      "0 *OC(=O)C1C(=O)C(=Cc2c[nH]c3ncccc23)OC1=NN1CCOCC1 *NCCC(C)O\n",
      "0 CC(O)CCNOC(=O)C1C(=O)C(=Cc2c[nH]c3ncccc23)OC1=NN1CCOCC1\n",
      "0 *C(=O)COc1ccc(-c2ccc(O)c(Cc3ccc(-c4ccccc4)cc3)c2)cc1 *NCCC(C)O\n",
      "0 CC(O)CCNC(=O)COc1ccc(-c2ccc(O)c(Cc3ccc(-c4ccccc4)cc3)c2)cc1\n",
      "0 *Nc1c(Cl)cc(CNC(N)=NC(=O)c2cccn2-c2ccccc2)cc1Cl *NCCC(C)O\n",
      "0 CC(O)CCNNc1c(Cl)cc(CNC(N)=NC(=O)c2cccn2-c2ccccc2)cc1Cl\n",
      "0 *C(=O)N1CCN(C(=O)CC(C)S(=O)(=O)c2cc3c(cc2C)NC(=O)CO3)CC1 *NCCC(C)CCCCCCC\n",
      "0 CCCCCCCC(C)CCNC(=O)N1CCN(C(=O)CC(C)S(=O)(=O)c2cc3c(cc2C)NC(=O)CO3)CC1\n",
      "0 *c1c2nc(C(=O)O)cc(NCC)c2cc2c(=O)cc(C(=O)O)oc12 *NCCC(C)CCCCCCC\n",
      "0 CCCCCCCC(C)CCNc1c2nc(C(=O)O)cc(NCC)c2cc2c(=O)cc(C(=O)O)oc12\n"
     ]
    },
    {
     "name": "stderr",
     "output_type": "stream",
     "text": [
      "[16:27:56] Can't kekulize mol.  Unkekulized atoms: 12 13 14 15 16 18 19\n",
      "[16:27:56] Explicit valence for atom # 4 C, 5, is greater than permitted\n"
     ]
    },
    {
     "name": "stdout",
     "output_type": "stream",
     "text": [
      "0 *CN1CCC2(CCCN(C(=O)c3ccncc3)C2)C1 *NCCC(C)O\n",
      "0 CC(O)CCNCN1CCC2(CCCN(C(=O)c3ccncc3)C2)C1\n"
     ]
    },
    {
     "name": "stderr",
     "output_type": "stream",
     "text": [
      "[16:27:58] Explicit valence for atom # 4 C, 5, is greater than permitted\n"
     ]
    },
    {
     "name": "stdout",
     "output_type": "stream",
     "text": [
      "0 *c1ccccc1 *NCCC(C)CCc1ccnc2ccccc12\n",
      "0 CC(CCNc1ccccc1)CCc1ccnc2ccccc12\n"
     ]
    },
    {
     "name": "stderr",
     "output_type": "stream",
     "text": [
      "[16:28:00] Explicit valence for atom # 4 C, 5, is greater than permitted\n"
     ]
    },
    {
     "name": "stdout",
     "output_type": "stream",
     "text": [
      "0 *c1cc2c(cc1OC)CCN2C(=O)c1ccc(-c2cc(C)ncc2C)cc1 *NCCC(C)O\n",
      "0 COc1cc2c(cc1NCCC(C)O)N(C(=O)c1ccc(-c3cc(C)ncc3C)cc1)CC2\n",
      "0 *c1ccccc1COC1=NCCN1 *C(=O)NC(C)CCCCCCC\n",
      "0 CCCCCCCC(C)NC(=O)c1ccccc1COC1=NCCN1\n"
     ]
    },
    {
     "name": "stderr",
     "output_type": "stream",
     "text": [
      "[16:28:04] Explicit valence for atom # 4 C, 5, is greater than permitted\n",
      "[16:28:05] Explicit valence for atom # 4 C, 5, is greater than permitted\n"
     ]
    },
    {
     "name": "stdout",
     "output_type": "stream",
     "text": [
      "0 *c1ccccc1 *NCCC(N)C12COCC1CN(Cc1sccc1C)C2\n",
      "0 Cc1ccsc1CN1CC2COCC2(C(N)CCNc2ccccc2)C1\n"
     ]
    },
    {
     "name": "stderr",
     "output_type": "stream",
     "text": [
      "[16:28:06] Explicit valence for atom # 4 C, 5, is greater than permitted\n"
     ]
    },
    {
     "name": "stdout",
     "output_type": "stream",
     "text": [
      "0 *CN1CCN(Cc2cc(C(=O)N=C(N)N)ccc2[N+](=O)[O-])CC1 *NCCC(C)CCCCCCC\n",
      "0 CCCCCCCC(C)CCNCN1CCN(Cc2cc(C(=O)N=C(N)N)ccc2[N+](=O)[O-])CC1\n"
     ]
    },
    {
     "name": "stderr",
     "output_type": "stream",
     "text": [
      "[16:28:07] Explicit valence for atom # 4 C, 5, is greater than permitted\n",
      "[16:28:07] Explicit valence for atom # 4 C, 5, is greater than permitted\n",
      "[16:28:08] Explicit valence for atom # 4 O, 3, is greater than permitted\n"
     ]
    },
    {
     "name": "stdout",
     "output_type": "stream",
     "text": [
      "0 *N1CCCC1(Cc1cccc(S(C)(=O)=O)c1)C(=O)OCc1ccccc1 *NCCC(C)CCCCCCC\n",
      "0 CCCCCCCC(C)CCNN1CCCC1(Cc1cccc(S(C)(=O)=O)c1)C(=O)OCc1ccccc1\n",
      "0 *c1ccccc1 *NCCc1cnc(N=C(O)N2CCN(c3ccncc3)CC2)s1\n",
      "0 OC(=Nc1ncc(CCNc2ccccc2)s1)N1CCN(c2ccncc2)CC1\n"
     ]
    },
    {
     "name": "stderr",
     "output_type": "stream",
     "text": [
      "[16:28:12] Explicit valence for atom # 4 C, 5, is greater than permitted\n",
      "[16:28:12] Explicit valence for atom # 4 C, 5, is greater than permitted\n"
     ]
    },
    {
     "name": "stdout",
     "output_type": "stream",
     "text": [
      "0 *c1ccc(CC(NC(=O)C(C)(C)N)C(=O)N2CCCC2c2nc3cc(Cl)c(Cl)cc3[nH]2)cc1 *NCCC(C)O\n",
      "0 CC(O)CCNc1ccc(CC(NC(=O)C(C)(C)N)C(=O)N2CCCC2c2nc3cc(Cl)c(Cl)cc3[nH]2)cc1\n"
     ]
    },
    {
     "name": "stderr",
     "output_type": "stream",
     "text": [
      "[16:28:13] Explicit valence for atom # 4 C, 5, is greater than permitted\n"
     ]
    },
    {
     "name": "stdout",
     "output_type": "stream",
     "text": [
      "0 *c1cc(C)c(NC(=O)C(C)(O)C(F)(F)F)c(C)c1 *NCCC(C)CCCCCCC\n",
      "0 CCCCCCCC(C)CCNc1cc(C)c(NC(=O)C(C)(O)C(F)(F)F)c(C)c1\n"
     ]
    },
    {
     "name": "stderr",
     "output_type": "stream",
     "text": [
      "[16:28:14] Explicit valence for atom # 4 C, 5, is greater than permitted\n",
      "[16:28:15] Explicit valence for atom # 4 C, 5, is greater than permitted\n",
      "[16:28:15] Explicit valence for atom # 4 C, 5, is greater than permitted\n",
      "[16:28:16] Explicit valence for atom # 4 C, 5, is greater than permitted\n"
     ]
    },
    {
     "name": "stdout",
     "output_type": "stream",
     "text": [
      "0 *N1C(=O)C(CC(=O)NCc2ccc(OC)c(OC)c2)CC2(C(=O)OC)CCCCC=C12 *NCCC(C)CCCCCCC\n",
      "0 CCCCCCCC(C)CCNN1C(=O)C(CC(=O)NCc2ccc(OC)c(OC)c2)CC2(C(=O)OC)CCCCC=C12\n"
     ]
    },
    {
     "name": "stderr",
     "output_type": "stream",
     "text": [
      "[16:28:17] Explicit valence for atom # 4 C, 5, is greater than permitted\n"
     ]
    },
    {
     "name": "stdout",
     "output_type": "stream",
     "text": [
      "Done. Total time elapsed: 00:04:20.\n"
     ]
    },
    {
     "name": "stderr",
     "output_type": "stream",
     "text": [
      "[16:28:18] Explicit valence for atom # 4 O, 3, is greater than permitted\n"
     ]
    }
   ],
   "source": [
    "model = model.cpu()\n",
    "model.eval()\n",
    "\n",
    "hidden_layers = model.hidden_layers\n",
    "hidden_size = model.hidden_size\n",
    "\n",
    "def row_filter(row):\n",
    "    return (row == vocab.EOS).any()\n",
    "\n",
    "count = 0\n",
    "total_time = 0\n",
    "batch_size = 100\n",
    "samples, sampled = [], 0\n",
    "\n",
    "max_length = config.get('max_length')\n",
    "temperature = config.get('temperature')\n",
    "\n",
    "seed = set_random_seed()\n",
    "config.set('sampling_seed', seed)\n",
    "print(\"Sampling seed:\", config.get('sampling_seed'))\n",
    "\n",
    "with torch.no_grad():\n",
    "    while len(samples) < num_samples:\n",
    "        start = time.time()\n",
    "\n",
    "        # sample vector from latent space\n",
    "        z = model.encoder.sample_normal(batch_size).cpu()\n",
    "        #mean_tensor = torch.ones(100, 100) * 0.001\n",
    "        #std_tensor = torch.ones(100, 100) * 0.001\n",
    "        #z = torch.stack([torch.normal(mean_tensor, std_tensor),torch.normal(mean_tensor, std_tensor)], axis = 0)\n",
    "        \n",
    "        # get the initial state\n",
    "        state = model.latent2rnn(z)\n",
    "        state = state.view(hidden_layers, batch_size, hidden_size)\n",
    "\n",
    "        # all idx of batch\n",
    "        sequence_idx = torch.arange(0, batch_size).long()\n",
    "\n",
    "        # all idx of batch which are still generating\n",
    "        running = torch.arange(0, batch_size).long()\n",
    "        sequence_mask = torch.ones(batch_size, dtype=torch.bool)\n",
    "\n",
    "        # idx of still generating sequences\n",
    "        # with respect to current loop\n",
    "        running_seqs = torch.arange(0, batch_size).long()\n",
    "        lengths = [1] * batch_size\n",
    "\n",
    "        generated = torch.Tensor(batch_size, max_length).long()\n",
    "        generated.fill_(vocab.PAD)\n",
    "\n",
    "        inputs = Variable(torch.Tensor(batch_size).long())\n",
    "        inputs.fill_(vocab.SOS).long()\n",
    "\n",
    "        step = 0\n",
    "\n",
    "        while(step < max_length and len(running_seqs) > 0):\n",
    "            inputs = inputs.unsqueeze(1)\n",
    "            emb = model.embedder(inputs)\n",
    "            scores, state = model.decoder(emb, state, lengths)\n",
    "            scores = scores.squeeze(1)\n",
    "\n",
    "            probs = F.softmax(scores / temperature, dim=1)\n",
    "            inputs = torch.argmax(probs, 1).reshape(1, -1)\n",
    "\n",
    "            # save next input\n",
    "            generated = update(generated, inputs, running, step)\n",
    "            # update global running sequence\n",
    "            sequence_mask[running] = (inputs != vocab.EOS)\n",
    "            running = sequence_idx.masked_select(sequence_mask)\n",
    "\n",
    "            # update local running sequences\n",
    "            running_mask = (inputs != vocab.EOS)\n",
    "            running_seqs = running_seqs.masked_select(running_mask)\n",
    "\n",
    "            # prune input and hidden state according to local update\n",
    "            run_length = len(running_seqs)\n",
    "            if run_length > 0:\n",
    "                inputs = inputs.squeeze(0)\n",
    "                inputs = inputs[running_seqs]\n",
    "                state = state[:, running_seqs]\n",
    "                running_seqs = torch.arange(0, run_length).long()\n",
    "\n",
    "            lengths = [1] * run_length\n",
    "            step += 1\n",
    "\n",
    "        new_samples = generated.numpy()\n",
    "        #print(new_samples)\n",
    "        mask = np.apply_along_axis(row_filter, 1, new_samples)\n",
    "        samples += generate_molecules(new_samples[mask], vocab)\n",
    "\n",
    "        end = time.time() - start\n",
    "        total_time += end\n",
    "\n",
    "        if len(samples) > sampled:\n",
    "            sampled = len(samples)\n",
    "            count = 0 \n",
    "        else: \n",
    "            count += 1\n",
    "\n",
    "        if len(samples) % 1000 < 50:\n",
    "            elapsed = time.strftime(\"%H:%M:%S\", time.gmtime(end))\n",
    "            print(f'Sampled {len(samples)} molecules. '\n",
    "                  f'Time elapsed: {elapsed}')\n",
    "\n",
    "        if count >= 1000:\n",
    "            break \n",
    "\n",
    "if save_results:\n",
    "    dump_samples(config, samples)\n",
    "\n",
    "elapsed = time.strftime(\"%H:%M:%S\", time.gmtime(total_time))\n",
    "print(f'Done. Total time elapsed: {elapsed}.')\n"
   ]
  },
  {
   "cell_type": "code",
   "execution_count": 13,
   "id": "f240697e",
   "metadata": {},
   "outputs": [
    {
     "data": {
      "text/plain": [
       "[('Nc1nc(CCNc2ccccc2)cc(-c2c[nH]c3cccc(Br)c23)n1',\n",
       "  '*c1cnc(N)nc1-c1c[nH]c2cccc(Br)c12 *CCN* *c1ccccc1',\n",
       "  3),\n",
       " ('COc1ccc(NC(C)OC2OC(C)CC(N(C)C)C2O)c2sc(NC(=O)c3cnn(Cc4cccc(C(F)(F)F)c4)c3)nc12',\n",
       "  '*N(CC)c1ccc(OC)c2nc(NC(=O)c3cnn(Cc4cccc(C(F)(F)F)c4)c3)sc12 *OC1OC(C)CC(N(C)C)C1O',\n",
       "  2),\n",
       " ('CCCCCCCC(C)CCNC1CCC2C3CC(=O)OC(C)(CCCCC#N)C3CCC12C',\n",
       "  '*=CCCCCCCCC *CCN* *C1CCC2C3CC(=O)OC(C)(CCCCC#N)C3CCC12C',\n",
       "  3),\n",
       " ('CCCCCCCC(C)CCNN1C2=NCCN2C(=O)c2[nH]c(Br)nc21',\n",
       "  '*=CCCCCCCCC *CCN* *N1C2=NCCN2C(=O)c2[nH]c(Br)nc21',\n",
       "  3),\n",
       " ('CCCCCCCC(C)CCNNC(=O)S(=O)(=O)c1ccc(Nc2nc(-c3ccc(-c4ccccc4)cc3)cs2)cc1',\n",
       "  '*=CCCCCCCCC *CCN* *NC(*)=O *S(=O)(=O)c1ccc(Nc2nc(-c3ccc(-c4ccccc4)cc3)cs2)cc1',\n",
       "  4),\n",
       " ('CCCCCCCC(C)CCNc1nc(Nc2ccccc2)c2ncn(CC(=O)O)c2n1',\n",
       "  '*=CCCCCCCCC *CCN* *c1nc(Nc2ccccc2)c2ncn(CC(=O)O)c2n1',\n",
       "  3),\n",
       " ('CC(O)CCNN1CCC2(CC1)CC(CC(=O)NCC1CC1)c1ccccc12',\n",
       "  '*OCC *CCN* *N1CCC2(CC1)CC(CC(=O)NCC1CC1)c1ccccc12',\n",
       "  3),\n",
       " ('CCCCCCCC(C)CCNN1CCC(c2ccc3[nH]ccc3c2)CC1',\n",
       "  '*=CCCCCCCCC *CCN* *N1CCC(c2ccc3[nH]ccc3c2)CC1',\n",
       "  3),\n",
       " ('CCCCCCCC(C)CCNNC(=O)C(O)CN1CCC(NCc2cnc3snnc3c2)C(F)C1',\n",
       "  '*=CCCCCCCCC *CCN* *NC(*)=O *C(O)CN1CCC(NCc2cnc3snnc3c2)C(F)C1',\n",
       "  4),\n",
       " ('CCCCCCCC(C)CCNNC(=N)c1ccc(-c2cc3ccc(C(=N)NC(C)C)cc3o2)cc1',\n",
       "  '*=CCCCCCCCC *CCN* *NC(=N)c1ccc(-c2cc3ccc(C(=N)NC(C)C)cc3o2)cc1',\n",
       "  3),\n",
       " ('CCCCCCCC(C)CCNN1C(CCc2ccc(O)cc2)CCCC1CCc1ccc(O)cc1',\n",
       "  '*=CCCCCCCCC *CCN* *N1C(CCc2ccc(O)cc2)CCCC1CCc1ccc(O)cc1',\n",
       "  3),\n",
       " ('Cc1nc(-c2coc(NCCC(C)O)c2)[nH]c1C',\n",
       "  '*OCC *CCN* *c1cc(-c2nc(C)c(C)[nH]2)co1',\n",
       "  3),\n",
       " ('C=C(C)C1CCC2(NCCC(C)CCCCCCC)CCC3(C)C(CCC4C5(C)CC(OC(=O)c6ccc(O)cc6)C(O)C(C)(C)C5CCC43C)C12',\n",
       "  '*=CCCCCCCCC *CCN* *C12CCC(C(=C)C)C1C1CCC3C4(C)CC(OC(=O)c5ccc(O)cc5)C(O)C(C)(C)C4CCC3(C)C1(C)CC2',\n",
       "  3),\n",
       " ('CCCCCCCC(C)CCNNc1ccc2c(c1)C1CNCC2C1',\n",
       "  '*=CCCCCCCCC *CCN* *Nc1ccc2c(c1)C1CNCC2C1',\n",
       "  3),\n",
       " ('CC(O)CCNCCC(C(=O)NCc1cc(C(F)(F)F)cc(C(F)(F)F)c1)C(C)O',\n",
       "  '*OCC *CCN* *CCC(C(=O)NCc1cc(C(F)(F)F)cc(C(F)(F)F)c1)C(C)O',\n",
       "  3),\n",
       " ('CCCCCCCC(C)CCNCC(CC)(CC)NC(=O)C(Cc1ccc(OC)c(OC)c1)Nc1ccc(C#N)c2ccccc12',\n",
       "  '*=CCCCCCCCC *CCN* *CC(CC)(CC)NC(=O)C(Cc1ccc(OC)c(OC)c1)Nc1ccc(C#N)c2ccccc12',\n",
       "  3),\n",
       " ('CC(O)CCNS(=O)(=O)c1cccc2c1OCC(c1nc3ccc(-c4ccnc(N)n4)cc3[nH]1)C2',\n",
       "  '*OCC *CCN* *S(=O)(=O)c1cccc2c1OCC(c1nc3ccc(-c4ccnc(N)n4)cc3[nH]1)C2',\n",
       "  3),\n",
       " ('Cc1ccc(OC2OC(C)CC(N(C)C)C2O)c(C)c1CN1C(=O)c2ccccc2C1=O',\n",
       "  '*c1cc(C)c(CN2C(=O)c3ccccc3C2=O)c(C)c1 *OC1OC(C)CC(N(C)C)C1O',\n",
       "  2),\n",
       " ('CCCCCCCC(C)CCNNc1cccc(NC(=O)C2C3CC4OC(=O)C2C4C3)c1',\n",
       "  '*=CCCCCCCCC *CCN* *Nc1cccc(NC(=O)C2C3CC4OC(=O)C2C4C3)c1',\n",
       "  3),\n",
       " ('COc1c(C(NNCCC(C)O)c2ccco2)cc(Cl)c2cccnc12',\n",
       "  '*OCC *CCN* *NC(c1ccco1)c1cc(Cl)c2cccnc2c1OC',\n",
       "  3),\n",
       " ('CC(O)CCNc1ccc(N2CCN(C3CCCC3)CC2)cc1',\n",
       "  '*OCC *CCN* *c1ccc(N2CCN(C3CCCC3)CC2)cc1',\n",
       "  3),\n",
       " ('CCCCCCCC(C)CCNCC(NC(=O)c1ccccc1-c1ccccc1C(=O)NC(Cc1c[nH]cn1)C(=O)OC)C(=O)OC',\n",
       "  '*=CCCCCCCCC *CCN* *CC(NC(=O)c1ccccc1-c1ccccc1C(=O)NC(Cc1c[nH]cn1)C(=O)OC)C(=O)OC',\n",
       "  3),\n",
       " ('CCCCCCCC(C)CCN=NC(CO)c1cccc(C(F)F)c1',\n",
       "  '*=CCCCCCCCC *CCN* *=NC(CO)c1cccc(C(F)F)c1',\n",
       "  3),\n",
       " ('CC(O)CCNNc1ccc(NC(=O)c2sc3sccc3c2Cl)cc1',\n",
       "  '*OCC *CCN* *Nc1ccc(NC(=O)c2sc3sccc3c2Cl)cc1',\n",
       "  3),\n",
       " ('CCCCCCCC(C)CCNNC(=O)n1cc(C(=O)NC23CC4CC(CC(C4)C2)C3)c(=O)n2ncnc12',\n",
       "  '*=CCCCCCCCC *CCN* *NC(*)=O *n1cc(C(=O)NC23CC4CC(CC(C4)C2)C3)c(=O)n2ncnc12',\n",
       "  4),\n",
       " ('CCC(N=C(O)CC(N)C(C)C)NCCC(C)O', '*OCC *CCN* *C(CC)N=C(O)CC(N)C(C)C', 3),\n",
       " ('CC(COC1OC(C)CC(N(C)C)C1O)OC(=O)C(c1ccccc1)c1ccccc1',\n",
       "  '*C(C)(C)OC(=O)C(c1ccccc1)c1ccccc1 *OC1OC(C)CC(N(C)C)C1O',\n",
       "  2),\n",
       " ('CCCCCCCC(C)CCNCc1cnc(C2CCN(C(=O)c3cc(F)cc(F)c3)C2)[nH]1',\n",
       "  '*=CCCCCCCCC *CCN* *Cc1cnc(C2CCN(C(=O)c3cc(F)cc(F)c3)C2)[nH]1',\n",
       "  3),\n",
       " ('CCCCCCCC(C)CCNC(=O)c1[nH]nc2c1C(=O)N(CC)C2=O',\n",
       "  '*=CCCCCCCCC *CCN* *C(=O)c1[nH]nc2c1C(=O)N(CC)C2=O',\n",
       "  3),\n",
       " ('CCCCCCCC(C)CCNCOc1cc([N+](=O)[O-])ccc1OC',\n",
       "  '*=CCCCCCCCC *CCN* *COc1cc([N+](=O)[O-])ccc1OC',\n",
       "  3),\n",
       " ('COc1cc(NCCC(C)O)cc(Cl)c1OCc1ccc(OC2CCOCC2)cc1',\n",
       "  '*OCC *CCN* *c1cc(Cl)c(OCc2ccc(OC3CCOCC3)cc2)c(OC)c1',\n",
       "  3),\n",
       " ('CCCCCCCC(C)CCNc1cccc2nc(C)c(NC3(C)CCCCC3)nc12',\n",
       "  '*=CCCCCCCCC *CCN* *c1cccc2nc(C)c(NC3(C)CCCCC3)nc12',\n",
       "  3),\n",
       " ('CC(Cc1ccc2c(c1)C(Cc1ccc(F)cc1)C(N)CC2)OC1OC(C)CC(N(C)C)C1O',\n",
       "  '*CCCc1ccc2c(c1)C(Cc1ccc(F)cc1)C(N)CC2 *OC1OC(C)CC(N(C)C)C1O',\n",
       "  2),\n",
       " ('CCCCCCCC(C)CCNOC(O)=C1C(C)=Nc2ncnn2C1c1ccc(OC)c(OC)c1',\n",
       "  '*=CCCCCCCCC *CCN* *OC(O)=C1C(C)=Nc2ncnn2C1c1ccc(OC)c(OC)c1',\n",
       "  3),\n",
       " ('CN=C(O)C(O)COOC1OC(C)CC(N(C)C)C1O',\n",
       "  '*C(O)C(O)C(O)=NC *OC1OC(C)CC(N(C)C)C1O',\n",
       "  2),\n",
       " ('COc1ccc(C=Cc2cc(C(=O)ONCCC(C)O)no2)cn1',\n",
       "  '*OCC *CCN* *OC(=O)c1cc(C=Cc2ccc(OC)nc2)on1',\n",
       "  3),\n",
       " ('CC(O)CCNC(=O)C(CC1CCCCC1)Nc1nc2ccc(Cl)cc2o1',\n",
       "  '*OCC *CCN* *C(=O)C(CC1CCCCC1)Nc1nc2ccc(Cl)cc2o1',\n",
       "  3),\n",
       " ('CCCCCCCC(C)CCNc1ccc2[nH]c3ncnc(NC4CCCCCC4)c3c2c1',\n",
       "  '*=CCCCCCCCC *CCN* *c1ccc2[nH]c3ncnc(NC4CCCCCC4)c3c2c1',\n",
       "  3),\n",
       " ('CC(O)CCNc1cc(C(C)(C)C#N)no1', '*OCC *CCN* *c1cc(C(C)(C)C#N)no1', 3),\n",
       " ('CCCCCCCC(C)CCNNC(=O)c1nnc(SCC(=O)Nc2ccccc2Cl)[nH]1',\n",
       "  '*=CCCCCCCCC *CCN* *NC(*)=O *c1nnc(SCC(=O)Nc2ccccc2Cl)[nH]1',\n",
       "  4),\n",
       " ('CCCCCCCC(C)CCNCCOc1cccc(-c2cc3cc(C4=NCCN4)ccc3o2)c1',\n",
       "  '*=CCCCCCCCC *CCN* *CCOc1cccc(-c2cc3cc(C4=NCCN4)ccc3o2)c1',\n",
       "  3),\n",
       " ('CCCCCCCC(C)CCNOC(c1ccc(F)cc1)C1CNCCO1',\n",
       "  '*=CCCCCCCCC *CCN* *OC(c1ccc(F)cc1)C1CNCCO1',\n",
       "  3),\n",
       " ('Cc1ccc(CSc2nnc(NCCC(C)O)n2Cc2ccc(NC(=O)c3ccccc3C(=O)O)cc2)cc1',\n",
       "  '*OCC *CCN* *c1nnc(SCc2ccc(C)cc2)n1Cc1ccc(NC(=O)c2ccccc2C(=O)O)cc1',\n",
       "  3),\n",
       " ('CC(O)CCNc1cn2c3c(c(N4CCSCC4)c(F)cc3c1=O)SCC2',\n",
       "  '*OCC *CCN* *c1cn2c3c(c(N4CCSCC4)c(F)cc3c1=O)SCC2',\n",
       "  3),\n",
       " ('CCCCCCCC(C)CCNn1cc(-c2cccc(Cl)c2Cl)nn1',\n",
       "  '*=CCCCCCCCC *CCN* *n1cc(-c2cccc(Cl)c2Cl)nn1',\n",
       "  3),\n",
       " ('CCCCCCCC(C)CCNC1CN(c2ccc(F)c(-c3n[nH]c4ncccc34)n2)CC(C)N1',\n",
       "  '*=CCCCCCCCC *CCN* *C1CN(c2ccc(F)c(-c3n[nH]c4ncccc34)n2)CC(C)N1',\n",
       "  3),\n",
       " ('COc1cc(F)cc(S(=O)(=O)c2ccc(NCCC(C)O)cc2)c1',\n",
       "  '*OCC *CCN* *c1ccc(S(=O)(=O)c2cc(F)cc(OC)c2)cc1',\n",
       "  3),\n",
       " ('CC(O)CCNN[S+](=O)([O-])c1ccc(N(C)CCCN(C)C)nc1',\n",
       "  '*OCC *CCN* *N[S+](=O)([O-])c1ccc(N(C)CCCN(C)C)nc1',\n",
       "  3),\n",
       " ('C=CC1CC(NCCC(C)O)NC1C(CC(C)C)NC(C)=O',\n",
       "  '*OCC *CCN* *C1CC(C=C)C(C(CC(C)C)NC(C)=O)N1',\n",
       "  3),\n",
       " ('CC(O)CCOc1ccc2c(c1)C(C)(C)c1oc3cc(F)ccc3c1C2=O',\n",
       "  '*OCC *CCOc1ccc2c(c1)C(C)(C)c1oc3cc(F)ccc3c1C2=O',\n",
       "  2),\n",
       " ('CCCCCCCC(C)CCNC1NCCOc2ccccc2CCCNC(=O)C(Cc2ccc(-c3ccccc3)cc2)NC(=O)C(C)N(C)C1=O',\n",
       "  '*=CCCCCCCCC *CCN* *C1NCCOc2ccccc2CCCNC(=O)C(Cc2ccc(-c3ccccc3)cc2)NC(=O)C(C)N(C)C1=O',\n",
       "  3),\n",
       " ('CCCCCCCC(C)CCNc1c(C)[nH]c2c(OC)cccc2c1=O',\n",
       "  '*=CCCCCCCCC *CCN* *c1c(C)[nH]c2c(OC)cccc2c1=O',\n",
       "  3),\n",
       " ('C=C(C)CCNN(c1cccc(C#N)c1)S(=O)(=O)c1ccc(OC2CCN(S(C)(=O)=O)CC2)cc1',\n",
       "  '*CC=C *CCN* *N(c1cccc(C#N)c1)S(=O)(=O)c1ccc(OC2CCN(S(C)(=O)=O)CC2)cc1',\n",
       "  3),\n",
       " ('CC1CC(N(C)C)C(O)C(OC2(C)CC(c3ccoc3)=NO2)O1',\n",
       "  '*CC1CC(c2ccoc2)=NO1 *OC1OC(C)CC(N(C)C)C1O',\n",
       "  2),\n",
       " ('CC(O)CCNC(C)(Cc1c[nH]c2ccccc12)NC(=O)OCc1cccc(NS(C)(=O)=O)c1',\n",
       "  '*OCC *CCN* *C(C)(Cc1c[nH]c2ccccc12)NC(=O)OCc1cccc(NS(C)(=O)=O)c1',\n",
       "  3),\n",
       " ('CCCCCCCC(C)CCNNC(=N)c1ccc2[nH]c(-c3ccc(-c4nc5cc(C(=N)NC6CCCC6)ccc5[nH]4)o3)nc2c1',\n",
       "  '*=CCCCCCCCC *CCN* *NC(=N)c1ccc2[nH]c(-c3ccc(-c4nc5cc(C(=N)NC6CCCC6)ccc5[nH]4)o3)nc2c1',\n",
       "  3),\n",
       " ('CC(O)CCNN(C)C(=O)CNC(=O)Cc1cccc(O)c1',\n",
       "  '*OCC *CCN* *N(C)C(=O)CNC(=O)Cc1cccc(O)c1',\n",
       "  3),\n",
       " ('CCCCCCCC(C)CCNC(=O)c1ccc2nc3c(cc2c1)CCCN3C',\n",
       "  '*=CCCCCCCCC *CCN* *C(=O)c1ccc2nc3c(cc2c1)CCCN3C',\n",
       "  3),\n",
       " ('CCCCCCCC(C)CCNc1ccc(C2=C(C(=O)OC)C3CCC(C2)N3C(=O)NCc2cccc3ccccc23)cc1F',\n",
       "  '*=CCCCCCCCC *CCN* *c1ccc(C2=C(C(=O)OC)C3CCC(C2)N3C(=O)NCc2cccc3ccccc23)cc1F',\n",
       "  3),\n",
       " ('CCCCCCCC(C)CCNNc1cc(C)nc(-c2ccc(NC(=O)NCC)c(OC)c2)n1',\n",
       "  '*=CCCCCCCCC *CCN* *Nc1cc(C)nc(-c2ccc(NC(=O)NCC)c(OC)c2)n1',\n",
       "  3),\n",
       " ('CCCCCCCC(C)CCNN(CC(=O)NCCN1CCOCC1)c1ccc(C(C)C)cc1',\n",
       "  '*=CCCCCCCCC *CCN* *N(CC(=O)NCCN1CCOCC1)c1ccc(C(C)C)cc1',\n",
       "  3),\n",
       " ('CCCCCCCC(C)CCNc1cc(=O)c2c(O)c(OCCCCN3CCOCC3)c(OC)cc2o1',\n",
       "  '*=CCCCCCCCC *CCN* *c1cc(=O)c2c(O)c(OCCCCN3CCOCC3)c(OC)cc2o1',\n",
       "  3),\n",
       " ('CCCCCCCC(C)CCNc1cc2c(cc1OC)CCN2S(=O)(=O)Cc1cccc(I)c1',\n",
       "  '*=CCCCCCCCC *CCN* *c1cc2c(cc1OC)CCN2S(=O)(=O)Cc1cccc(I)c1',\n",
       "  3),\n",
       " ('CCCCCCCC(C)CCNN1CCCn2nnc(CNC(C)=O)c2C1',\n",
       "  '*=CCCCCCCCC *CCN* *N1CCCn2nnc(CNC(C)=O)c2C1',\n",
       "  3),\n",
       " ('Fc1ccc(Cn2cc(COCCNc3ccccc3)c3ccccc32)cc1',\n",
       "  '*=C(O)c1cn(Cc2ccc(F)cc2)c2ccccc12 *CCN* *c1ccccc1',\n",
       "  3),\n",
       " ('CC(O)CCNc1nc2c(n1Cc1cccnc1)C(=O)N(C)C1=NC3CCCC3N12',\n",
       "  '*OCC *CCN* *c1nc2c(n1Cc1cccnc1)C(=O)N(C)C1=NC3CCCC3N12',\n",
       "  3),\n",
       " ('C=C(C)CCNNc1cc(NC(C)=O)c(NC(=N)N)cc1OCC(=O)O',\n",
       "  '*CC=C *CCN* *Nc1cc(NC(C)=O)c(NC(=N)N)cc1OCC(=O)O',\n",
       "  3),\n",
       " ('CCCCCCCC(C)CCNCCNCc1ccc(C(O)=Nc2sc(-c3ccncc3)nc2C(N)=O)cc1',\n",
       "  '*=CCCCCCCCC *CCN* *CCNCc1ccc(C(O)=Nc2sc(-c3ccncc3)nc2C(N)=O)cc1',\n",
       "  3),\n",
       " ('CC(=O)NC(Cc1ccccc1)C(=O)NCCCOc1c(NCCC(C)O)c(-c2cccnc2)nn1-c1ccc(Cl)c(Cl)c1',\n",
       "  '*OCC *CCN* *c1c(-c2cccnc2)nn(-c2ccc(Cl)c(Cl)c2)c1OCCCNC(=O)C(Cc1ccccc1)NC(C)=O',\n",
       "  3),\n",
       " ('CC1CC(N(C)C)C(O)C(OC(O)CCN2CCN(C(=O)c3ccccc3NCc3ccc4ccccc4c3)CC2)O1',\n",
       "  '*OCCCN1CCN(C(=O)c2ccccc2NCc2ccc3ccccc3c2)CC1 *OC1OC(C)CC(N(C)C)C1O',\n",
       "  2),\n",
       " ('COc1ccc(OC2OC(C)CC(N(C)C)C2O)c(OC)n1',\n",
       "  '*c1cc(OC)nc(OC)c1 *OC1OC(C)CC(N(C)C)C1O',\n",
       "  2),\n",
       " ('CC(O)CCNCCc1nnc2n1-c1ccc(Br)cc1C(c1ccccn1)=NC2',\n",
       "  '*OCC *CCN* *CCc1nnc2n1-c1ccc(Br)cc1C(c1ccccn1)=NC2',\n",
       "  3),\n",
       " ('CC(O)CCNc1ccc(N2CCN(CCC3(c4ccc(Cl)c(Cl)c4)COCN(C(=O)c4ccccc4)C3)CC2)cc1',\n",
       "  '*OCC *CCN* *c1ccc(N2CCN(CCC3(c4ccc(Cl)c(Cl)c4)COCN(C(=O)c4ccccc4)C3)CC2)cc1',\n",
       "  3),\n",
       " ('CC1CC(N(C)C)C(O)C(OC(N)C2CN(c3ccc(N4CCN(C(=O)OCC5=C(C(=O)O)N6C(=O)C(NC(=O)Cc7ccccc7)C6SC5)CC4)c(F)c3)C(=O)O2)O1',\n",
       "  '*NCC1CN(c2ccc(N3CCN(C(=O)OCC4=C(C(=O)O)N5C(=O)C(NC(=O)Cc6ccccc6)C5SC4)CC3)c(F)c2)C(=O)O1 *OC1OC(C)CC(N(C)C)C1O',\n",
       "  2),\n",
       " ('CC(O)CCNc1cccc(Cc2cc(Cl)ccc2OCc2ccc(F)cc2Cl)n1',\n",
       "  '*OCC *CCN* *c1cccc(Cc2cc(Cl)ccc2OCc2ccc(F)cc2Cl)n1',\n",
       "  3),\n",
       " ('CCCCCCCC(C)CCNCSc1ncccc1-c1nnc(SCCN2CCOCC2)o1',\n",
       "  '*=CCCCCCCCC *CCN* *CSc1ncccc1-c1nnc(SCCN2CCOCC2)o1',\n",
       "  3),\n",
       " ('CC(C)(O)C1CCC(C)(C2CCC3(C)C2C(O)(CCNc2ccccc2)CC2C4(C)CCC(OC(=O)CC(=O)Nc5ccccc5)C(C)(C)C4CCC23C)O1',\n",
       "  '*OC1CC2C3(C)CCC(OC(=O)CC(=O)Nc4ccccc4)C(C)(C)C3CCC2(C)C2(C)CCC(C3(C)CCC(C(C)(C)O)O3)C12 *CCN* *c1ccccc1',\n",
       "  3),\n",
       " ('COc1c(NCCC(C)O)nc(C2CC2)nc1N1CCSCC1',\n",
       "  '*OCC *CCN* *c1nc(C2CC2)nc(N2CCSCC2)c1OC',\n",
       "  3),\n",
       " ('COC(=O)CC1C2(C)C(OC3CC(C4=CC(=O)OC4O)=C(C)C32)C2OCC3(C)C(OC(C)=O)CC(O)(OC4OC(C)CC(N(C)C)C4O)C1(C)C23',\n",
       "  '*OC1CC(OC(C)=O)C2(C)COC3C4OC5CC(C6=CC(=O)OC6O)=C(C)C5C4(C)C(CC(=O)OC)C1(C)C32 *OC1OC(C)CC(N(C)C)C1O',\n",
       "  2),\n",
       " ('O=c1c(CCc2ccccc2)nc2cnc(-c3cc([N+](=O)[O-])cc4nc(O)c(O)nc34)nc2n1C1CC1',\n",
       "  '*c1cc2nc(O)c(O)nc2cc1[N+](=O)[O-] *c1ncc2nc(CCc3ccccc3)c(=O)n(C3CC3)c2n1',\n",
       "  2),\n",
       " ('CC1CC(N(C)C)C(O)C(OC(C)(NC(=O)CN2C(=O)CN(Cc3ccccc3)C(=O)C2Cc2ccccc2)C(=O)c2nccs2)O1',\n",
       "  '*CC(NC(=O)CN1C(=O)CN(Cc2ccccc2)C(=O)C1Cc1ccccc1)C(=O)c1nccs1 *OC1OC(C)CC(N(C)C)C1O',\n",
       "  2),\n",
       " ('CCCCCCCC(C)CCNn1cnc2cc(Nc3ccccc3)ccc21',\n",
       "  '*=CCCCCCCCC *CCN* *n1cnc2cc(Nc3ccccc3)ccc21',\n",
       "  3),\n",
       " ('CC(O)CCNOC(=O)C1C(=O)C(=Cc2c[nH]c3ncccc23)OC1=NN1CCOCC1',\n",
       "  '*OCC *CCN* *OC(=O)C1C(=O)C(=Cc2c[nH]c3ncccc23)OC1=NN1CCOCC1',\n",
       "  3),\n",
       " ('CC(O)CCNC(=O)COc1ccc(-c2ccc(O)c(Cc3ccc(-c4ccccc4)cc3)c2)cc1',\n",
       "  '*OCC *CCN* *C(=O)COc1ccc(-c2ccc(O)c(Cc3ccc(-c4ccccc4)cc3)c2)cc1',\n",
       "  3),\n",
       " ('CC(O)CCNNc1c(Cl)cc(CNC(N)=NC(=O)c2cccn2-c2ccccc2)cc1Cl',\n",
       "  '*OCC *CCN* *Nc1c(Cl)cc(CNC(N)=NC(=O)c2cccn2-c2ccccc2)cc1Cl',\n",
       "  3),\n",
       " ('CCCCCCCC(C)CCNC(=O)N1CCN(C(=O)CC(C)S(=O)(=O)c2cc3c(cc2C)NC(=O)CO3)CC1',\n",
       "  '*=CCCCCCCCC *CCN* *C(=O)N1CCN(C(=O)CC(C)S(=O)(=O)c2cc3c(cc2C)NC(=O)CO3)CC1',\n",
       "  3),\n",
       " ('CCCCCCCC(C)CCNc1c2nc(C(=O)O)cc(NCC)c2cc2c(=O)cc(C(=O)O)oc12',\n",
       "  '*=CCCCCCCCC *CCN* *c1c2nc(C(=O)O)cc(NCC)c2cc2c(=O)cc(C(=O)O)oc12',\n",
       "  3),\n",
       " ('CC(O)CCNCN1CCC2(CCCN(C(=O)c3ccncc3)C2)C1',\n",
       "  '*OCC *CCN* *CN1CCC2(CCCN(C(=O)c3ccncc3)C2)C1',\n",
       "  3),\n",
       " ('COc1ccccc1CNC(=O)CC(N)(OC1OC(C)CC(N(C)C)C1O)c1ccco1',\n",
       "  '*NC(CC(=O)NCc1ccccc1OC)c1ccco1 *OC1OC(C)CC(N(C)C)C1O',\n",
       "  2),\n",
       " ('CC(CCNc1ccccc1)CCc1ccnc2ccccc12', '*CCCCc1ccnc2ccccc12 *CCN* *c1ccccc1', 3),\n",
       " ('COc1cc2c(cc1NCCC(C)O)N(C(=O)c1ccc(-c3cc(C)ncc3C)cc1)CC2',\n",
       "  '*OCC *CCN* *c1cc2c(cc1OC)CCN2C(=O)c1ccc(-c2cc(C)ncc2C)cc1',\n",
       "  3),\n",
       " ('CC1CC(N(C)C)C(O)C(Oc2cccc(Cn3c4c(c5ccccc53)CCN(Cc3ccccc3)C4)c2)O1',\n",
       "  '*c1ccc(Cn2c3c(c4ccccc42)CCN(Cc2ccccc2)C3)cc1 *OC1OC(C)CC(N(C)C)C1O',\n",
       "  2),\n",
       " ('CC1CC(N(C)C)C(O)C(OC(C)C(c2ccc(F)cc2)c2ccc(F)cc2)O1',\n",
       "  '*CCC(c1ccc(F)cc1)c1ccc(F)cc1 *OC1OC(C)CC(N(C)C)C1O',\n",
       "  2),\n",
       " ('CCCCCCCC(C)NC(=O)c1ccccc1COC1=NCCN1',\n",
       "  '*=CCCCCCCCC *NC(*)=O *c1ccccc1COC1=NCCN1',\n",
       "  3),\n",
       " ('Cc1ccsc1CN1CC2COCC2(C(N)CCNc2ccccc2)C1',\n",
       "  '*NCC12COCC1CN(Cc1sccc1C)C2 *CCN* *c1ccccc1',\n",
       "  3),\n",
       " ('CCCCCCCC(C)CCNCN1CCN(Cc2cc(C(=O)N=C(N)N)ccc2[N+](=O)[O-])CC1',\n",
       "  '*=CCCCCCCCC *CCN* *CN1CCN(Cc2cc(C(=O)N=C(N)N)ccc2[N+](=O)[O-])CC1',\n",
       "  3),\n",
       " ('CCCCCCCC(C)CCNN1CCCC1(Cc1cccc(S(C)(=O)=O)c1)C(=O)OCc1ccccc1',\n",
       "  '*=CCCCCCCCC *CCN* *N1CCCC1(Cc1cccc(S(C)(=O)=O)c1)C(=O)OCc1ccccc1',\n",
       "  3),\n",
       " ('OC(=Nc1ncc(CCNc2ccccc2)s1)N1CCN(c2ccncc2)CC1',\n",
       "  '*c1csc(N=C(O)N2CCN(c3ccncc3)CC2)n1 *CCN* *c1ccccc1',\n",
       "  3),\n",
       " ('CC(O)CCNc1ccc(CC(NC(=O)C(C)(C)N)C(=O)N2CCCC2c2nc3cc(Cl)c(Cl)cc3[nH]2)cc1',\n",
       "  '*OCC *CCN* *c1ccc(CC(NC(=O)C(C)(C)N)C(=O)N2CCCC2c2nc3cc(Cl)c(Cl)cc3[nH]2)cc1',\n",
       "  3),\n",
       " ('CCCCCCCC(C)CCNc1cc(C)c(NC(=O)C(C)(O)C(F)(F)F)c(C)c1',\n",
       "  '*=CCCCCCCCC *CCN* *c1cc(C)c(NC(=O)C(C)(O)C(F)(F)F)c(C)c1',\n",
       "  3),\n",
       " ('CC1CC(N(C)C)C(O)C(Oc2cccc(OC(=O)c3ccc4nsnc4c3)c2)O1',\n",
       "  '*c1ccc(OC(=O)c2ccc3nsnc3c2)cc1 *OC1OC(C)CC(N(C)C)C1O',\n",
       "  2),\n",
       " ('CCCCCCCC(C)CCNN1C(=O)C(CC(=O)NCc2ccc(OC)c(OC)c2)CC2(C(=O)OC)CCCCC=C12',\n",
       "  '*=CCCCCCCCC *CCN* *N1C(=O)C(CC(=O)NCc2ccc(OC)c(OC)c2)CC2(C(=O)OC)CCCCC=C12',\n",
       "  3),\n",
       " ('CC(CCC(=O)Nc1ccc(N(C)C(=S)NC(=O)c2ccc(C(C)(C)C)cc2)cc1)OC1OC(C)CC(N(C)C)C1O',\n",
       "  '*CCCCC(=O)Nc1ccc(N(C)C(=S)NC(=O)c2ccc(C(C)(C)C)cc2)cc1 *OC1OC(C)CC(N(C)C)C1O',\n",
       "  2)]"
      ]
     },
     "execution_count": 13,
     "metadata": {},
     "output_type": "execute_result"
    }
   ],
   "source": [
    "samples"
   ]
  },
  {
   "cell_type": "code",
   "execution_count": 14,
   "id": "cea1d622",
   "metadata": {},
   "outputs": [],
   "source": [
    "df_samples = pd.DataFrame(samples, columns =['smiles', 'frag', 'n_frag'])"
   ]
  },
  {
   "cell_type": "code",
   "execution_count": 15,
   "id": "7996cc3e",
   "metadata": {},
   "outputs": [
    {
     "data": {
      "text/html": [
       "<div>\n",
       "<style scoped>\n",
       "    .dataframe tbody tr th:only-of-type {\n",
       "        vertical-align: middle;\n",
       "    }\n",
       "\n",
       "    .dataframe tbody tr th {\n",
       "        vertical-align: top;\n",
       "    }\n",
       "\n",
       "    .dataframe thead th {\n",
       "        text-align: right;\n",
       "    }\n",
       "</style>\n",
       "<table border=\"1\" class=\"dataframe\">\n",
       "  <thead>\n",
       "    <tr style=\"text-align: right;\">\n",
       "      <th></th>\n",
       "      <th>smiles</th>\n",
       "      <th>frag</th>\n",
       "      <th>n_frag</th>\n",
       "    </tr>\n",
       "  </thead>\n",
       "  <tbody>\n",
       "    <tr>\n",
       "      <th>0</th>\n",
       "      <td>Nc1nc(CCNc2ccccc2)cc(-c2c[nH]c3cccc(Br)c23)n1</td>\n",
       "      <td>*c1cnc(N)nc1-c1c[nH]c2cccc(Br)c12 *CCN* *c1ccccc1</td>\n",
       "      <td>3</td>\n",
       "    </tr>\n",
       "    <tr>\n",
       "      <th>1</th>\n",
       "      <td>COc1ccc(NC(C)OC2OC(C)CC(N(C)C)C2O)c2sc(NC(=O)c...</td>\n",
       "      <td>*N(CC)c1ccc(OC)c2nc(NC(=O)c3cnn(Cc4cccc(C(F)(F...</td>\n",
       "      <td>2</td>\n",
       "    </tr>\n",
       "    <tr>\n",
       "      <th>2</th>\n",
       "      <td>CCCCCCCC(C)CCNC1CCC2C3CC(=O)OC(C)(CCCCC#N)C3CC...</td>\n",
       "      <td>*=CCCCCCCCC *CCN* *C1CCC2C3CC(=O)OC(C)(CCCCC#N...</td>\n",
       "      <td>3</td>\n",
       "    </tr>\n",
       "    <tr>\n",
       "      <th>3</th>\n",
       "      <td>CCCCCCCC(C)CCNN1C2=NCCN2C(=O)c2[nH]c(Br)nc21</td>\n",
       "      <td>*=CCCCCCCCC *CCN* *N1C2=NCCN2C(=O)c2[nH]c(Br)nc21</td>\n",
       "      <td>3</td>\n",
       "    </tr>\n",
       "    <tr>\n",
       "      <th>4</th>\n",
       "      <td>CCCCCCCC(C)CCNNC(=O)S(=O)(=O)c1ccc(Nc2nc(-c3cc...</td>\n",
       "      <td>*=CCCCCCCCC *CCN* *NC(*)=O *S(=O)(=O)c1ccc(Nc2...</td>\n",
       "      <td>4</td>\n",
       "    </tr>\n",
       "    <tr>\n",
       "      <th>...</th>\n",
       "      <td>...</td>\n",
       "      <td>...</td>\n",
       "      <td>...</td>\n",
       "    </tr>\n",
       "    <tr>\n",
       "      <th>98</th>\n",
       "      <td>CC(O)CCNc1ccc(CC(NC(=O)C(C)(C)N)C(=O)N2CCCC2c2...</td>\n",
       "      <td>*OCC *CCN* *c1ccc(CC(NC(=O)C(C)(C)N)C(=O)N2CCC...</td>\n",
       "      <td>3</td>\n",
       "    </tr>\n",
       "    <tr>\n",
       "      <th>99</th>\n",
       "      <td>CCCCCCCC(C)CCNc1cc(C)c(NC(=O)C(C)(O)C(F)(F)F)c...</td>\n",
       "      <td>*=CCCCCCCCC *CCN* *c1cc(C)c(NC(=O)C(C)(O)C(F)(...</td>\n",
       "      <td>3</td>\n",
       "    </tr>\n",
       "    <tr>\n",
       "      <th>100</th>\n",
       "      <td>CC1CC(N(C)C)C(O)C(Oc2cccc(OC(=O)c3ccc4nsnc4c3)...</td>\n",
       "      <td>*c1ccc(OC(=O)c2ccc3nsnc3c2)cc1 *OC1OC(C)CC(N(C...</td>\n",
       "      <td>2</td>\n",
       "    </tr>\n",
       "    <tr>\n",
       "      <th>101</th>\n",
       "      <td>CCCCCCCC(C)CCNN1C(=O)C(CC(=O)NCc2ccc(OC)c(OC)c...</td>\n",
       "      <td>*=CCCCCCCCC *CCN* *N1C(=O)C(CC(=O)NCc2ccc(OC)c...</td>\n",
       "      <td>3</td>\n",
       "    </tr>\n",
       "    <tr>\n",
       "      <th>102</th>\n",
       "      <td>CC(CCC(=O)Nc1ccc(N(C)C(=S)NC(=O)c2ccc(C(C)(C)C...</td>\n",
       "      <td>*CCCCC(=O)Nc1ccc(N(C)C(=S)NC(=O)c2ccc(C(C)(C)C...</td>\n",
       "      <td>2</td>\n",
       "    </tr>\n",
       "  </tbody>\n",
       "</table>\n",
       "<p>103 rows × 3 columns</p>\n",
       "</div>"
      ],
      "text/plain": [
       "                                                smiles  \\\n",
       "0        Nc1nc(CCNc2ccccc2)cc(-c2c[nH]c3cccc(Br)c23)n1   \n",
       "1    COc1ccc(NC(C)OC2OC(C)CC(N(C)C)C2O)c2sc(NC(=O)c...   \n",
       "2    CCCCCCCC(C)CCNC1CCC2C3CC(=O)OC(C)(CCCCC#N)C3CC...   \n",
       "3         CCCCCCCC(C)CCNN1C2=NCCN2C(=O)c2[nH]c(Br)nc21   \n",
       "4    CCCCCCCC(C)CCNNC(=O)S(=O)(=O)c1ccc(Nc2nc(-c3cc...   \n",
       "..                                                 ...   \n",
       "98   CC(O)CCNc1ccc(CC(NC(=O)C(C)(C)N)C(=O)N2CCCC2c2...   \n",
       "99   CCCCCCCC(C)CCNc1cc(C)c(NC(=O)C(C)(O)C(F)(F)F)c...   \n",
       "100  CC1CC(N(C)C)C(O)C(Oc2cccc(OC(=O)c3ccc4nsnc4c3)...   \n",
       "101  CCCCCCCC(C)CCNN1C(=O)C(CC(=O)NCc2ccc(OC)c(OC)c...   \n",
       "102  CC(CCC(=O)Nc1ccc(N(C)C(=S)NC(=O)c2ccc(C(C)(C)C...   \n",
       "\n",
       "                                                  frag  n_frag  \n",
       "0    *c1cnc(N)nc1-c1c[nH]c2cccc(Br)c12 *CCN* *c1ccccc1       3  \n",
       "1    *N(CC)c1ccc(OC)c2nc(NC(=O)c3cnn(Cc4cccc(C(F)(F...       2  \n",
       "2    *=CCCCCCCCC *CCN* *C1CCC2C3CC(=O)OC(C)(CCCCC#N...       3  \n",
       "3    *=CCCCCCCCC *CCN* *N1C2=NCCN2C(=O)c2[nH]c(Br)nc21       3  \n",
       "4    *=CCCCCCCCC *CCN* *NC(*)=O *S(=O)(=O)c1ccc(Nc2...       4  \n",
       "..                                                 ...     ...  \n",
       "98   *OCC *CCN* *c1ccc(CC(NC(=O)C(C)(C)N)C(=O)N2CCC...       3  \n",
       "99   *=CCCCCCCCC *CCN* *c1cc(C)c(NC(=O)C(C)(O)C(F)(...       3  \n",
       "100  *c1ccc(OC(=O)c2ccc3nsnc3c2)cc1 *OC1OC(C)CC(N(C...       2  \n",
       "101  *=CCCCCCCCC *CCN* *N1C(=O)C(CC(=O)NCc2ccc(OC)c...       3  \n",
       "102  *CCCCC(=O)Nc1ccc(N(C)C(=S)NC(=O)c2ccc(C(C)(C)C...       2  \n",
       "\n",
       "[103 rows x 3 columns]"
      ]
     },
     "execution_count": 15,
     "metadata": {},
     "output_type": "execute_result"
    }
   ],
   "source": [
    "df_samples"
   ]
  },
  {
   "cell_type": "markdown",
   "id": "976c7bb6",
   "metadata": {},
   "source": [
    "## Preprocess"
   ]
  },
  {
   "cell_type": "code",
   "execution_count": 16,
   "id": "d1b3e243",
   "metadata": {},
   "outputs": [],
   "source": [
    "def _ordered_dict(lst):\n",
    "    return OrderedDict(zip(lst, [0] * len(lst)))\n",
    "\n",
    "def count_atoms(mol, atomlist):\n",
    "    count = _ordered_dict(atomlist)\n",
    "    if mol:\n",
    "        for atom in mol.GetAtoms():\n",
    "            symbol = atom.GetSymbol()\n",
    "            if symbol not in count:\n",
    "                count[\"Other\"] += 1\n",
    "            else:\n",
    "                count[symbol] += 1\n",
    "    return count\n",
    "\n",
    "def count_bonds(mol, bondlist):\n",
    "    count = _ordered_dict(bondlist)\n",
    "    if mol:\n",
    "        mol = copy.deepcopy(mol)\n",
    "        Chem.Kekulize(mol, clearAromaticFlags=True)\n",
    "        for bond in mol.GetBonds():\n",
    "            count[str(bond.GetBondType())] += 1\n",
    "    return count\n",
    "\n",
    "def count_rings(mol, ringlist):\n",
    "    ring_sizes = {i: r for (i, r) in zip(range(3, 7), ringlist)}\n",
    "    count = _ordered_dict(ringlist)\n",
    "    if mol:\n",
    "        ring_info = Chem.GetSymmSSSR(mol)\n",
    "        for ring in ring_info:\n",
    "            ring_length = len(list(ring))\n",
    "            if ring_length in ring_sizes:\n",
    "                ring_name = ring_sizes[ring_length]\n",
    "                count[ring_name] += 1\n",
    "    return count\n",
    "\n",
    "def logp(mol):\n",
    "    return Crippen.MolLogP(mol) if mol else None\n",
    "\n",
    "def mr(mol):\n",
    "    return Crippen.MolMR(mol) if mol else None\n",
    "\n",
    "def qed(mol):\n",
    "    return QED.qed(mol) if mol else None\n",
    "\n",
    "def sas(mol):\n",
    "    return calculateScore(mol) if mol else None\n",
    "\n",
    "def add_property(dataset, name):\n",
    "    fn = {\"qed\": qed, \"SAS\": sas, \"logP\": logp, \"mr\": mr}[name]\n",
    "    smiles = dataset.smiles.tolist()\n",
    "    mols = mols_from_smiles(smiles)\n",
    "    prop = [fn(mol) for mol in mols]\n",
    "    new_data = pd.DataFrame(prop, columns=[name])\n",
    "    return pd.concat([dataset, new_data], axis=1, sort=False)\n",
    "\n",
    "def break_into_fragments(mol, smi):\n",
    "    frags = fragment_iterative(mol)\n",
    "\n",
    "    if len(frags) == 0:\n",
    "        return smi, np.nan, 0\n",
    "\n",
    "    if len(frags) == 1:\n",
    "        return smi, smi, 1\n",
    "\n",
    "    rec, frags = reconstruct(frags)\n",
    "    if rec and mol_to_smiles(rec) == smi:\n",
    "        fragments = mols_to_smiles(frags)\n",
    "        return smi, \" \".join(fragments), len(frags)\n",
    "\n",
    "    return smi, np.nan, 0\n",
    "\n",
    "def add_fragments(dataset):\n",
    "    smiles = dataset.smiles.tolist()\n",
    "    mols = mols_from_smiles(smiles)\n",
    "    results = [break_into_fragments(m, s) for m, s in zip(mols, smiles)]\n",
    "    smiles, fragments, lengths = zip(*results)\n",
    "    dataset[\"smiles\"] = smiles\n",
    "    dataset[\"fragments\"] = fragments\n",
    "    dataset[\"n_fragments\"] = lengths\n",
    "    \n",
    "    return dataset\n",
    "\n",
    "atomlist = [\n",
    "        \"C\",\n",
    "        \"F\",\n",
    "        \"N\",\n",
    "        \"O\",\n",
    "        \"Other\"]\n",
    "bondlist =  [\n",
    "        \"SINGLE\",\n",
    "        \"DOUBLE\",\n",
    "        \"TRIPLE\"\n",
    "    ]\n",
    "ringlist = [\n",
    "        \"Tri\",\n",
    "        \"Quad\",\n",
    "        \"Pent\",\n",
    "        \"Hex\"\n",
    "    ]\n",
    "properties = [\n",
    "    \"qed\",\n",
    "    \"logP\",\n",
    "    \"SAS\",\n",
    "    \"mr\"\n",
    "]"
   ]
  },
  {
   "cell_type": "code",
   "execution_count": 17,
   "id": "fd41184c",
   "metadata": {},
   "outputs": [
    {
     "name": "stdout",
     "output_type": "stream",
     "text": [
      "Canonicalizing ...\n",
      "Adding atom count ...\n",
      "Adding bond count ...\n",
      "Adding ring count ...\n",
      "Adding properties ...\n",
      "Adding fragments ...\n",
      "0 *CCCCC#N *C1(C)OC(=O)CC2C1CCC1(C)C(NCCC(C)CCCCCCC)CCC21\n",
      "0 CCCCCCCC(C)CCNC1CCC2C3CC(=O)OC(C)(CCCCC#N)C3CCC12C\n",
      "0 *CCCC *CCCC(C)CCNC12CCC(C(=C)C)C1C1CCC3C4(C)CC(OC(=O)c5ccc(O)cc5)C(O)C(C)(C)C4CCC3(C)C1(C)CC2\n",
      "0 C=C(C)C1CCC2(NCCC(C)CCCCCCC)CCC3(C)C(CCC4C5(C)CC(OC(=O)c6ccc(O)cc6)C(O)C(C)(C)C5CCC43C)C12\n",
      "0 *NCc1cc(*)cc(C(F)(F)F)c1 *C(=O)C(CCNCCC(C)O)C(C)O\n",
      "0 *c1cc(CNC(=O)C(CCNCCC(C)O)C(C)O)cc(C(F)(F)F)c1\n",
      "1 *C(F)(F)F *c1cc(CNC(=O)C(CCNCCC(C)O)C(C)O)cc(C(F)(F)F)c1\n",
      "1 CC(O)CCNCCC(C(=O)NCc1cc(C(F)(F)F)cc(C(F)(F)F)c1)C(C)O\n",
      "0 *c1ccc(OC)c(OC)c1 *CC(Nc1ccc(C#N)c2ccccc12)C(=O)NC(CC)(CC)CNCCC(C)CCCCCCC\n",
      "0 CCCCCCCC(C)CCNCC(CC)(CC)NC(=O)C(Cc1ccc(OC)c(OC)c1)Nc1ccc(C#N)c2ccccc12\n",
      "0 *c1ccccc1C(=O)NC(Cc1c[nH]cn1)C(=O)OC *c1ccccc1C(=O)NC(CNCCC(C)CCCCCCC)C(=O)OC\n",
      "0 CCCCCCCC(C)CCNCC(NC(=O)c1ccccc1-c1ccccc1C(=O)NC(Cc1c[nH]cn1)C(=O)OC)C(=O)OC\n",
      "0 *c1cc(F)cc(F)c1 *C(=O)N1CCC(c2ncc(CNCCC(C)CCCCCCC)[nH]2)C1\n",
      "0 CCCCCCCC(C)CCNCc1cnc(C2CCN(C(=O)c3cc(F)cc(F)c3)C2)[nH]1\n",
      "0 *C1CCCCCC1 *Nc1ncnc2[nH]c3ccc(NCCC(C)CCCCCCC)cc3c12\n",
      "0 CCCCCCCC(C)CCNc1ccc2[nH]c3ncnc(NC4CCCCCC4)c3c2c1\n",
      "0 *NCCC(C)O *c1nnc(SCc2ccc(C)cc2)n1Cc1ccc(NC(=O)c2ccccc2C(=O)O)cc1\n",
      "0 Cc1ccc(CSc2nnc(NCCC(C)O)n2Cc2ccc(NC(=O)c3ccccc3C(=O)O)cc2)cc1\n",
      "0 *CCN1CCOCC1 *CCOc1c(OC)cc2oc(NCCC(C)CCCCCCC)cc(=O)c2c1O\n",
      "0 CCCCCCCC(C)CCNc1cc(=O)c2c(O)c(OCCCCN3CCOCC3)c(OC)cc2o1\n",
      "0 *S(=O)(=O)Cc1cccc(I)c1 *N1CCc2cc(OC)c(NCCC(C)CCCCCCC)cc21\n",
      "0 CCCCCCCC(C)CCNc1cc2c(cc1OC)CCN2S(=O)(=O)Cc1cccc(I)c1\n",
      "0 *CCNc1ccccc1 *OCc1cn(Cc2ccc(F)cc2)c2ccccc12\n",
      "0 Fc1ccc(Cn2cc(COCCNc3ccccc3)c3ccccc32)cc1\n",
      "0 *Cc1cccnc1 *n1c(NCCC(C)O)nc2c1C(=O)N(C)C1=NC3CCCC3N12\n",
      "0 CC(O)CCNc1nc2c(n1Cc1cccnc1)C(=O)N(C)C1=NC3CCCC3N12\n",
      "0 *c1sc(-c2ccncc2)nc1C(N)=O *N=C(O)c1ccc(CNCCNCCC(C)CCCCCCC)cc1\n",
      "0 CCCCCCCC(C)CCNCCNCc1ccc(C(O)=Nc2sc(-c3ccncc3)nc2C(N)=O)cc1\n",
      "0 *N(C)C *C1CC(C)OC(Oc2ccc(OC)nc2OC)C1O\n",
      "0 COc1ccc(OC2OC(C)CC(N(C)C)C2O)c(OC)n1\n",
      "0 *Cc1cc(Cl)ccc1OCc1ccc(F)cc1Cl *c1cccc(NCCC(C)O)n1\n",
      "0 CC(O)CCNc1cccc(Cc2cc(Cl)ccc2OCc2ccc(F)cc2Cl)n1\n",
      "0 *CCN1CCOCC1 *Sc1nnc(-c2cccnc2SCNCCC(C)CCCCCCC)o1\n",
      "0 CCCCCCCC(C)CCNCSc1ncccc1-c1nnc(SCCN2CCOCC2)o1\n",
      "0 *S(=O)(=O)c1cc2c(cc1C)NC(=O)CO2 *C(C)CC(=O)N1CCN(C(=O)NCCC(C)CCCCCCC)CC1\n",
      "0 CCCCCCCC(C)CCNC(=O)N1CCN(C(=O)CC(C)S(=O)(=O)c2cc3c(cc2C)NC(=O)CO3)CC1\n",
      "0 *OC1=NCCN1 *Cc1ccccc1C(=O)NC(C)CCCCCCC\n",
      "0 CCCCCCCC(C)NC(=O)c1ccccc1COC1=NCCN1\n",
      "0 *C(=O)C(*)NC(=O)C(C)(C)N *Cc1ccc(NCCC(C)O)cc1\n",
      "0 *C(=O)C(Cc1ccc(NCCC(C)O)cc1)NC(=O)C(C)(C)N\n",
      "1 *N1CCCC1c1nc2cc(Cl)c(Cl)cc2[nH]1 *C(=O)C(Cc1ccc(NCCC(C)O)cc1)NC(=O)C(C)(C)N\n",
      "1 CC(O)CCNc1ccc(CC(NC(=O)C(C)(C)N)C(=O)N2CCCC2c2nc3cc(Cl)c(Cl)cc3[nH]2)cc1\n",
      "0 *C(F)(F)F *C(C)(O)C(=O)Nc1c(C)cc(NCCC(C)CCCCCCC)cc1C\n",
      "0 CCCCCCCC(C)CCNc1cc(C)c(NC(=O)C(C)(O)C(F)(F)F)c(C)c1\n",
      "0 *C(=S)NC(=O)c1ccc(C(C)(C)C)cc1 *N(C)c1ccc(NC(=O)CCC(C)OC2OC(C)CC(N(C)C)C2O)cc1\n",
      "0 CC(CCC(=O)Nc1ccc(N(C)C(=S)NC(=O)c2ccc(C(C)(C)C)cc2)cc1)OC1OC(C)CC(N(C)C)C1O\n",
      "0 *CCCCC#N *C1(C)OC(=O)CC2C1CCC1(C)C(NCCC(C)CCCCCCC)CCC21\n",
      "0 CCCCCCCC(C)CCNC1CCC2C3CC(=O)OC(C)(CCCCC#N)C3CCC12C\n",
      "0 *CCCC *CCCC(C)CCNC12CCC(C(=C)C)C1C1CCC3C4(C)CC(OC(=O)c5ccc(O)cc5)C(O)C(C)(C)C4CCC3(C)C1(C)CC2\n",
      "0 C=C(C)C1CCC2(NCCC(C)CCCCCCC)CCC3(C)C(CCC4C5(C)CC(OC(=O)c6ccc(O)cc6)C(O)C(C)(C)C5CCC43C)C12\n",
      "0 *NCc1cc(*)cc(C(F)(F)F)c1 *C(=O)C(CCNCCC(C)O)C(C)O\n",
      "0 *c1cc(CNC(=O)C(CCNCCC(C)O)C(C)O)cc(C(F)(F)F)c1\n",
      "1 *C(F)(F)F *c1cc(CNC(=O)C(CCNCCC(C)O)C(C)O)cc(C(F)(F)F)c1\n",
      "1 CC(O)CCNCCC(C(=O)NCc1cc(C(F)(F)F)cc(C(F)(F)F)c1)C(C)O\n",
      "0 *c1ccc(OC)c(OC)c1 *CC(Nc1ccc(C#N)c2ccccc12)C(=O)NC(CC)(CC)CNCCC(C)CCCCCCC\n",
      "0 CCCCCCCC(C)CCNCC(CC)(CC)NC(=O)C(Cc1ccc(OC)c(OC)c1)Nc1ccc(C#N)c2ccccc12\n",
      "0 *c1ccccc1C(=O)NC(Cc1c[nH]cn1)C(=O)OC *c1ccccc1C(=O)NC(CNCCC(C)CCCCCCC)C(=O)OC\n",
      "0 CCCCCCCC(C)CCNCC(NC(=O)c1ccccc1-c1ccccc1C(=O)NC(Cc1c[nH]cn1)C(=O)OC)C(=O)OC\n",
      "0 *c1cc(F)cc(F)c1 *C(=O)N1CCC(c2ncc(CNCCC(C)CCCCCCC)[nH]2)C1\n",
      "0 CCCCCCCC(C)CCNCc1cnc(C2CCN(C(=O)c3cc(F)cc(F)c3)C2)[nH]1\n",
      "0 *C1CCCCCC1 *Nc1ncnc2[nH]c3ccc(NCCC(C)CCCCCCC)cc3c12\n",
      "0 CCCCCCCC(C)CCNc1ccc2[nH]c3ncnc(NC4CCCCCC4)c3c2c1\n",
      "0 *NCCC(C)O *c1nnc(SCc2ccc(C)cc2)n1Cc1ccc(NC(=O)c2ccccc2C(=O)O)cc1\n",
      "0 Cc1ccc(CSc2nnc(NCCC(C)O)n2Cc2ccc(NC(=O)c3ccccc3C(=O)O)cc2)cc1\n",
      "0 *CCN1CCOCC1 *CCOc1c(OC)cc2oc(NCCC(C)CCCCCCC)cc(=O)c2c1O\n",
      "0 CCCCCCCC(C)CCNc1cc(=O)c2c(O)c(OCCCCN3CCOCC3)c(OC)cc2o1\n",
      "0 *S(=O)(=O)Cc1cccc(I)c1 *N1CCc2cc(OC)c(NCCC(C)CCCCCCC)cc21\n",
      "0 CCCCCCCC(C)CCNc1cc2c(cc1OC)CCN2S(=O)(=O)Cc1cccc(I)c1\n",
      "0 *CCNc1ccccc1 *OCc1cn(Cc2ccc(F)cc2)c2ccccc12\n",
      "0 Fc1ccc(Cn2cc(COCCNc3ccccc3)c3ccccc32)cc1\n",
      "0 *Cc1cccnc1 *n1c(NCCC(C)O)nc2c1C(=O)N(C)C1=NC3CCCC3N12\n",
      "0 CC(O)CCNc1nc2c(n1Cc1cccnc1)C(=O)N(C)C1=NC3CCCC3N12\n",
      "0 *c1sc(-c2ccncc2)nc1C(N)=O *N=C(O)c1ccc(CNCCNCCC(C)CCCCCCC)cc1\n",
      "0 CCCCCCCC(C)CCNCCNCc1ccc(C(O)=Nc2sc(-c3ccncc3)nc2C(N)=O)cc1\n",
      "0 *N(C)C *C1CC(C)OC(Oc2ccc(OC)nc2OC)C1O\n",
      "0 COc1ccc(OC2OC(C)CC(N(C)C)C2O)c(OC)n1\n",
      "0 *Cc1cc(Cl)ccc1OCc1ccc(F)cc1Cl *c1cccc(NCCC(C)O)n1\n",
      "0 CC(O)CCNc1cccc(Cc2cc(Cl)ccc2OCc2ccc(F)cc2Cl)n1\n",
      "0 *CCN1CCOCC1 *Sc1nnc(-c2cccnc2SCNCCC(C)CCCCCCC)o1\n",
      "0 CCCCCCCC(C)CCNCSc1ncccc1-c1nnc(SCCN2CCOCC2)o1\n",
      "0 *S(=O)(=O)c1cc2c(cc1C)NC(=O)CO2 *C(C)CC(=O)N1CCN(C(=O)NCCC(C)CCCCCCC)CC1\n",
      "0 CCCCCCCC(C)CCNC(=O)N1CCN(C(=O)CC(C)S(=O)(=O)c2cc3c(cc2C)NC(=O)CO3)CC1\n",
      "0 *OC1=NCCN1 *Cc1ccccc1C(=O)NC(C)CCCCCCC\n",
      "0 CCCCCCCC(C)NC(=O)c1ccccc1COC1=NCCN1\n",
      "0 *C(=O)C(*)NC(=O)C(C)(C)N *Cc1ccc(NCCC(C)O)cc1\n",
      "0 *C(=O)C(Cc1ccc(NCCC(C)O)cc1)NC(=O)C(C)(C)N\n",
      "1 *N1CCCC1c1nc2cc(Cl)c(Cl)cc2[nH]1 *C(=O)C(Cc1ccc(NCCC(C)O)cc1)NC(=O)C(C)(C)N\n",
      "1 CC(O)CCNc1ccc(CC(NC(=O)C(C)(C)N)C(=O)N2CCCC2c2nc3cc(Cl)c(Cl)cc3[nH]2)cc1\n",
      "0 *C(F)(F)F *C(C)(O)C(=O)Nc1c(C)cc(NCCC(C)CCCCCCC)cc1C\n",
      "0 CCCCCCCC(C)CCNc1cc(C)c(NC(=O)C(C)(O)C(F)(F)F)c(C)c1\n",
      "0 *C(=S)NC(=O)c1ccc(C(C)(C)C)cc1 *N(C)c1ccc(NC(=O)CCC(C)OC2OC(C)CC(N(C)C)C2O)cc1\n",
      "0 CC(CCC(=O)Nc1ccc(N(C)C(=S)NC(=O)c2ccc(C(C)(C)C)cc2)cc1)OC1OC(C)CC(N(C)C)C1O\n"
     ]
    }
   ],
   "source": [
    "df = df_samples.drop_duplicates()\n",
    "df = df[~df.smiles.str.contains(\"\\.\")]\n",
    "smiles = df.smiles.tolist()\n",
    "print(\"Canonicalizing ...\")\n",
    "df.smiles = [canonicalize(smi, clear_stereo=True) for smi in smiles]\n",
    "df = df[df.smiles.notnull()].reset_index(drop=True)\n",
    "smiles = df.smiles.tolist()\n",
    "mols = mols_from_smiles(smiles)\n",
    "#add atom count\n",
    "print(\"Adding atom count ...\")\n",
    "counts = [count_atoms(mol, atomlist) for mol in mols]\n",
    "df = pd.concat([df, pd.DataFrame(counts)], axis=1, sort=False)\n",
    "#add bond count\n",
    "print(\"Adding bond count ...\")\n",
    "counts = [count_bonds(mol, bondlist) for mol in mols]\n",
    "df = pd.concat([df, pd.DataFrame(counts)], axis=1, sort=False)\n",
    "#add ring count\n",
    "print(\"Adding ring count ...\")\n",
    "counts = [count_rings(mol, ringlist) for mol in mols]\n",
    "df = pd.concat([df, pd.DataFrame(counts)], axis=1, sort=False)\n",
    "#add properties\n",
    "print(\"Adding properties ...\")\n",
    "for prop in properties:\n",
    "    if prop not in df.columns:\n",
    "        df = add_property(df, prop)\n",
    "#add fragments\n",
    "print(\"Adding fragments ...\")\n",
    "smiles = df.smiles.tolist()\n",
    "mols = mols_from_smiles(smiles)\n",
    "results = [break_into_fragments(m, s) for m, s in zip(mols, smiles)]\n",
    "smiles, fragments, lengths = zip(*results)\n",
    "df = add_fragments(df)\n",
    "#finalise and save dataset\n",
    "df = df[[\"smiles\",\"fragments\",\"n_fragments\",\"C\",\"F\",\"N\",\"O\",\"Other\",\"SINGLE\",\"DOUBLE\",\"TRIPLE\",\"Tri\",\"Quad\",\"Pent\",\"Hex\",\"logP\",\"mr\",\"qed\",\"SAS\"]]"
   ]
  },
  {
   "cell_type": "code",
   "execution_count": 18,
   "id": "16643942",
   "metadata": {},
   "outputs": [
    {
     "data": {
      "text/html": [
       "<div>\n",
       "<style scoped>\n",
       "    .dataframe tbody tr th:only-of-type {\n",
       "        vertical-align: middle;\n",
       "    }\n",
       "\n",
       "    .dataframe tbody tr th {\n",
       "        vertical-align: top;\n",
       "    }\n",
       "\n",
       "    .dataframe thead th {\n",
       "        text-align: right;\n",
       "    }\n",
       "</style>\n",
       "<table border=\"1\" class=\"dataframe\">\n",
       "  <thead>\n",
       "    <tr style=\"text-align: right;\">\n",
       "      <th></th>\n",
       "      <th>smiles</th>\n",
       "      <th>fragments</th>\n",
       "      <th>n_fragments</th>\n",
       "      <th>C</th>\n",
       "      <th>F</th>\n",
       "      <th>N</th>\n",
       "      <th>O</th>\n",
       "      <th>Other</th>\n",
       "      <th>SINGLE</th>\n",
       "      <th>DOUBLE</th>\n",
       "      <th>TRIPLE</th>\n",
       "      <th>Tri</th>\n",
       "      <th>Quad</th>\n",
       "      <th>Pent</th>\n",
       "      <th>Hex</th>\n",
       "      <th>logP</th>\n",
       "      <th>mr</th>\n",
       "      <th>qed</th>\n",
       "      <th>SAS</th>\n",
       "    </tr>\n",
       "  </thead>\n",
       "  <tbody>\n",
       "    <tr>\n",
       "      <th>0</th>\n",
       "      <td>Nc1nc(CCNc2ccccc2)cc(-c2c[nH]c3cccc(Br)c23)n1</td>\n",
       "      <td>*c1cc(-c2c[nH]c3cccc(Br)c23)nc(N)n1 *CCNc1ccccc1</td>\n",
       "      <td>2</td>\n",
       "      <td>20</td>\n",
       "      <td>0</td>\n",
       "      <td>5</td>\n",
       "      <td>0</td>\n",
       "      <td>1</td>\n",
       "      <td>19</td>\n",
       "      <td>10</td>\n",
       "      <td>0</td>\n",
       "      <td>0</td>\n",
       "      <td>0</td>\n",
       "      <td>1</td>\n",
       "      <td>3</td>\n",
       "      <td>4.62420</td>\n",
       "      <td>110.0728</td>\n",
       "      <td>0.450180</td>\n",
       "      <td>2.468046</td>\n",
       "    </tr>\n",
       "    <tr>\n",
       "      <th>1</th>\n",
       "      <td>COc1ccc(NC(C)OC2OC(C)CC(N(C)C)C2O)c2sc(NC(=O)c...</td>\n",
       "      <td>*c1ccc(OC)c2nc(NC(=O)c3cnn(Cc4cccc(C(F)(F)F)c4...</td>\n",
       "      <td>2</td>\n",
       "      <td>30</td>\n",
       "      <td>3</td>\n",
       "      <td>6</td>\n",
       "      <td>5</td>\n",
       "      <td>1</td>\n",
       "      <td>39</td>\n",
       "      <td>10</td>\n",
       "      <td>0</td>\n",
       "      <td>0</td>\n",
       "      <td>0</td>\n",
       "      <td>2</td>\n",
       "      <td>3</td>\n",
       "      <td>5.02130</td>\n",
       "      <td>163.5017</td>\n",
       "      <td>0.203565</td>\n",
       "      <td>4.408425</td>\n",
       "    </tr>\n",
       "    <tr>\n",
       "      <th>2</th>\n",
       "      <td>CCCCCCCC(C)CCNC1CCC2C3CC(=O)OC(C)(CCCCC#N)C3CC...</td>\n",
       "      <td>*CCC(C)CCCCCCC *NC1CCC2C3CC(=O)OC(*)(C)C3CCC12...</td>\n",
       "      <td>3</td>\n",
       "      <td>30</td>\n",
       "      <td>0</td>\n",
       "      <td>2</td>\n",
       "      <td>2</td>\n",
       "      <td>0</td>\n",
       "      <td>34</td>\n",
       "      <td>1</td>\n",
       "      <td>1</td>\n",
       "      <td>0</td>\n",
       "      <td>0</td>\n",
       "      <td>1</td>\n",
       "      <td>2</td>\n",
       "      <td>7.56338</td>\n",
       "      <td>139.1877</td>\n",
       "      <td>0.209153</td>\n",
       "      <td>4.522808</td>\n",
       "    </tr>\n",
       "    <tr>\n",
       "      <th>3</th>\n",
       "      <td>CCCCCCCC(C)CCNN1C2=NCCN2C(=O)c2[nH]c(Br)nc21</td>\n",
       "      <td>NaN</td>\n",
       "      <td>0</td>\n",
       "      <td>18</td>\n",
       "      <td>0</td>\n",
       "      <td>6</td>\n",
       "      <td>1</td>\n",
       "      <td>1</td>\n",
       "      <td>24</td>\n",
       "      <td>4</td>\n",
       "      <td>0</td>\n",
       "      <td>0</td>\n",
       "      <td>0</td>\n",
       "      <td>2</td>\n",
       "      <td>1</td>\n",
       "      <td>3.69530</td>\n",
       "      <td>107.2649</td>\n",
       "      <td>0.560884</td>\n",
       "      <td>3.853803</td>\n",
       "    </tr>\n",
       "    <tr>\n",
       "      <th>4</th>\n",
       "      <td>CCCCCCCC(C)CCNNC(=O)S(=O)(=O)c1ccc(Nc2nc(-c3cc...</td>\n",
       "      <td>*c1ccc(S(=O)(=O)C(=O)NNCCC(C)CCCCCCC)cc1 *Nc1n...</td>\n",
       "      <td>2</td>\n",
       "      <td>33</td>\n",
       "      <td>0</td>\n",
       "      <td>4</td>\n",
       "      <td>3</td>\n",
       "      <td>2</td>\n",
       "      <td>31</td>\n",
       "      <td>14</td>\n",
       "      <td>0</td>\n",
       "      <td>0</td>\n",
       "      <td>0</td>\n",
       "      <td>1</td>\n",
       "      <td>3</td>\n",
       "      <td>8.59530</td>\n",
       "      <td>173.5879</td>\n",
       "      <td>0.092807</td>\n",
       "      <td>3.214234</td>\n",
       "    </tr>\n",
       "    <tr>\n",
       "      <th>...</th>\n",
       "      <td>...</td>\n",
       "      <td>...</td>\n",
       "      <td>...</td>\n",
       "      <td>...</td>\n",
       "      <td>...</td>\n",
       "      <td>...</td>\n",
       "      <td>...</td>\n",
       "      <td>...</td>\n",
       "      <td>...</td>\n",
       "      <td>...</td>\n",
       "      <td>...</td>\n",
       "      <td>...</td>\n",
       "      <td>...</td>\n",
       "      <td>...</td>\n",
       "      <td>...</td>\n",
       "      <td>...</td>\n",
       "      <td>...</td>\n",
       "      <td>...</td>\n",
       "      <td>...</td>\n",
       "    </tr>\n",
       "    <tr>\n",
       "      <th>98</th>\n",
       "      <td>CC(O)CCNc1ccc(CC(NC(=O)C(C)(C)N)C(=O)N2CCCC2c2...</td>\n",
       "      <td>*CCC(C)O *Cc1ccc(N*)cc1 *C(=O)C(*)NC(=O)C(C)(C...</td>\n",
       "      <td>4</td>\n",
       "      <td>28</td>\n",
       "      <td>0</td>\n",
       "      <td>6</td>\n",
       "      <td>3</td>\n",
       "      <td>2</td>\n",
       "      <td>33</td>\n",
       "      <td>9</td>\n",
       "      <td>0</td>\n",
       "      <td>0</td>\n",
       "      <td>0</td>\n",
       "      <td>2</td>\n",
       "      <td>2</td>\n",
       "      <td>4.18080</td>\n",
       "      <td>154.9323</td>\n",
       "      <td>0.246173</td>\n",
       "      <td>3.714788</td>\n",
       "    </tr>\n",
       "    <tr>\n",
       "      <th>99</th>\n",
       "      <td>CCCCCCCC(C)CCNc1cc(C)c(NC(=O)C(C)(O)C(F)(F)F)c...</td>\n",
       "      <td>*CCC(C)CCCCCCC *Nc1cc(C)c(NC(=O)C(*)(C)O)c(C)c...</td>\n",
       "      <td>3</td>\n",
       "      <td>23</td>\n",
       "      <td>3</td>\n",
       "      <td>2</td>\n",
       "      <td>2</td>\n",
       "      <td>0</td>\n",
       "      <td>26</td>\n",
       "      <td>4</td>\n",
       "      <td>0</td>\n",
       "      <td>0</td>\n",
       "      <td>0</td>\n",
       "      <td>0</td>\n",
       "      <td>1</td>\n",
       "      <td>6.35384</td>\n",
       "      <td>116.8712</td>\n",
       "      <td>0.338480</td>\n",
       "      <td>3.302625</td>\n",
       "    </tr>\n",
       "    <tr>\n",
       "      <th>100</th>\n",
       "      <td>CC1CC(N(C)C)C(O)C(Oc2cccc(OC(=O)c3ccc4nsnc4c3)...</td>\n",
       "      <td>*C1CC(C)OC(Oc2cccc(OC(=O)c3ccc4nsnc4c3)c2)C1O ...</td>\n",
       "      <td>2</td>\n",
       "      <td>21</td>\n",
       "      <td>0</td>\n",
       "      <td>3</td>\n",
       "      <td>5</td>\n",
       "      <td>1</td>\n",
       "      <td>25</td>\n",
       "      <td>8</td>\n",
       "      <td>0</td>\n",
       "      <td>0</td>\n",
       "      <td>0</td>\n",
       "      <td>1</td>\n",
       "      <td>3</td>\n",
       "      <td>2.71530</td>\n",
       "      <td>111.8773</td>\n",
       "      <td>0.488792</td>\n",
       "      <td>3.688774</td>\n",
       "    </tr>\n",
       "    <tr>\n",
       "      <th>101</th>\n",
       "      <td>CCCCCCCC(C)CCNN1C(=O)C(CC(=O)NCc2ccc(OC)c(OC)c...</td>\n",
       "      <td>*C1CC2(C(=O)OC)CCCCC=C2N(NCCC(C)CCCCCCC)C1=O *...</td>\n",
       "      <td>2</td>\n",
       "      <td>34</td>\n",
       "      <td>0</td>\n",
       "      <td>3</td>\n",
       "      <td>6</td>\n",
       "      <td>0</td>\n",
       "      <td>38</td>\n",
       "      <td>7</td>\n",
       "      <td>0</td>\n",
       "      <td>0</td>\n",
       "      <td>0</td>\n",
       "      <td>0</td>\n",
       "      <td>2</td>\n",
       "      <td>6.06720</td>\n",
       "      <td>167.1224</td>\n",
       "      <td>0.165447</td>\n",
       "      <td>4.047058</td>\n",
       "    </tr>\n",
       "    <tr>\n",
       "      <th>102</th>\n",
       "      <td>CC(CCC(=O)Nc1ccc(N(C)C(=S)NC(=O)c2ccc(C(C)(C)C...</td>\n",
       "      <td>*C(=O)CCC(C)OC1OC(C)CC(N(C)C)C1O *Nc1ccc(N(*)C...</td>\n",
       "      <td>3</td>\n",
       "      <td>32</td>\n",
       "      <td>0</td>\n",
       "      <td>4</td>\n",
       "      <td>5</td>\n",
       "      <td>1</td>\n",
       "      <td>35</td>\n",
       "      <td>9</td>\n",
       "      <td>0</td>\n",
       "      <td>0</td>\n",
       "      <td>0</td>\n",
       "      <td>0</td>\n",
       "      <td>3</td>\n",
       "      <td>4.68500</td>\n",
       "      <td>170.8957</td>\n",
       "      <td>0.357709</td>\n",
       "      <td>4.070061</td>\n",
       "    </tr>\n",
       "  </tbody>\n",
       "</table>\n",
       "<p>103 rows × 19 columns</p>\n",
       "</div>"
      ],
      "text/plain": [
       "                                                smiles  \\\n",
       "0        Nc1nc(CCNc2ccccc2)cc(-c2c[nH]c3cccc(Br)c23)n1   \n",
       "1    COc1ccc(NC(C)OC2OC(C)CC(N(C)C)C2O)c2sc(NC(=O)c...   \n",
       "2    CCCCCCCC(C)CCNC1CCC2C3CC(=O)OC(C)(CCCCC#N)C3CC...   \n",
       "3         CCCCCCCC(C)CCNN1C2=NCCN2C(=O)c2[nH]c(Br)nc21   \n",
       "4    CCCCCCCC(C)CCNNC(=O)S(=O)(=O)c1ccc(Nc2nc(-c3cc...   \n",
       "..                                                 ...   \n",
       "98   CC(O)CCNc1ccc(CC(NC(=O)C(C)(C)N)C(=O)N2CCCC2c2...   \n",
       "99   CCCCCCCC(C)CCNc1cc(C)c(NC(=O)C(C)(O)C(F)(F)F)c...   \n",
       "100  CC1CC(N(C)C)C(O)C(Oc2cccc(OC(=O)c3ccc4nsnc4c3)...   \n",
       "101  CCCCCCCC(C)CCNN1C(=O)C(CC(=O)NCc2ccc(OC)c(OC)c...   \n",
       "102  CC(CCC(=O)Nc1ccc(N(C)C(=S)NC(=O)c2ccc(C(C)(C)C...   \n",
       "\n",
       "                                             fragments  n_fragments   C  F  N  \\\n",
       "0     *c1cc(-c2c[nH]c3cccc(Br)c23)nc(N)n1 *CCNc1ccccc1            2  20  0  5   \n",
       "1    *c1ccc(OC)c2nc(NC(=O)c3cnn(Cc4cccc(C(F)(F)F)c4...            2  30  3  6   \n",
       "2    *CCC(C)CCCCCCC *NC1CCC2C3CC(=O)OC(*)(C)C3CCC12...            3  30  0  2   \n",
       "3                                                  NaN            0  18  0  6   \n",
       "4    *c1ccc(S(=O)(=O)C(=O)NNCCC(C)CCCCCCC)cc1 *Nc1n...            2  33  0  4   \n",
       "..                                                 ...          ...  .. .. ..   \n",
       "98   *CCC(C)O *Cc1ccc(N*)cc1 *C(=O)C(*)NC(=O)C(C)(C...            4  28  0  6   \n",
       "99   *CCC(C)CCCCCCC *Nc1cc(C)c(NC(=O)C(*)(C)O)c(C)c...            3  23  3  2   \n",
       "100  *C1CC(C)OC(Oc2cccc(OC(=O)c3ccc4nsnc4c3)c2)C1O ...            2  21  0  3   \n",
       "101  *C1CC2(C(=O)OC)CCCCC=C2N(NCCC(C)CCCCCCC)C1=O *...            2  34  0  3   \n",
       "102  *C(=O)CCC(C)OC1OC(C)CC(N(C)C)C1O *Nc1ccc(N(*)C...            3  32  0  4   \n",
       "\n",
       "     O  Other  SINGLE  DOUBLE  TRIPLE  Tri  Quad  Pent  Hex     logP  \\\n",
       "0    0      1      19      10       0    0     0     1    3  4.62420   \n",
       "1    5      1      39      10       0    0     0     2    3  5.02130   \n",
       "2    2      0      34       1       1    0     0     1    2  7.56338   \n",
       "3    1      1      24       4       0    0     0     2    1  3.69530   \n",
       "4    3      2      31      14       0    0     0     1    3  8.59530   \n",
       "..  ..    ...     ...     ...     ...  ...   ...   ...  ...      ...   \n",
       "98   3      2      33       9       0    0     0     2    2  4.18080   \n",
       "99   2      0      26       4       0    0     0     0    1  6.35384   \n",
       "100  5      1      25       8       0    0     0     1    3  2.71530   \n",
       "101  6      0      38       7       0    0     0     0    2  6.06720   \n",
       "102  5      1      35       9       0    0     0     0    3  4.68500   \n",
       "\n",
       "           mr       qed       SAS  \n",
       "0    110.0728  0.450180  2.468046  \n",
       "1    163.5017  0.203565  4.408425  \n",
       "2    139.1877  0.209153  4.522808  \n",
       "3    107.2649  0.560884  3.853803  \n",
       "4    173.5879  0.092807  3.214234  \n",
       "..        ...       ...       ...  \n",
       "98   154.9323  0.246173  3.714788  \n",
       "99   116.8712  0.338480  3.302625  \n",
       "100  111.8773  0.488792  3.688774  \n",
       "101  167.1224  0.165447  4.047058  \n",
       "102  170.8957  0.357709  4.070061  \n",
       "\n",
       "[103 rows x 19 columns]"
      ]
     },
     "execution_count": 18,
     "metadata": {},
     "output_type": "execute_result"
    }
   ],
   "source": [
    "df"
   ]
  },
  {
   "cell_type": "code",
   "execution_count": 19,
   "id": "7b954d41",
   "metadata": {},
   "outputs": [
    {
     "data": {
      "text/html": [
       "<div>\n",
       "<style scoped>\n",
       "    .dataframe tbody tr th:only-of-type {\n",
       "        vertical-align: middle;\n",
       "    }\n",
       "\n",
       "    .dataframe tbody tr th {\n",
       "        vertical-align: top;\n",
       "    }\n",
       "\n",
       "    .dataframe thead th {\n",
       "        text-align: right;\n",
       "    }\n",
       "</style>\n",
       "<table border=\"1\" class=\"dataframe\">\n",
       "  <thead>\n",
       "    <tr style=\"text-align: right;\">\n",
       "      <th></th>\n",
       "      <th>smiles</th>\n",
       "      <th>frag</th>\n",
       "      <th>n_frag</th>\n",
       "    </tr>\n",
       "  </thead>\n",
       "  <tbody>\n",
       "    <tr>\n",
       "      <th>0</th>\n",
       "      <td>Nc1nc(CCNc2ccccc2)cc(-c2c[nH]c3cccc(Br)c23)n1</td>\n",
       "      <td>*c1cnc(N)nc1-c1c[nH]c2cccc(Br)c12 *CCN* *c1ccccc1</td>\n",
       "      <td>3</td>\n",
       "    </tr>\n",
       "    <tr>\n",
       "      <th>1</th>\n",
       "      <td>COc1ccc(NC(C)OC2OC(C)CC(N(C)C)C2O)c2sc(NC(=O)c...</td>\n",
       "      <td>*N(CC)c1ccc(OC)c2nc(NC(=O)c3cnn(Cc4cccc(C(F)(F...</td>\n",
       "      <td>2</td>\n",
       "    </tr>\n",
       "    <tr>\n",
       "      <th>2</th>\n",
       "      <td>CCCCCCCC(C)CCNC1CCC2C3CC(=O)OC(C)(CCCCC#N)C3CC...</td>\n",
       "      <td>*=CCCCCCCCC *CCN* *C1CCC2C3CC(=O)OC(C)(CCCCC#N...</td>\n",
       "      <td>3</td>\n",
       "    </tr>\n",
       "    <tr>\n",
       "      <th>3</th>\n",
       "      <td>CCCCCCCC(C)CCNN1C2=NCCN2C(=O)c2[nH]c(Br)nc21</td>\n",
       "      <td>*=CCCCCCCCC *CCN* *N1C2=NCCN2C(=O)c2[nH]c(Br)nc21</td>\n",
       "      <td>3</td>\n",
       "    </tr>\n",
       "    <tr>\n",
       "      <th>4</th>\n",
       "      <td>CCCCCCCC(C)CCNNC(=O)S(=O)(=O)c1ccc(Nc2nc(-c3cc...</td>\n",
       "      <td>*=CCCCCCCCC *CCN* *NC(*)=O *S(=O)(=O)c1ccc(Nc2...</td>\n",
       "      <td>4</td>\n",
       "    </tr>\n",
       "    <tr>\n",
       "      <th>...</th>\n",
       "      <td>...</td>\n",
       "      <td>...</td>\n",
       "      <td>...</td>\n",
       "    </tr>\n",
       "    <tr>\n",
       "      <th>98</th>\n",
       "      <td>CC(O)CCNc1ccc(CC(NC(=O)C(C)(C)N)C(=O)N2CCCC2c2...</td>\n",
       "      <td>*OCC *CCN* *c1ccc(CC(NC(=O)C(C)(C)N)C(=O)N2CCC...</td>\n",
       "      <td>3</td>\n",
       "    </tr>\n",
       "    <tr>\n",
       "      <th>99</th>\n",
       "      <td>CCCCCCCC(C)CCNc1cc(C)c(NC(=O)C(C)(O)C(F)(F)F)c...</td>\n",
       "      <td>*=CCCCCCCCC *CCN* *c1cc(C)c(NC(=O)C(C)(O)C(F)(...</td>\n",
       "      <td>3</td>\n",
       "    </tr>\n",
       "    <tr>\n",
       "      <th>100</th>\n",
       "      <td>CC1CC(N(C)C)C(O)C(Oc2cccc(OC(=O)c3ccc4nsnc4c3)...</td>\n",
       "      <td>*c1ccc(OC(=O)c2ccc3nsnc3c2)cc1 *OC1OC(C)CC(N(C...</td>\n",
       "      <td>2</td>\n",
       "    </tr>\n",
       "    <tr>\n",
       "      <th>101</th>\n",
       "      <td>CCCCCCCC(C)CCNN1C(=O)C(CC(=O)NCc2ccc(OC)c(OC)c...</td>\n",
       "      <td>*=CCCCCCCCC *CCN* *N1C(=O)C(CC(=O)NCc2ccc(OC)c...</td>\n",
       "      <td>3</td>\n",
       "    </tr>\n",
       "    <tr>\n",
       "      <th>102</th>\n",
       "      <td>CC(CCC(=O)Nc1ccc(N(C)C(=S)NC(=O)c2ccc(C(C)(C)C...</td>\n",
       "      <td>*CCCCC(=O)Nc1ccc(N(C)C(=S)NC(=O)c2ccc(C(C)(C)C...</td>\n",
       "      <td>2</td>\n",
       "    </tr>\n",
       "  </tbody>\n",
       "</table>\n",
       "<p>103 rows × 3 columns</p>\n",
       "</div>"
      ],
      "text/plain": [
       "                                                smiles  \\\n",
       "0        Nc1nc(CCNc2ccccc2)cc(-c2c[nH]c3cccc(Br)c23)n1   \n",
       "1    COc1ccc(NC(C)OC2OC(C)CC(N(C)C)C2O)c2sc(NC(=O)c...   \n",
       "2    CCCCCCCC(C)CCNC1CCC2C3CC(=O)OC(C)(CCCCC#N)C3CC...   \n",
       "3         CCCCCCCC(C)CCNN1C2=NCCN2C(=O)c2[nH]c(Br)nc21   \n",
       "4    CCCCCCCC(C)CCNNC(=O)S(=O)(=O)c1ccc(Nc2nc(-c3cc...   \n",
       "..                                                 ...   \n",
       "98   CC(O)CCNc1ccc(CC(NC(=O)C(C)(C)N)C(=O)N2CCCC2c2...   \n",
       "99   CCCCCCCC(C)CCNc1cc(C)c(NC(=O)C(C)(O)C(F)(F)F)c...   \n",
       "100  CC1CC(N(C)C)C(O)C(Oc2cccc(OC(=O)c3ccc4nsnc4c3)...   \n",
       "101  CCCCCCCC(C)CCNN1C(=O)C(CC(=O)NCc2ccc(OC)c(OC)c...   \n",
       "102  CC(CCC(=O)Nc1ccc(N(C)C(=S)NC(=O)c2ccc(C(C)(C)C...   \n",
       "\n",
       "                                                  frag  n_frag  \n",
       "0    *c1cnc(N)nc1-c1c[nH]c2cccc(Br)c12 *CCN* *c1ccccc1       3  \n",
       "1    *N(CC)c1ccc(OC)c2nc(NC(=O)c3cnn(Cc4cccc(C(F)(F...       2  \n",
       "2    *=CCCCCCCCC *CCN* *C1CCC2C3CC(=O)OC(C)(CCCCC#N...       3  \n",
       "3    *=CCCCCCCCC *CCN* *N1C2=NCCN2C(=O)c2[nH]c(Br)nc21       3  \n",
       "4    *=CCCCCCCCC *CCN* *NC(*)=O *S(=O)(=O)c1ccc(Nc2...       4  \n",
       "..                                                 ...     ...  \n",
       "98   *OCC *CCN* *c1ccc(CC(NC(=O)C(C)(C)N)C(=O)N2CCC...       3  \n",
       "99   *=CCCCCCCCC *CCN* *c1cc(C)c(NC(=O)C(C)(O)C(F)(...       3  \n",
       "100  *c1ccc(OC(=O)c2ccc3nsnc3c2)cc1 *OC1OC(C)CC(N(C...       2  \n",
       "101  *=CCCCCCCCC *CCN* *N1C(=O)C(CC(=O)NCc2ccc(OC)c...       3  \n",
       "102  *CCCCC(=O)Nc1ccc(N(C)C(=S)NC(=O)c2ccc(C(C)(C)C...       2  \n",
       "\n",
       "[103 rows x 3 columns]"
      ]
     },
     "execution_count": 19,
     "metadata": {},
     "output_type": "execute_result"
    }
   ],
   "source": [
    "df_samples"
   ]
  },
  {
   "cell_type": "code",
   "execution_count": 20,
   "id": "f32d30a3",
   "metadata": {},
   "outputs": [
    {
     "name": "stderr",
     "output_type": "stream",
     "text": [
      "100%|██████████| 103/103 [00:00<00:00, 332317.93it/s]\n"
     ]
    }
   ],
   "source": [
    "fragment_list = []\n",
    "for frag in tqdm(df_samples.frag):\n",
    "    fragment_list.extend(frag.split())"
   ]
  },
  {
   "cell_type": "code",
   "execution_count": 21,
   "id": "d3ac8bf5",
   "metadata": {},
   "outputs": [],
   "source": [
    "fragment_counts = pd.Series(fragment_list).value_counts()\n",
    "frag_geq_80 = fragment_counts[(fragment_counts>=80) & (fragment_counts<100)]\n",
    "frag_geq_50 = fragment_counts[(fragment_counts>=50) & (fragment_counts<80)]\n",
    "frag_geq_10 = fragment_counts[(fragment_counts>=10) & (fragment_counts<50)]\n",
    "frag_geq_2 = fragment_counts[(fragment_counts>=2) & (fragment_counts<10)]\n",
    "frag_geq_1 = fragment_counts[fragment_counts==1]"
   ]
  },
  {
   "cell_type": "code",
   "execution_count": 22,
   "id": "e2d7e263",
   "metadata": {},
   "outputs": [
    {
     "name": "stdout",
     "output_type": "stream",
     "text": [
      "80 <= Unique fragments < 100 : 1, Total count of these fragments: 84\n",
      "50 <= Unique fragments < 80 : 0, Total count of these fragments: 0\n",
      "10 <= Unique fragments < 50 : 3, Total count of these fragments: 94\n",
      "2 <= Unique fragments < 10 : 3, Total count of these fragments: 13\n",
      "Unique fragments = 1 : 104, Total count of these fragments: 104\n"
     ]
    }
   ],
   "source": [
    "print('80 <= Unique fragments < 100 : %s, Total count of these fragments: %s'% (len(frag_geq_80),frag_geq_80.sum()))\n",
    "print('50 <= Unique fragments < 80 : %s, Total count of these fragments: %s'% (len(frag_geq_50),frag_geq_50.sum()))\n",
    "print('10 <= Unique fragments < 50 : %s, Total count of these fragments: %s'% (len(frag_geq_10),frag_geq_10.sum()))\n",
    "print('2 <= Unique fragments < 10 : %s, Total count of these fragments: %s'% (len(frag_geq_2),frag_geq_2.sum()))\n",
    "print('Unique fragments = 1 : %s, Total count of these fragments: %s'% (len(frag_geq_1),frag_geq_1.sum()))"
   ]
  },
  {
   "cell_type": "code",
   "execution_count": 23,
   "id": "1b670394",
   "metadata": {},
   "outputs": [],
   "source": [
    "df = df.dropna()"
   ]
  },
  {
   "cell_type": "code",
   "execution_count": 24,
   "id": "32441a67",
   "metadata": {},
   "outputs": [
    {
     "name": "stderr",
     "output_type": "stream",
     "text": [
      "100%|██████████| 100/100 [00:00<00:00, 471800.22it/s]\n"
     ]
    }
   ],
   "source": [
    "fragment_list_pre = []\n",
    "for frag in tqdm(df.fragments):\n",
    "    fragment_list.extend(frag.split())"
   ]
  },
  {
   "cell_type": "code",
   "execution_count": 25,
   "id": "c57b2f1c",
   "metadata": {},
   "outputs": [
    {
     "name": "stdout",
     "output_type": "stream",
     "text": [
      "80 <= Unique fragments < 100 : 1, Total count of these fragments: 84\n",
      "50 <= Unique fragments < 80 : 0, Total count of these fragments: 0\n",
      "10 <= Unique fragments < 50 : 5, Total count of these fragments: 134\n",
      "2 <= Unique fragments < 10 : 17, Total count of these fragments: 53\n",
      "Unique fragments = 1 : 244, Total count of these fragments: 244\n"
     ]
    }
   ],
   "source": [
    "fragment_counts = pd.Series(fragment_list).value_counts()\n",
    "frag_geq_80 = fragment_counts[(fragment_counts>=80) & (fragment_counts<100)]\n",
    "frag_geq_50 = fragment_counts[(fragment_counts>=50) & (fragment_counts<80)]\n",
    "frag_geq_10 = fragment_counts[(fragment_counts>=10) & (fragment_counts<50)]\n",
    "frag_geq_2 = fragment_counts[(fragment_counts>=2) & (fragment_counts<10)]\n",
    "frag_geq_1 = fragment_counts[fragment_counts==1]\n",
    "print('80 <= Unique fragments < 100 : %s, Total count of these fragments: %s'% (len(frag_geq_80),frag_geq_80.sum()))\n",
    "print('50 <= Unique fragments < 80 : %s, Total count of these fragments: %s'% (len(frag_geq_50),frag_geq_50.sum()))\n",
    "print('10 <= Unique fragments < 50 : %s, Total count of these fragments: %s'% (len(frag_geq_10),frag_geq_10.sum()))\n",
    "print('2 <= Unique fragments < 10 : %s, Total count of these fragments: %s'% (len(frag_geq_2),frag_geq_2.sum()))\n",
    "print('Unique fragments = 1 : %s, Total count of these fragments: %s'% (len(frag_geq_1),frag_geq_1.sum()))"
   ]
  },
  {
   "cell_type": "code",
   "execution_count": 26,
   "id": "014b618c",
   "metadata": {},
   "outputs": [],
   "source": [
    "class FragmentDatasetCls(Dataset):\n",
    "    \"\"\"Custom data.Dataset compatible with data.DataLoader.\"\"\"\n",
    "\n",
    "    def __init__(self, config, data):\n",
    "        \"\"\"Reads source and target sequences from csv files.\"\"\"\n",
    "        self.config = config\n",
    "        self.data = data.reset_index(drop=True)\n",
    "        self.size = self.data.shape[0]\n",
    "\n",
    "        self.vocab = None\n",
    "\n",
    "    def __getitem__(self, index):\n",
    "        \"\"\"Returns one data pair (source and target).\"\"\"\n",
    "        seq = self.data.fragments[index].split(\" \")\n",
    "        ### Teddy code\n",
    "        #print(self.data.fragments[index])\n",
    "        ###\n",
    "        seq = self.vocab.append_delimiters(seq)\n",
    "        src = self.vocab.translate(seq[:-1])\n",
    "        tgt = self.vocab.translate(seq[1:])\n",
    "        #return src, tgt\n",
    "        ### Teddy code\n",
    "        return src, tgt, index\n",
    "\n",
    "    def __len__(self):\n",
    "        return self.size\n",
    "\n",
    "    def get_loader(self):\n",
    "        start = time.time()\n",
    "        collator = DataCollator(self.vocab)\n",
    "        loader = DataLoader(dataset=self,\n",
    "                            collate_fn=collator,\n",
    "                            batch_size=self.config.get('batch_size'),\n",
    "                            num_workers=24,\n",
    "                            shuffle=True)\n",
    "        end = time.time() - start\n",
    "        elapsed = time.strftime(\"%H:%M:%S\", time.gmtime(end))\n",
    "        print(f'Data loaded. Size: {self.size}. '\n",
    "              f'Time elapsed: {elapsed}.')\n",
    "        return loader\n",
    "\n",
    "    def get_vocab(self):\n",
    "        start = time.time()\n",
    "        if self.vocab is None:\n",
    "            try:\n",
    "                self.vocab = Vocab.load(self.config)\n",
    "            except Exception:\n",
    "                self.vocab = Vocab(self.config, self.data)\n",
    "\n",
    "        end = time.time() - start\n",
    "        elapsed = time.strftime(\"%H:%M:%S\", time.gmtime(end))\n",
    "        print(f'Vocab created/loaded. '\n",
    "              f'Size: {self.vocab.get_size()}. '\n",
    "              f'Effective size: {self.vocab.get_effective_size()}. '\n",
    "              f'Time elapsed: {elapsed}.')\n",
    "\n",
    "        return self.vocab"
   ]
  },
  {
   "cell_type": "code",
   "execution_count": 27,
   "id": "3f1064ff",
   "metadata": {},
   "outputs": [],
   "source": [
    "class DataCollator:\n",
    "    def __init__(self, vocab):\n",
    "        self.vocab = vocab\n",
    "\n",
    "    def merge(self, sequences):\n",
    "        sequences = sorted(sequences, key=len, reverse=True)\n",
    "        lengths = [len(seq) for seq in sequences]\n",
    "        padded_seqs = np.full((len(sequences), max(lengths)), self.vocab.PAD)\n",
    "        for i, seq in enumerate(sequences):\n",
    "            end = lengths[i]\n",
    "            padded_seqs[i, :end] = seq[:end]\n",
    "        return torch.LongTensor(padded_seqs), lengths\n",
    "\n",
    "    def __call__(self, data):\n",
    "        # seperate source and target sequences\n",
    "        src_seqs, tgt_seqs, data_sample = zip(*data)\n",
    "\n",
    "        # merge sequences (from tuple of 1D tensor to 2D tensor)\n",
    "        src_seqs, src_lengths = self.merge(src_seqs)\n",
    "        tgt_seqs, tgt_lengths = self.merge(tgt_seqs)\n",
    "        #return src_seqs, tgt_seqs, src_lengths\n",
    "        ### Teddy Code\n",
    "        return src_seqs, tgt_seqs, src_lengths, data_sample"
   ]
  },
  {
   "cell_type": "code",
   "execution_count": 43,
   "id": "a49528ba",
   "metadata": {},
   "outputs": [
    {
     "name": "stdout",
     "output_type": "stream",
     "text": [
      "Training and clustering embeddings... Done. Time elapsed: 00:00:00.\n",
      "Data loaded. Size: 100. Time elapsed: 00:00:00.\n"
     ]
    }
   ],
   "source": [
    "dataset = FragmentDatasetCls(config, df)\n",
    "dataset.vocab = Vocab(config, df)\n",
    "loader = dataset.get_loader()"
   ]
  },
  {
   "cell_type": "code",
   "execution_count": 47,
   "id": "b5df75e3",
   "metadata": {},
   "outputs": [],
   "source": [
    "model = model.cuda()"
   ]
  },
  {
   "cell_type": "code",
   "execution_count": 49,
   "id": "c68ae18b",
   "metadata": {},
   "outputs": [
    {
     "name": "stdout",
     "output_type": "stream",
     "text": [
      "32\n"
     ]
    }
   ],
   "source": [
    "# Get the log p of all sampled molecules\n",
    "# re run the molecules in the encoder\n",
    "\n",
    "data_sample = []\n",
    "for idx, (src, tgt, lengths, data) in enumerate(loader):\n",
    "    \n",
    "    src, tgt = Variable(src), Variable(tgt)\n",
    "    if config.get('use_gpu'):\n",
    "        src = src.cuda()\n",
    "        tgt = tgt.cuda()\n",
    "\n",
    "    output, mu, sigma, z, pred = model.forward(src, lengths)\n",
    "    \n",
    "    model.encoder.rnn2mean.weight.size() == model.encoder.rnn2mean.weight.size()\n",
    "    \n",
    "    ###Teddy Code\n",
    "    data_sample.append(list(data))\n",
    "    if idx == 0:\n",
    "        mu_stack = mu\n",
    "        pred_stack = pred\n",
    "    else:\n",
    "        mu_stack = torch.cat((mu_stack, mu), 0)\n",
    "        pred_stack = torch.cat((pred_stack, pred), 0)\n",
    "    if idx == 0 or idx % 10000 == 0:\n",
    "        print(len(mu_stack))\n",
    "    if len(mu_stack) > 100000:\n",
    "        break\n",
    "        \n",
    "# plot box plot of log p property"
   ]
  },
  {
   "cell_type": "code",
   "execution_count": 51,
   "id": "1381f359",
   "metadata": {},
   "outputs": [
    {
     "data": {
      "text/plain": [
       "tensor([3.5775, 3.5759, 3.5759, 3.5757, 3.5979, 3.6380, 3.6447, 3.6499, 3.6295,\n",
       "        3.6380, 3.6574, 3.6373, 3.6447, 3.6447, 3.6364, 3.5948, 3.6363, 3.6366,\n",
       "        3.6366, 3.6366, 3.6374, 3.6369, 3.6370, 3.6371, 3.6369, 3.6369, 3.6370,\n",
       "        3.6369, 3.6370, 3.6370, 3.6371, 3.5629, 3.5757, 3.5759, 3.5758, 3.6295,\n",
       "        3.6364, 3.6642, 3.6364, 3.6719, 3.6316, 3.6295, 3.6380, 3.6447, 3.6372,\n",
       "        3.6372, 3.6576, 3.5953, 3.6366, 3.6366, 3.6366, 3.6369, 3.6371, 3.6369,\n",
       "        3.6371, 3.6370, 3.6370, 3.6369, 3.6369, 3.6370, 3.6370, 3.6370, 3.6370,\n",
       "        3.5629, 3.5758, 3.5756, 3.5759, 3.6295, 3.6376, 3.6316, 3.6447, 3.6574,\n",
       "        3.6364, 3.6380, 3.6373, 3.6373, 3.6295, 3.6405, 3.6447, 3.5948, 3.6366,\n",
       "        3.6366, 3.6366, 3.6369, 3.6370, 3.6370, 3.6370, 3.6370, 3.6370, 3.6369,\n",
       "        3.6369, 3.6369, 3.6369, 3.6370, 3.6370, 3.5629, 3.6295, 3.6373, 3.6369,\n",
       "        3.6369], device='cuda:0', grad_fn=<CatBackward0>)"
      ]
     },
     "execution_count": 51,
     "metadata": {},
     "output_type": "execute_result"
    }
   ],
   "source": [
    "pred_stack"
   ]
  },
  {
   "cell_type": "markdown",
   "id": "b0f17854",
   "metadata": {},
   "source": [
    "# Predict property with MLP"
   ]
  },
  {
   "cell_type": "code",
   "execution_count": 48,
   "id": "8424af93",
   "metadata": {},
   "outputs": [],
   "source": [
    "class MLP(nn.Module):\n",
    "    def __init__(self):\n",
    "        super(MLP, self).__init__()\n",
    "        self.layers = nn.Sequential(\n",
    "            nn.Linear(100, 64),\n",
    "            nn.ReLU(),\n",
    "            nn.Linear(64, 32),\n",
    "            nn.ReLU(),\n",
    "            nn.Linear(32, 1)\n",
    "        )\n",
    "        \n",
    "    def forward(self, x):\n",
    "        x = self.layers(x)\n",
    "        return x"
   ]
  },
  {
   "cell_type": "code",
   "execution_count": 49,
   "id": "8a255321",
   "metadata": {},
   "outputs": [],
   "source": [
    "data = dataset.data.iloc[data_sample_index]"
   ]
  },
  {
   "cell_type": "code",
   "execution_count": 50,
   "id": "396b9181",
   "metadata": {},
   "outputs": [],
   "source": [
    "labels = torch.tensor(data.logP.values)"
   ]
  },
  {
   "cell_type": "code",
   "execution_count": 51,
   "id": "a7fe9980",
   "metadata": {},
   "outputs": [],
   "source": [
    "MLP_model = MLP()"
   ]
  },
  {
   "cell_type": "code",
   "execution_count": 52,
   "id": "60a012f3",
   "metadata": {},
   "outputs": [],
   "source": [
    "optimizer = torch.optim.Adam(MLP_model.parameters(), lr=0.001)\n",
    "#loss_fn = F.mse_loss()\n",
    "latent_output_data = mu_stack"
   ]
  },
  {
   "cell_type": "code",
   "execution_count": 54,
   "id": "6fd82928",
   "metadata": {},
   "outputs": [
    {
     "data": {
      "text/plain": [
       "tensor([[ 1.4013e-45,  0.0000e+00,  5.1844e+22,  ...,  3.0803e-41,\n",
       "          5.1842e+22,  3.0803e-41],\n",
       "        [ 5.1843e+22,  3.0803e-41,  2.8026e-45,  ...,  1.3563e-19,\n",
       "          4.7431e+30,  1.7466e+19],\n",
       "        [ 2.9087e+32,  1.7220e+22,  1.6020e-19,  ...,  7.1831e+22,\n",
       "          1.6879e+25,  5.7010e-13],\n",
       "        ...,\n",
       "        [-1.0938e-03, -1.0665e-03, -9.9152e-04,  ...,  1.0645e-03,\n",
       "          1.0949e-03, -9.5291e-04],\n",
       "        [-1.0242e-03, -1.0672e-03, -9.7669e-04,  ...,  1.0509e-03,\n",
       "          9.8428e-04, -9.2889e-04],\n",
       "        [-1.2658e-03, -1.2170e-03, -1.0745e-03,  ...,  1.1769e-03,\n",
       "          1.1500e-03, -1.0849e-03]], device='cuda:0', grad_fn=<CatBackward0>)"
      ]
     },
     "execution_count": 54,
     "metadata": {},
     "output_type": "execute_result"
    }
   ],
   "source": [
    "latent_output_data"
   ]
  },
  {
   "cell_type": "code",
   "execution_count": 55,
   "id": "53d1eba5",
   "metadata": {},
   "outputs": [
    {
     "name": "stderr",
     "output_type": "stream",
     "text": [
      "<ipython-input-55-9b279a5281ab>:17: UserWarning: Using a target size (torch.Size([])) that is different to the input size (torch.Size([1])). This will likely lead to incorrect results due to broadcasting. Please ensure they have the same size.\n",
      "  loss = F.mse_loss(outputs.type(torch.float64), labels[i])\n"
     ]
    },
    {
     "name": "stdout",
     "output_type": "stream",
     "text": [
      "epoch : 1, train loss : nan\n",
      "epoch : 2, train loss : nan\n"
     ]
    },
    {
     "ename": "KeyboardInterrupt",
     "evalue": "",
     "output_type": "error",
     "traceback": [
      "\u001b[0;31m---------------------------------------------------------------------------\u001b[0m",
      "\u001b[0;31mKeyboardInterrupt\u001b[0m                         Traceback (most recent call last)",
      "Input \u001b[0;32mIn [55]\u001b[0m, in \u001b[0;36m<cell line: 6>\u001b[0;34m()\u001b[0m\n\u001b[1;32m     11\u001b[0m output_final \u001b[38;5;241m=\u001b[39m []\n\u001b[1;32m     12\u001b[0m \u001b[38;5;28;01mfor\u001b[39;00m i, (latent_data) \u001b[38;5;129;01min\u001b[39;00m \u001b[38;5;28menumerate\u001b[39m(latent_output_data[:\u001b[38;5;241m9984\u001b[39m]):\n\u001b[0;32m---> 14\u001b[0m     outputs \u001b[38;5;241m=\u001b[39m MLP_model(Variable(\u001b[43mlatent_data\u001b[49m\u001b[38;5;241;43m.\u001b[39;49m\u001b[43mcpu\u001b[49m\u001b[43m(\u001b[49m\u001b[43m)\u001b[49m))\n\u001b[1;32m     15\u001b[0m     \u001b[38;5;28;01mif\u001b[39;00m epoch \u001b[38;5;241m+\u001b[39m \u001b[38;5;241m1\u001b[39m \u001b[38;5;241m==\u001b[39m epochs:\n\u001b[1;32m     16\u001b[0m         output_final\u001b[38;5;241m.\u001b[39mappend(outputs\u001b[38;5;241m.\u001b[39mitem())\n",
      "\u001b[0;31mKeyboardInterrupt\u001b[0m: "
     ]
    }
   ],
   "source": [
    "mean_train_losses = []\n",
    "mean_valid_losses = []\n",
    "valid_acc_list = []\n",
    "epochs = 20\n",
    "\n",
    "for epoch in range(epochs):\n",
    "    MLP_model.train()\n",
    "    \n",
    "    train_losses = []\n",
    "    valid_losses = [] \n",
    "    output_final = []\n",
    "    for i, (latent_data) in enumerate(latent_output_data[:9984]):\n",
    "        \n",
    "        outputs = MLP_model(Variable(latent_data.cpu()))\n",
    "        if epoch + 1 == epochs:\n",
    "            output_final.append(outputs.item())\n",
    "        loss = F.mse_loss(outputs.type(torch.float64), labels[i])\n",
    "        #print(loss)\n",
    "        optimizer.zero_grad()\n",
    "        loss.backward()\n",
    "        optimizer.step()\n",
    "        \n",
    "        train_losses.append(loss.item())\n",
    "            \n",
    "    model.eval()\n",
    "    mean_train_losses.append(np.mean(train_losses))\n",
    "    print('epoch : {}, train loss : {:.4f}'\\\n",
    "         .format(epoch+1, np.mean(train_losses)))"
   ]
  },
  {
   "cell_type": "code",
   "execution_count": 43,
   "id": "91974178",
   "metadata": {},
   "outputs": [
    {
     "data": {
      "text/plain": [
       "torch.Size([100])"
      ]
     },
     "execution_count": 43,
     "metadata": {},
     "output_type": "execute_result"
    }
   ],
   "source": [
    "latent_data.size()"
   ]
  },
  {
   "cell_type": "code",
   "execution_count": 32,
   "id": "a25b18fa",
   "metadata": {},
   "outputs": [
    {
     "data": {
      "text/plain": [
       "tensor(0.9203, dtype=torch.float64)"
      ]
     },
     "execution_count": 32,
     "metadata": {},
     "output_type": "execute_result"
    }
   ],
   "source": [
    "labels[i]"
   ]
  },
  {
   "cell_type": "code",
   "execution_count": 31,
   "id": "b3f864c0",
   "metadata": {},
   "outputs": [
    {
     "data": {
      "image/png": "[encoded data removed]",
      "text/plain": [
       "<Figure size 864x720 with 1 Axes>"
      ]
     },
     "metadata": {
      "needs_background": "light"
     },
     "output_type": "display_data"
    }
   ],
   "source": [
    "plt.figure(figsize=(12, 10))\n",
    "plt.scatter( np.arange(len(output_final)),np.array(output_final))\n",
    "#plt.scatter( np.arange(len(labels.detach().numpy())),np.array(labels.detach().numpy()))\n",
    "plt.xlabel(\"index\")\n",
    "plt.ylabel(\"value\")\n",
    "#plt.xlim(100,200)\n",
    "plt.show()"
   ]
  },
  {
   "cell_type": "markdown",
   "id": "26fe4f86",
   "metadata": {},
   "source": [
    "# Plot Net"
   ]
  },
  {
   "cell_type": "code",
   "execution_count": 62,
   "id": "763ef6f3",
   "metadata": {},
   "outputs": [],
   "source": [
    "outputs, mu, sigma, z, pred = model(src, lengths)"
   ]
  },
  {
   "cell_type": "code",
   "execution_count": 63,
   "id": "113fe7f7",
   "metadata": {},
   "outputs": [
    {
     "data": {
      "text/plain": [
       "'frag_20_torchviz.png'"
      ]
     },
     "execution_count": 63,
     "metadata": {},
     "output_type": "execute_result"
    }
   ],
   "source": [
    "from torchviz import make_dot\n",
    "\n",
    "make_dot(outputs, params=dict(list(model.named_parameters()))).render(\"frag_20_torchviz\", format=\"png\")"
   ]
  },
  {
   "cell_type": "markdown",
   "id": "59e7c072",
   "metadata": {},
   "source": [
    "# Property Predictor"
   ]
  },
  {
   "cell_type": "code",
   "execution_count": null,
   "id": "71470c73",
   "metadata": {},
   "outputs": [],
   "source": []
  }
 ],
 "metadata": {
  "kernelspec": {
   "display_name": "Python 3",
   "language": "python",
   "name": "python3"
  },
  "language_info": {
   "codemirror_mode": {
    "name": "ipython",
    "version": 3
   },
   "file_extension": ".py",
   "mimetype": "text/x-python",
   "name": "python",
   "nbconvert_exporter": "python",
   "pygments_lexer": "ipython3",
   "version": "3.9.12"
  }
 },
 "nbformat": 4,
 "nbformat_minor": 5
}
